{
 "cells": [
  {
   "cell_type": "markdown",
   "metadata": {},
   "source": [
    "# 🔧 문장 순서 예측 전처리 노트북\n",
    "- Pairwise 방식용 CSV 생성\n",
    "- Seq2Seq 방식용 JSON 생성\n",
    "- 저장 경로: `data/cleaned_pairwise/`, `data/cleaned_seq2seq/`"
   ]
  },
  {
   "cell_type": "code",
   "execution_count": null,
   "metadata": {},
   "outputs": [],
   "source": [
    "import pandas as pd\n",
    "import random\n",
    "import json\n",
    "from itertools import permutations\n",
    "from tqdm.notebook import tqdm\n",
    "import os\n",
    "\n",
    "def seed_everything(seed=42):\n",
    "    import numpy as np\n",
    "    import torch\n",
    "    random.seed(seed)\n",
    "    np.random.seed(seed)\n",
    "    torch.manual_seed(seed)\n",
    "    torch.cuda.manual_seed_all(seed)\n",
    "    print(f\"Seed set to {seed}\")\n",
    "\n",
    "seed_everything(42)"
   ]
  },
  {
   "cell_type": "code",
   "execution_count": null,
   "metadata": {},
   "outputs": [],
   "source": [
    "# 데이터 로드\n",
    "df = pd.read_csv(\"../data/train.csv\")  # 형식: sentences (list), orders (list)\n",
    "df.head()"
   ]
  },
  {
   "cell_type": "markdown",
   "metadata": {},
   "source": [
    "## ✅ Pairwise 학습용 데이터 생성"
   ]
  },
  {
   "cell_type": "code",
   "execution_count": null,
   "metadata": {},
   "outputs": [],
   "source": [
    "pairwise_rows = []\n",
    "\n",
    "for _, row in tqdm(df.iterrows(), total=len(df)):\n",
    "    sentences = eval(row['sentences'])\n",
    "    order = eval(row['orders'])\n",
    "    idx_to_sent = {i: sentences[i] for i in range(4)}\n",
    "    sent_by_order = [idx_to_sent[o] for o in order]\n",
    "\n",
    "    for i in range(3):\n",
    "        pairwise_rows.append({\n",
    "            'sentence1': sent_by_order[i],\n",
    "            'sentence2': sent_by_order[i+1],\n",
    "            'label': 1\n",
    "        })\n",
    "\n",
    "    all_pairs = list(permutations(sentences, 2))\n",
    "    correct_pairs = {(sent_by_order[i], sent_by_order[i+1]) for i in range(3)}\n",
    "\n",
    "    for s1, s2 in all_pairs:\n",
    "        if (s1, s2) not in correct_pairs:\n",
    "            pairwise_rows.append({\n",
    "                'sentence1': s1,\n",
    "                'sentence2': s2,\n",
    "                'label': 0\n",
    "            })\n",
    "\n",
    "pairwise_df = pd.DataFrame(pairwise_rows)\n",
    "\n",
    "save_path = \"../data/cleaned_pairwise\"\n",
    "os.makedirs(save_path, exist_ok=True)\n",
    "pairwise_df.to_csv(os.path.join(save_path, \"train_pairwise.csv\"), index=False)\n",
    "print(f\"[✅] 저장 완료: {save_path}/train_pairwise.csv\")"
   ]
  },
  {
   "cell_type": "markdown",
   "metadata": {},
   "source": [
    "## ✅ Seq2Seq 학습용 데이터 생성"
   ]
  },
  {
   "cell_type": "code",
   "execution_count": null,
   "metadata": {},
   "outputs": [],
   "source": [
    "seq2seq_data = []\n",
    "\n",
    "for _, row in tqdm(df.iterrows(), total=len(df)):\n",
    "    sentences = eval(row['sentences'])\n",
    "    order = eval(row['orders'])\n",
    "\n",
    "    shuffled = list(zip(sentences, range(4)))\n",
    "    random.shuffle(shuffled)\n",
    "\n",
    "    shuffled_sents = [s for s, _ in shuffled]\n",
    "    original_indices = [i for _, i in shuffled]\n",
    "    target_order = [order.index(i) for i in original_indices]\n",
    "\n",
    "    seq2seq_data.append({\n",
    "        'input_sentences': shuffled_sents,\n",
    "        'target_order': target_order\n",
    "    })\n",
    "\n",
    "save_path = \"../data/cleaned_seq2seq\"\n",
    "os.makedirs(save_path, exist_ok=True)\n",
    "with open(os.path.join(save_path, \"train_seq2seq.json\"), 'w', encoding='utf-8') as f:\n",
    "    json.dump(seq2seq_data, f, ensure_ascii=False, indent=2)\n",
    "print(f\"[✅] 저장 완료: {save_path}/train_seq2seq.json\")"
   ]
  }
 ],
 "metadata": {
  "kernelspec": {
   "display_name": "Python 3",
   "language": "python",
   "name": "python3"
  },
  "language_info": {
   "name": "python",
   "version": ""
  }
 },
 "nbformat": 4,
 "nbformat_minor": 5
}