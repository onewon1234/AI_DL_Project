{
 "cells": [
  {
   "cell_type": "markdown",
   "metadata": {},
   "source": [
    "# 🔧 문장 순서 예측 전처리 노트북\n",
    "- Pairwise 방식용 CSV 생성\n",
    "- Seq2Seq 방식용 CSV 생성\n",
    "- 저장 경로: `data/cleaned_pairwise.csv`, `data/cleaned_seq2seq.csv`"
   ]
  },
  {
   "cell_type": "code",
   "execution_count": null,
   "metadata": {},
   "outputs": [],
   "source": [
    "import pandas as pd\n",
    "import itertools\n",
    "import os"
   ]
  },
  {
   "cell_type": "markdown",
   "metadata": {},
   "source": [
    "## ✅ 데이터 불러오기"
   ]
  },
  {
   "cell_type": "code",
   "execution_count": null,
   "metadata": {},
   "outputs": [],
   "source": [
    "# 원본 데이터 로드 (경로는 실제 상황에 맞게 수정)\n",
    "df = pd.read_csv(\"../data/train.csv\")\n",
    "df.head()"
   ]
  },
  {
   "cell_type": "markdown",
   "metadata": {},
   "source": [
    "## ✅ Pairwise 전처리 함수"
   ]
  },
  {
   "cell_type": "code",
   "execution_count": null,
   "metadata": {},
   "outputs": [],
   "source": [
    "def preprocess_pairwise(df):\n",
    "    data = []\n",
    "    for _, row in df.iterrows():\n",
    "        sentences = [row[f'sentence_{i}'] for i in range(4)]\n",
    "        answer = [row[f'answer_{i}'] for i in range(4)]\n",
    "        ordered = [sentences[i] for i in answer]\n",
    "        positive_pairs = [(ordered[i], ordered[i+1]) for i in range(3)]\n",
    "        all_pairs = list(itertools.permutations(sentences, 2))\n",
    "        for s1, s2 in all_pairs:\n",
    "            label = 1 if (s1, s2) in positive_pairs else 0\n",
    "            data.append({'sentence1': s1, 'sentence2': s2, 'label': label})\n",
    "    return pd.DataFrame(data)"
   ]
  },
  {
   "cell_type": "markdown",
   "metadata": {},
   "source": [
    "## ✅ Seq2Seq 전처리 함수"
   ]
  },
  {
   "cell_type": "code",
   "execution_count": null,
   "metadata": {},
   "outputs": [],
   "source": [
    "def preprocess_seq2seq(df):\n",
    "    data = []\n",
    "    for _, row in df.iterrows():\n",
    "        sentences = [row[f'sentence_{i}'] for i in range(4)]\n",
    "        answers = [row[f'answer_{i}'] for i in range(4)]\n",
    "        input_text = ' [SEP] '.join(sentences)\n",
    "        target_text = ' '.join(map(str, answers))\n",
    "        data.append({'input_text': input_text, 'target_text': target_text})\n",
    "    return pd.DataFrame(data)"
   ]
  },
  {
   "cell_type": "markdown",
   "metadata": {},
   "source": [
    "## ✅ 전처리 실행 및 저장"
   ]
  },
  {
   "cell_type": "code",
   "execution_count": null,
   "metadata": {},
   "outputs": [],
   "source": [
    "# Pairwise 저장\n",
    "pairwise_df = preprocess_pairwise(df)\n",
    "os.makedirs(\"../data\", exist_ok=True)\n",
    "pairwise_df.to_csv(\"../data/cleaned_pairwise.csv\", index=False)\n",
    "print(\"[✅] cleaned_pairwise.csv 저장 완료\")\n",
    "\n",
    "# Seq2Seq 저장\n",
    "seq2seq_df = preprocess_seq2seq(df)\n",
    "seq2seq_df.to_csv(\"../data/cleaned_seq2seq.csv\", index=False)\n",
    "print(\"[✅] cleaned_seq2seq.csv 저장 완료\")"
   ]
  }
 ],
 "metadata": {
  "kernelspec": {
   "display_name": "Python 3",
   "language": "python",
   "name": "python3"
  },
  "language_info": {
   "name": "python",
   "version": ""
  }
 },
 "nbformat": 4,
 "nbformat_minor": 5
}