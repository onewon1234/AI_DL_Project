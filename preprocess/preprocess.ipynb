{
 "cells": [
  {
   "cell_type": "markdown",
   "metadata": {},
   "source": [
    "# 🔧 문장 순서 예측 전처리 노트북\n",
    "- Pairwise 방식용 CSV 생성\n",
    "- Seq2Seq 방식용 CSV 생성\n",
    "- 저장 경로: `data/cleaned_pairwise.csv`, `data/cleaned_seq2seq.csv`"
   ]
  },
  {
   "cell_type": "code",
   "execution_count": 1,
   "metadata": {},
   "outputs": [],
   "source": [
    "import pandas as pd\n",
    "import itertools\n",
    "import os"
   ]
  },
  {
   "cell_type": "markdown",
   "metadata": {},
   "source": [
    "## ✅ 데이터 불러오기"
   ]
  },
  {
   "cell_type": "code",
   "execution_count": 2,
   "metadata": {},
   "outputs": [
    {
     "data": {
      "text/html": [
       "<div>\n",
       "<style scoped>\n",
       "    .dataframe tbody tr th:only-of-type {\n",
       "        vertical-align: middle;\n",
       "    }\n",
       "\n",
       "    .dataframe tbody tr th {\n",
       "        vertical-align: top;\n",
       "    }\n",
       "\n",
       "    .dataframe thead th {\n",
       "        text-align: right;\n",
       "    }\n",
       "</style>\n",
       "<table border=\"1\" class=\"dataframe\">\n",
       "  <thead>\n",
       "    <tr style=\"text-align: right;\">\n",
       "      <th></th>\n",
       "      <th>ID</th>\n",
       "      <th>sentence_0</th>\n",
       "      <th>sentence_1</th>\n",
       "      <th>sentence_2</th>\n",
       "      <th>sentence_3</th>\n",
       "      <th>answer_0</th>\n",
       "      <th>answer_1</th>\n",
       "      <th>answer_2</th>\n",
       "      <th>answer_3</th>\n",
       "    </tr>\n",
       "  </thead>\n",
       "  <tbody>\n",
       "    <tr>\n",
       "      <th>0</th>\n",
       "      <td>TRAIN_0000</td>\n",
       "      <td>블록체인 기술은 투표 과정의 투명성을 크게 향상시킬 수 있다.</td>\n",
       "      <td>이러한 특성은 유권자들에게 신뢰를 제공하며, 민주적 참여를 촉진하는 데 기여할 수 있다.</td>\n",
       "      <td>결과적으로 블록체인 기반의 투표 시스템은 공정하고 신뢰할 수 있는 선거 환경을 조성...</td>\n",
       "      <td>각 투표는 변경 불가능한 기록으로 저장되어 조작의 가능성을 원천적으로 차단한다.</td>\n",
       "      <td>0</td>\n",
       "      <td>3</td>\n",
       "      <td>1</td>\n",
       "      <td>2</td>\n",
       "    </tr>\n",
       "    <tr>\n",
       "      <th>1</th>\n",
       "      <td>TRAIN_0001</td>\n",
       "      <td>줄거리 자동 생성의 인공지능 알고리즘은 대량의 텍스트 데이터를 분석하여 핵심 정보를...</td>\n",
       "      <td>결과적으로, 이러한 기술은 사용자에게 신속하고 효율적인 정보 전달을 가능하게 한다.</td>\n",
       "      <td>생성된 줄거리는 원본 텍스트의 의미를 유지하면서도 간결하게 요약된 형태로 제공된다.</td>\n",
       "      <td>이 알고리즘은 자연어 처리 기술을 활용하여 문맥을 이해하고, 주요 사건과 등장인물을...</td>\n",
       "      <td>0</td>\n",
       "      <td>3</td>\n",
       "      <td>2</td>\n",
       "      <td>1</td>\n",
       "    </tr>\n",
       "    <tr>\n",
       "      <th>2</th>\n",
       "      <td>TRAIN_0002</td>\n",
       "      <td>마지막으로, 키친타올을 보관할 때는 쉽게 접근할 수 있는 곳에 두어 낭비를 방지하는...</td>\n",
       "      <td>재사용 가능한 천이나 스펀지를 활용하면 키친타올의 필요성을 줄일 수 있다.</td>\n",
       "      <td>물기를 제거할 때는 가볍게 눌러주어 과도한 사용을 피할 수 있다.</td>\n",
       "      <td>키친타올을 절약하는 첫걸음은 필요한 양만큼만 사용하는 것이다.</td>\n",
       "      <td>3</td>\n",
       "      <td>2</td>\n",
       "      <td>1</td>\n",
       "      <td>0</td>\n",
       "    </tr>\n",
       "    <tr>\n",
       "      <th>3</th>\n",
       "      <td>TRAIN_0003</td>\n",
       "      <td>책의 페이지가 손상되지 않도록 수직으로 세워 두거나 평평하게 눕혀 보관하는 것이 좋다.</td>\n",
       "      <td>정기적으로 먼지를 털어내고, 곰팡이나 해충의 발생 여부를 점검하는 것이 중요하다.</td>\n",
       "      <td>종이책은 직사광선이 닿지 않는 서늘하고 건조한 장소에 보관해야 한다.</td>\n",
       "      <td>필요할 경우, 책을 보호하기 위해 커버를 씌우거나 전용 보관함에 넣는 방법도 고려할...</td>\n",
       "      <td>2</td>\n",
       "      <td>0</td>\n",
       "      <td>1</td>\n",
       "      <td>3</td>\n",
       "    </tr>\n",
       "    <tr>\n",
       "      <th>4</th>\n",
       "      <td>TRAIN_0004</td>\n",
       "      <td>인공지능 모델은 반복적인 실험을 통해 지속적으로 학습하며, 이를 통해 발견의 정확성...</td>\n",
       "      <td>인공지능은 대량의 데이터를 분석하여 숨겨진 패턴과 상관관계를 발견하는 데 강력한 도...</td>\n",
       "      <td>결국, 인공지능의 지원은 과학적 발견의 속도와 효율성을 혁신적으로 변화시킬 수 있는...</td>\n",
       "      <td>이러한 분석 결과는 연구자들에게 새로운 가설을 제시하고 실험 설계를 개선하는 데 기...</td>\n",
       "      <td>1</td>\n",
       "      <td>3</td>\n",
       "      <td>0</td>\n",
       "      <td>2</td>\n",
       "    </tr>\n",
       "  </tbody>\n",
       "</table>\n",
       "</div>"
      ],
      "text/plain": [
       "           ID                                         sentence_0  \\\n",
       "0  TRAIN_0000                 블록체인 기술은 투표 과정의 투명성을 크게 향상시킬 수 있다.   \n",
       "1  TRAIN_0001  줄거리 자동 생성의 인공지능 알고리즘은 대량의 텍스트 데이터를 분석하여 핵심 정보를...   \n",
       "2  TRAIN_0002  마지막으로, 키친타올을 보관할 때는 쉽게 접근할 수 있는 곳에 두어 낭비를 방지하는...   \n",
       "3  TRAIN_0003   책의 페이지가 손상되지 않도록 수직으로 세워 두거나 평평하게 눕혀 보관하는 것이 좋다.   \n",
       "4  TRAIN_0004  인공지능 모델은 반복적인 실험을 통해 지속적으로 학습하며, 이를 통해 발견의 정확성...   \n",
       "\n",
       "                                          sentence_1  \\\n",
       "0  이러한 특성은 유권자들에게 신뢰를 제공하며, 민주적 참여를 촉진하는 데 기여할 수 있다.   \n",
       "1     결과적으로, 이러한 기술은 사용자에게 신속하고 효율적인 정보 전달을 가능하게 한다.   \n",
       "2          재사용 가능한 천이나 스펀지를 활용하면 키친타올의 필요성을 줄일 수 있다.   \n",
       "3      정기적으로 먼지를 털어내고, 곰팡이나 해충의 발생 여부를 점검하는 것이 중요하다.   \n",
       "4  인공지능은 대량의 데이터를 분석하여 숨겨진 패턴과 상관관계를 발견하는 데 강력한 도...   \n",
       "\n",
       "                                          sentence_2  \\\n",
       "0  결과적으로 블록체인 기반의 투표 시스템은 공정하고 신뢰할 수 있는 선거 환경을 조성...   \n",
       "1     생성된 줄거리는 원본 텍스트의 의미를 유지하면서도 간결하게 요약된 형태로 제공된다.   \n",
       "2               물기를 제거할 때는 가볍게 눌러주어 과도한 사용을 피할 수 있다.   \n",
       "3             종이책은 직사광선이 닿지 않는 서늘하고 건조한 장소에 보관해야 한다.   \n",
       "4  결국, 인공지능의 지원은 과학적 발견의 속도와 효율성을 혁신적으로 변화시킬 수 있는...   \n",
       "\n",
       "                                          sentence_3  answer_0  answer_1  \\\n",
       "0       각 투표는 변경 불가능한 기록으로 저장되어 조작의 가능성을 원천적으로 차단한다.         0         3   \n",
       "1  이 알고리즘은 자연어 처리 기술을 활용하여 문맥을 이해하고, 주요 사건과 등장인물을...         0         3   \n",
       "2                 키친타올을 절약하는 첫걸음은 필요한 양만큼만 사용하는 것이다.         3         2   \n",
       "3  필요할 경우, 책을 보호하기 위해 커버를 씌우거나 전용 보관함에 넣는 방법도 고려할...         2         0   \n",
       "4  이러한 분석 결과는 연구자들에게 새로운 가설을 제시하고 실험 설계를 개선하는 데 기...         1         3   \n",
       "\n",
       "   answer_2  answer_3  \n",
       "0         1         2  \n",
       "1         2         1  \n",
       "2         1         0  \n",
       "3         1         3  \n",
       "4         0         2  "
      ]
     },
     "execution_count": 2,
     "metadata": {},
     "output_type": "execute_result"
    }
   ],
   "source": [
    "# 원본 데이터 로드 (경로는 실제 상황에 맞게 수정)\n",
    "df = pd.read_csv(\"../data/train.csv\")\n",
    "df.head()"
   ]
  },
  {
   "cell_type": "markdown",
   "metadata": {},
   "source": [
    "## ✅ Pairwise 전처리 함수"
   ]
  },
  {
   "cell_type": "code",
   "execution_count": 3,
   "metadata": {},
   "outputs": [],
   "source": [
    "def preprocess_pairwise(df):\n",
    "    data = []\n",
    "    for _, row in df.iterrows():\n",
    "        sentences = [row[f'sentence_{i}'] for i in range(4)]\n",
    "        answer = [row[f'answer_{i}'] for i in range(4)]\n",
    "        ordered = [sentences[i] for i in answer]\n",
    "        positive_pairs = [(ordered[i], ordered[i+1]) for i in range(3)]\n",
    "        all_pairs = list(itertools.permutations(sentences, 2))\n",
    "        for s1, s2 in all_pairs:\n",
    "            label = 1 if (s1, s2) in positive_pairs else 0\n",
    "            data.append({'sentence1': s1, 'sentence2': s2, 'label': label})\n",
    "    return pd.DataFrame(data)"
   ]
  },
  {
   "cell_type": "markdown",
   "metadata": {},
   "source": [
    "## ✅ Seq2Seq 전처리 함수"
   ]
  },
  {
   "cell_type": "code",
   "execution_count": 4,
   "metadata": {},
   "outputs": [],
   "source": [
    "def preprocess_seq2seq(df):\n",
    "    data = []\n",
    "    for _, row in df.iterrows():\n",
    "        sentences = [row[f'sentence_{i}'] for i in range(4)]\n",
    "        answers = [row[f'answer_{i}'] for i in range(4)]\n",
    "        input_text = ' [SEP] '.join(sentences)\n",
    "        target_text = ' '.join(map(str, answers))\n",
    "        data.append({'input_text': input_text, 'target_text': target_text})\n",
    "    return pd.DataFrame(data)"
   ]
  },
  {
   "cell_type": "code",
   "execution_count": 3,
   "id": "9130ac8d",
   "metadata": {},
   "outputs": [],
   "source": [
    "def augment_seq2seq_data(df):\n",
    "    \"\"\"\n",
    "    문장 순서 예측을 위한 데이터 증강 함수\n",
    "    각 원본 데이터에 대해 정확히 24개의 데이터 생성\n",
    "    \"\"\"\n",
    "    augmented_data = []\n",
    "    \n",
    "    for _, row in df.iterrows():\n",
    "        # 원본 문장과 정답 순서\n",
    "        sentences = [row[f'sentence_{i}'] for i in range(4)]\n",
    "        answers = [row[f'answer_{i}'] for i in range(4)]\n",
    "        \n",
    "        # 모든 가능한 순열 생성\n",
    "        all_perms = list(itertools.permutations(range(4)))\n",
    "        \n",
    "        for perm in all_perms:\n",
    "            # 순열에 따른 문장 재배열\n",
    "            permuted_sentences = [sentences[i] for i in perm]\n",
    "            # 순열에 따른 정답 순서 재계산\n",
    "            permuted_answers = [perm.index(i) for i in answers]\n",
    "            \n",
    "            # 데이터 추가\n",
    "            data_dict = {\n",
    "                'sentence_0': permuted_sentences[0],\n",
    "                'sentence_1': permuted_sentences[1],\n",
    "                'sentence_2': permuted_sentences[2],\n",
    "                'sentence_3': permuted_sentences[3],\n",
    "                'answer_0': permuted_answers[0],\n",
    "                'answer_1': permuted_answers[1],\n",
    "                'answer_2': permuted_answers[2],\n",
    "                'answer_3': permuted_answers[3]\n",
    "            }\n",
    "            augmented_data.append(data_dict)\n",
    "    \n",
    "    return pd.DataFrame(augmented_data)"
   ]
  },
  {
   "cell_type": "code",
   "execution_count": 4,
   "id": "f9125fde",
   "metadata": {},
   "outputs": [],
   "source": [
    "# 텍스트 정제\n",
    "import re\n",
    "def clean_text(text):\n",
    "  # 특수문자 제거\n",
    "  text = re.sub(r'[^\\w\\s]', '', text)\n",
    "  # 소문자 변환: 한글에는 무의미\n",
    "  text = text.lower()\n",
    "  # 불필요한 공백 제거\n",
    "  text = ' '.join(text.split())\n",
    "  return text"
   ]
  },
  {
   "cell_type": "markdown",
   "metadata": {},
   "source": [
    "## ✅ 전처리 실행 및 저장"
   ]
  },
  {
   "cell_type": "code",
   "execution_count": null,
   "id": "ae36fe63",
   "metadata": {},
   "outputs": [],
   "source": [
    "# Pairwise 저장\n",
    "for i in range(4):\n",
    "    df[f'sentence_{i}'] = df[f'sentence_{i}'].apply(clean_text)\n",
    "    \n",
    "pairwise_df = preprocess_pairwise(df)\n",
    "\n",
    "pairwise_df.to_csv(\"../data/cleaned_pairwise.csv\", index=False)\n",
    "print(\"[✅] cleaned_pairwise.csv 저장 완료\")"
   ]
  },
  {
   "cell_type": "code",
   "execution_count": null,
   "metadata": {},
   "outputs": [],
   "source": [
    "# Seq2Seq 저장\n",
    "for i in range(4):\n",
    "    df[f'sentence_{i}'] = df[f'sentence_{i}'].apply(clean_text)\n",
    "\n",
    "# 데이터 증강\n",
    "augmented_df = augment_seq2seq_data(df)\n",
    "\n",
    "augmented_df.to_csv(\"../data/train_extended.csv\", index=False)\n",
    "print(\"[✅] train_extended.csv 저장 완료\")"
   ]
  }
 ],
 "metadata": {
  "kernelspec": {
   "display_name": "base",
   "language": "python",
   "name": "python3"
  },
  "language_info": {
   "codemirror_mode": {
    "name": "ipython",
    "version": 3
   },
   "file_extension": ".py",
   "mimetype": "text/x-python",
   "name": "python",
   "nbconvert_exporter": "python",
   "pygments_lexer": "ipython3",
   "version": "3.12.3"
  }
 },
 "nbformat": 4,
 "nbformat_minor": 5
}
