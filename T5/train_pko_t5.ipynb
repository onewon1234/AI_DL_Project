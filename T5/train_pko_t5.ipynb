{
 "cells": [
  {
   "cell_type": "markdown",
   "metadata": {},
   "source": [
    "# PKO-T5를 이용한 문장 순서 예측\n",
    "\n",
    "이 노트북에서는 paust/pko-t5-base 모델을 사용하여 문장 순서 예측을 구현합니다. 다음과 같은 과정을 수행합니다:\n",
    "\n",
    "1. 데이터 로드 및 전처리\n",
    "2. 모델 및 학습 설정\n",
    "3. Early stopping과 체크포인팅을 적용한 학습\n",
    "4. 모델 평가\n",
    "5. 하이퍼파라미터 튜닝"
   ]
  },
  {
   "cell_type": "code",
   "execution_count": 1,
   "metadata": {},
   "outputs": [],
   "source": [
    "import pandas as pd\n",
    "import numpy as np\n",
    "import matplotlib.pyplot as plt\n",
    "import torch\n",
    "from torch.optim import AdamW\n",
    "from tqdm.notebook import tqdm\n",
    "import os\n",
    "\n",
    "from t5_utils import SentenceOrderPredictor, compute_accuracy\n",
    "\n",
    "# 한글 폰트 설정\n",
    "plt.rc('font', family='Malgun Gothic')\n",
    "\n",
    "# 결과 저장을 위한 디렉토리 생성\n",
    "os.makedirs('checkpoints', exist_ok=True)\n",
    "os.makedirs('history', exist_ok=True)\n",
    "os.makedirs('grid_search_results', exist_ok=True)"
   ]
  },
  {
   "cell_type": "markdown",
   "metadata": {},
   "source": [
    "## 1. 데이터 로드 및 준비"
   ]
  },
  {
   "cell_type": "code",
   "execution_count": 2,
   "metadata": {},
   "outputs": [
    {
     "name": "stdout",
     "output_type": "stream",
     "text": [
      "데이터셋 크기: 7351\n",
      "\n",
      "샘플 데이터:\n"
     ]
    },
    {
     "data": {
      "text/html": [
       "<div>\n",
       "<style scoped>\n",
       "    .dataframe tbody tr th:only-of-type {\n",
       "        vertical-align: middle;\n",
       "    }\n",
       "\n",
       "    .dataframe tbody tr th {\n",
       "        vertical-align: top;\n",
       "    }\n",
       "\n",
       "    .dataframe thead th {\n",
       "        text-align: right;\n",
       "    }\n",
       "</style>\n",
       "<table border=\"1\" class=\"dataframe\">\n",
       "  <thead>\n",
       "    <tr style=\"text-align: right;\">\n",
       "      <th></th>\n",
       "      <th>input_text</th>\n",
       "      <th>target_text</th>\n",
       "    </tr>\n",
       "  </thead>\n",
       "  <tbody>\n",
       "    <tr>\n",
       "      <th>0</th>\n",
       "      <td>블록체인 기술은 투표 과정의 투명성을 크게 향상시킬 수 있다. [SEP] 이러한 특...</td>\n",
       "      <td>0 3 1 2</td>\n",
       "    </tr>\n",
       "    <tr>\n",
       "      <th>1</th>\n",
       "      <td>줄거리 자동 생성의 인공지능 알고리즘은 대량의 텍스트 데이터를 분석하여 핵심 정보를...</td>\n",
       "      <td>0 3 2 1</td>\n",
       "    </tr>\n",
       "    <tr>\n",
       "      <th>2</th>\n",
       "      <td>마지막으로, 키친타올을 보관할 때는 쉽게 접근할 수 있는 곳에 두어 낭비를 방지하는...</td>\n",
       "      <td>3 2 1 0</td>\n",
       "    </tr>\n",
       "    <tr>\n",
       "      <th>3</th>\n",
       "      <td>책의 페이지가 손상되지 않도록 수직으로 세워 두거나 평평하게 눕혀 보관하는 것이 좋...</td>\n",
       "      <td>2 0 1 3</td>\n",
       "    </tr>\n",
       "    <tr>\n",
       "      <th>4</th>\n",
       "      <td>인공지능 모델은 반복적인 실험을 통해 지속적으로 학습하며, 이를 통해 발견의 정확성...</td>\n",
       "      <td>1 3 0 2</td>\n",
       "    </tr>\n",
       "  </tbody>\n",
       "</table>\n",
       "</div>"
      ],
      "text/plain": [
       "                                          input_text target_text\n",
       "0  블록체인 기술은 투표 과정의 투명성을 크게 향상시킬 수 있다. [SEP] 이러한 특...     0 3 1 2\n",
       "1  줄거리 자동 생성의 인공지능 알고리즘은 대량의 텍스트 데이터를 분석하여 핵심 정보를...     0 3 2 1\n",
       "2  마지막으로, 키친타올을 보관할 때는 쉽게 접근할 수 있는 곳에 두어 낭비를 방지하는...     3 2 1 0\n",
       "3  책의 페이지가 손상되지 않도록 수직으로 세워 두거나 평평하게 눕혀 보관하는 것이 좋...     2 0 1 3\n",
       "4  인공지능 모델은 반복적인 실험을 통해 지속적으로 학습하며, 이를 통해 발견의 정확성...     1 3 0 2"
      ]
     },
     "execution_count": 2,
     "metadata": {},
     "output_type": "execute_result"
    }
   ],
   "source": [
    "# 전처리된 데이터 로드\n",
    "df = pd.read_csv('../data/cleaned_seq2seq.csv')\n",
    "\n",
    "# 데이터 확인\n",
    "print(\"데이터셋 크기:\", len(df))\n",
    "print(\"\\n샘플 데이터:\")\n",
    "df.head(5)"
   ]
  },
  {
   "cell_type": "code",
   "execution_count": 3,
   "metadata": {},
   "outputs": [
    {
     "name": "stdout",
     "output_type": "stream",
     "text": [
      "학습 데이터 크기: 6615\n",
      "검증 데이터 크기: 736\n"
     ]
    }
   ],
   "source": [
    "# pko-t5-base 모델 초기화\n",
    "predictor = SentenceOrderPredictor()\n",
    "\n",
    "# 데이터셋 준비 (9:1 비율로 분할)\n",
    "train_dataset, val_dataset = predictor.prepare_data(df)\n",
    "\n",
    "# 데이터로더 생성\n",
    "batch_size = 8  # GPU 메모리에 따라 조정 가능\n",
    "train_loader, val_loader = predictor.create_dataloaders(train_dataset, val_dataset, batch_size=batch_size)\n",
    "\n",
    "print(f\"학습 데이터 크기: {len(train_dataset)}\")\n",
    "print(f\"검증 데이터 크기: {len(val_dataset)}\")"
   ]
  },
  {
   "cell_type": "markdown",
   "metadata": {},
   "source": [
    "## 2. 학습 설정"
   ]
  },
  {
   "cell_type": "code",
   "execution_count": 4,
   "metadata": {},
   "outputs": [],
   "source": [
    "# 학습 파라미터\n",
    "num_epochs = 10\n",
    "learning_rate = 2e-5\n",
    "patience = 3  # Early stopping 인내심\n",
    "min_delta = 1e-4  # 최소 개선 기준\n",
    "\n",
    "# 옵티마이저 설정\n",
    "optimizer = AdamW(predictor.model.parameters(), lr=learning_rate)\n",
    "\n",
    "# 학습 히스토리 초기화\n",
    "history = {\n",
    "    'train_loss': [],\n",
    "    'val_loss': [],\n",
    "    'val_accuracy': []\n",
    "}"
   ]
  },
  {
   "cell_type": "markdown",
   "metadata": {},
   "source": [
    "## 3. Early Stopping을 적용한 학습"
   ]
  },
  {
   "cell_type": "code",
   "execution_count": 5,
   "metadata": {},
   "outputs": [],
   "source": [
    "def validate(model, val_loader, device, tokenizer):\n",
    "    \"\"\"검증 데이터에 대한 모델 평가\"\"\"\n",
    "    model.eval()\n",
    "    total_loss = 0\n",
    "    total_correct = 0\n",
    "    total_samples = 0\n",
    "    \n",
    "    with torch.no_grad():\n",
    "        for batch in tqdm(val_loader, desc='Validation'):\n",
    "            input_ids = batch['input_ids'].to(device)\n",
    "            attention_mask = batch['attention_mask'].to(device)\n",
    "            labels = batch['labels'].to(device)\n",
    "            \n",
    "            outputs = model(\n",
    "                input_ids=input_ids,\n",
    "                attention_mask=attention_mask,\n",
    "                labels=labels\n",
    "            )\n",
    "            \n",
    "            loss = outputs.loss\n",
    "            total_loss += loss.item()\n",
    "            \n",
    "            # 예측 생성\n",
    "            predictions = model.generate(\n",
    "                input_ids=input_ids,\n",
    "                attention_mask=attention_mask,\n",
    "                max_length=8,\n",
    "                num_beams=4,\n",
    "                no_repeat_ngram_size=4  # 숫자 중복 방지\n",
    "            )\n",
    "            \n",
    "            # 예측과 레이블을 순서 시퀀스로 변환\n",
    "            pred_texts = [tokenizer.decode(pred, skip_special_tokens=True) for pred in predictions]\n",
    "            label_texts = [tokenizer.decode(label, skip_special_tokens=True) for label in labels]\n",
    "            \n",
    "            try:\n",
    "                # 예측과 레이블을 정수 리스트로 변환\n",
    "                pred_orders = [list(map(int, text.split())) for text in pred_texts]\n",
    "                label_orders = [list(map(int, text.split())) for text in label_texts]\n",
    "                \n",
    "                # 정확도 계산\n",
    "                correct = sum(compute_accuracy(pred, label) for pred, label in zip(pred_orders, label_orders))\n",
    "                total_correct += correct\n",
    "                total_samples += len(input_ids)\n",
    "            except ValueError as e:\n",
    "                print(f\"Warning: 잘못된 예측 형식 발견 - {e}\")\n",
    "                print(f\"Predictions: {pred_texts}\")\n",
    "                print(f\"Labels: {label_texts}\")\n",
    "                continue\n",
    "    \n",
    "    avg_loss = total_loss / len(val_loader)  # 배치 수로 나누기\n",
    "    accuracy = total_correct / total_samples if total_samples > 0 else 0\n",
    "    \n",
    "    return avg_loss, accuracy"
   ]
  },
  {
   "cell_type": "code",
   "execution_count": 6,
   "metadata": {},
   "outputs": [
    {
     "data": {
      "application/vnd.jupyter.widget-view+json": {
       "model_id": "e07269d4ab844dcdb9d0d88accd1eaa0",
       "version_major": 2,
       "version_minor": 0
      },
      "text/plain": [
       "Epoch 1/10 - Training:   0%|          | 0/827 [00:00<?, ?it/s]"
      ]
     },
     "metadata": {},
     "output_type": "display_data"
    },
    {
     "name": "stderr",
     "output_type": "stream",
     "text": [
      "Passing a tuple of `past_key_values` is deprecated and will be removed in Transformers v4.48.0. You should pass an instance of `EncoderDecoderCache` instead, e.g. `past_key_values=EncoderDecoderCache.from_legacy_cache(past_key_values)`.\n"
     ]
    },
    {
     "data": {
      "application/vnd.jupyter.widget-view+json": {
       "model_id": "c64e45217a884f118c561a6142c58cd2",
       "version_major": 2,
       "version_minor": 0
      },
      "text/plain": [
       "Validation:   0%|          | 0/92 [00:00<?, ?it/s]"
      ]
     },
     "metadata": {},
     "output_type": "display_data"
    },
    {
     "name": "stdout",
     "output_type": "stream",
     "text": [
      "Epoch 1/10\n",
      "Train Loss: 0.6294\n",
      "Validation Loss: 0.2932\n",
      "Validation Accuracy: 0.2296\n",
      "Validation loss improved from inf to 0.2932\n"
     ]
    },
    {
     "data": {
      "application/vnd.jupyter.widget-view+json": {
       "model_id": "3377c68e59b64735b2f127ab3694fdd1",
       "version_major": 2,
       "version_minor": 0
      },
      "text/plain": [
       "Epoch 2/10 - Training:   0%|          | 0/827 [00:00<?, ?it/s]"
      ]
     },
     "metadata": {},
     "output_type": "display_data"
    },
    {
     "data": {
      "application/vnd.jupyter.widget-view+json": {
       "model_id": "2849b4881b5f4ab08f8593256d25777b",
       "version_major": 2,
       "version_minor": 0
      },
      "text/plain": [
       "Validation:   0%|          | 0/92 [00:00<?, ?it/s]"
      ]
     },
     "metadata": {},
     "output_type": "display_data"
    },
    {
     "name": "stdout",
     "output_type": "stream",
     "text": [
      "Epoch 2/10\n",
      "Train Loss: 0.2696\n",
      "Validation Loss: 0.1666\n",
      "Validation Accuracy: 0.4688\n",
      "Validation loss improved from 0.2932 to 0.1666\n"
     ]
    },
    {
     "data": {
      "application/vnd.jupyter.widget-view+json": {
       "model_id": "bea874d3725649dcab5c279f3270f5e4",
       "version_major": 2,
       "version_minor": 0
      },
      "text/plain": [
       "Epoch 3/10 - Training:   0%|          | 0/827 [00:00<?, ?it/s]"
      ]
     },
     "metadata": {},
     "output_type": "display_data"
    },
    {
     "data": {
      "application/vnd.jupyter.widget-view+json": {
       "model_id": "1af84cbb75294acd9ed3ac71d79560ec",
       "version_major": 2,
       "version_minor": 0
      },
      "text/plain": [
       "Validation:   0%|          | 0/92 [00:00<?, ?it/s]"
      ]
     },
     "metadata": {},
     "output_type": "display_data"
    },
    {
     "name": "stdout",
     "output_type": "stream",
     "text": [
      "Epoch 3/10\n",
      "Train Loss: 0.1776\n",
      "Validation Loss: 0.1204\n",
      "Validation Accuracy: 0.5829\n",
      "Validation loss improved from 0.1666 to 0.1204\n"
     ]
    },
    {
     "data": {
      "application/vnd.jupyter.widget-view+json": {
       "model_id": "d85905e51e5a4c0990eddd7335adabea",
       "version_major": 2,
       "version_minor": 0
      },
      "text/plain": [
       "Epoch 4/10 - Training:   0%|          | 0/827 [00:00<?, ?it/s]"
      ]
     },
     "metadata": {},
     "output_type": "display_data"
    },
    {
     "data": {
      "application/vnd.jupyter.widget-view+json": {
       "model_id": "24ba8041f9ed4051bd07c7cccab92412",
       "version_major": 2,
       "version_minor": 0
      },
      "text/plain": [
       "Validation:   0%|          | 0/92 [00:00<?, ?it/s]"
      ]
     },
     "metadata": {},
     "output_type": "display_data"
    },
    {
     "name": "stdout",
     "output_type": "stream",
     "text": [
      "Epoch 4/10\n",
      "Train Loss: 0.1398\n",
      "Validation Loss: 0.1124\n",
      "Validation Accuracy: 0.6304\n",
      "Validation loss improved from 0.1204 to 0.1124\n"
     ]
    },
    {
     "data": {
      "application/vnd.jupyter.widget-view+json": {
       "model_id": "d936ab41e14743c48b90476f0649c4cf",
       "version_major": 2,
       "version_minor": 0
      },
      "text/plain": [
       "Epoch 5/10 - Training:   0%|          | 0/827 [00:00<?, ?it/s]"
      ]
     },
     "metadata": {},
     "output_type": "display_data"
    },
    {
     "data": {
      "application/vnd.jupyter.widget-view+json": {
       "model_id": "1ae10d85de414d50b0ac3743316851ba",
       "version_major": 2,
       "version_minor": 0
      },
      "text/plain": [
       "Validation:   0%|          | 0/92 [00:00<?, ?it/s]"
      ]
     },
     "metadata": {},
     "output_type": "display_data"
    },
    {
     "name": "stdout",
     "output_type": "stream",
     "text": [
      "Epoch 5/10\n",
      "Train Loss: 0.1187\n",
      "Validation Loss: 0.1015\n",
      "Validation Accuracy: 0.6698\n",
      "Validation loss improved from 0.1124 to 0.1015\n"
     ]
    },
    {
     "data": {
      "application/vnd.jupyter.widget-view+json": {
       "model_id": "cc8d1e9dd12d42928c39b949d8c1b0f3",
       "version_major": 2,
       "version_minor": 0
      },
      "text/plain": [
       "Epoch 6/10 - Training:   0%|          | 0/827 [00:00<?, ?it/s]"
      ]
     },
     "metadata": {},
     "output_type": "display_data"
    },
    {
     "data": {
      "application/vnd.jupyter.widget-view+json": {
       "model_id": "e51c3a7220ee4448b1549254ebab626a",
       "version_major": 2,
       "version_minor": 0
      },
      "text/plain": [
       "Validation:   0%|          | 0/92 [00:00<?, ?it/s]"
      ]
     },
     "metadata": {},
     "output_type": "display_data"
    },
    {
     "name": "stdout",
     "output_type": "stream",
     "text": [
      "Epoch 6/10\n",
      "Train Loss: 0.0999\n",
      "Validation Loss: 0.1062\n",
      "Validation Accuracy: 0.6807\n",
      "No improvement for 1 epochs (best val_loss: 0.1015 at epoch 5)\n"
     ]
    },
    {
     "data": {
      "application/vnd.jupyter.widget-view+json": {
       "model_id": "9520281e7741498cbfa2053787fcf7c8",
       "version_major": 2,
       "version_minor": 0
      },
      "text/plain": [
       "Epoch 7/10 - Training:   0%|          | 0/827 [00:00<?, ?it/s]"
      ]
     },
     "metadata": {},
     "output_type": "display_data"
    },
    {
     "data": {
      "application/vnd.jupyter.widget-view+json": {
       "model_id": "ff18467a105c45e299d5984e6cd27f61",
       "version_major": 2,
       "version_minor": 0
      },
      "text/plain": [
       "Validation:   0%|          | 0/92 [00:00<?, ?it/s]"
      ]
     },
     "metadata": {},
     "output_type": "display_data"
    },
    {
     "name": "stdout",
     "output_type": "stream",
     "text": [
      "Epoch 7/10\n",
      "Train Loss: 0.0862\n",
      "Validation Loss: 0.0948\n",
      "Validation Accuracy: 0.7188\n",
      "Validation loss improved from 0.1015 to 0.0948\n"
     ]
    },
    {
     "data": {
      "application/vnd.jupyter.widget-view+json": {
       "model_id": "64299c75528f49cb82802013389f8205",
       "version_major": 2,
       "version_minor": 0
      },
      "text/plain": [
       "Epoch 8/10 - Training:   0%|          | 0/827 [00:00<?, ?it/s]"
      ]
     },
     "metadata": {},
     "output_type": "display_data"
    },
    {
     "data": {
      "application/vnd.jupyter.widget-view+json": {
       "model_id": "4ca7db53a5ce4e7bbeb6cae1ed3aeb0a",
       "version_major": 2,
       "version_minor": 0
      },
      "text/plain": [
       "Validation:   0%|          | 0/92 [00:00<?, ?it/s]"
      ]
     },
     "metadata": {},
     "output_type": "display_data"
    },
    {
     "name": "stdout",
     "output_type": "stream",
     "text": [
      "Epoch 8/10\n",
      "Train Loss: 0.0715\n",
      "Validation Loss: 0.0932\n",
      "Validation Accuracy: 0.7364\n",
      "Validation loss improved from 0.0948 to 0.0932\n"
     ]
    },
    {
     "data": {
      "application/vnd.jupyter.widget-view+json": {
       "model_id": "05856f4294f242c99aa420296514f1ca",
       "version_major": 2,
       "version_minor": 0
      },
      "text/plain": [
       "Epoch 9/10 - Training:   0%|          | 0/827 [00:00<?, ?it/s]"
      ]
     },
     "metadata": {},
     "output_type": "display_data"
    },
    {
     "data": {
      "application/vnd.jupyter.widget-view+json": {
       "model_id": "1d72e40dcdc24ef78bccf895017e6f97",
       "version_major": 2,
       "version_minor": 0
      },
      "text/plain": [
       "Validation:   0%|          | 0/92 [00:00<?, ?it/s]"
      ]
     },
     "metadata": {},
     "output_type": "display_data"
    },
    {
     "name": "stdout",
     "output_type": "stream",
     "text": [
      "Epoch 9/10\n",
      "Train Loss: 0.0613\n",
      "Validation Loss: 0.1000\n",
      "Validation Accuracy: 0.7391\n",
      "No improvement for 1 epochs (best val_loss: 0.0932 at epoch 8)\n"
     ]
    },
    {
     "data": {
      "application/vnd.jupyter.widget-view+json": {
       "model_id": "041de0373138477a8b588003856d2f29",
       "version_major": 2,
       "version_minor": 0
      },
      "text/plain": [
       "Epoch 10/10 - Training:   0%|          | 0/827 [00:00<?, ?it/s]"
      ]
     },
     "metadata": {},
     "output_type": "display_data"
    },
    {
     "data": {
      "application/vnd.jupyter.widget-view+json": {
       "model_id": "195982e5c4074487b13e8fce333915d1",
       "version_major": 2,
       "version_minor": 0
      },
      "text/plain": [
       "Validation:   0%|          | 0/92 [00:00<?, ?it/s]"
      ]
     },
     "metadata": {},
     "output_type": "display_data"
    },
    {
     "name": "stdout",
     "output_type": "stream",
     "text": [
      "Epoch 10/10\n",
      "Train Loss: 0.0504\n",
      "Validation Loss: 0.1004\n",
      "Validation Accuracy: 0.7351\n",
      "No improvement for 2 epochs (best val_loss: 0.0932 at epoch 8)\n",
      "\n",
      "학습 완료!\n",
      "Best epoch: 8\n",
      "Best validation loss: 0.0932\n",
      "Best validation accuracy: 0.7364\n"
     ]
    }
   ],
   "source": [
    "# 학습 루프\n",
    "best_val_loss = float('inf')\n",
    "best_val_accuracy = 0\n",
    "best_epoch = -1\n",
    "patience_counter = 0\n",
    "\n",
    "for epoch in range(num_epochs):\n",
    "    # 학습 단계\n",
    "    predictor.model.train()\n",
    "    total_train_loss = 0\n",
    "    \n",
    "    for batch in tqdm(train_loader, desc=f'Epoch {epoch+1}/{num_epochs} - Training'):\n",
    "        optimizer.zero_grad()\n",
    "        \n",
    "        input_ids = batch['input_ids'].to(predictor.device)\n",
    "        attention_mask = batch['attention_mask'].to(predictor.device)\n",
    "        labels = batch['labels'].to(predictor.device)\n",
    "        \n",
    "        outputs = predictor.model(input_ids=input_ids, attention_mask=attention_mask, labels=labels)\n",
    "        loss = outputs.loss\n",
    "        loss.backward()\n",
    "        optimizer.step()\n",
    "        \n",
    "        total_train_loss += loss.item()\n",
    "    \n",
    "    avg_train_loss = total_train_loss / len(train_loader)\n",
    "    \n",
    "    # 검증\n",
    "    val_loss, val_accuracy = validate(predictor.model, val_loader, predictor.device, predictor.tokenizer)\n",
    "    \n",
    "    # 히스토리 업데이트\n",
    "    history['train_loss'].append(avg_train_loss)\n",
    "    history['val_loss'].append(val_loss)\n",
    "    history['val_accuracy'].append(val_accuracy)\n",
    "    \n",
    "    # 현재 성능 출력\n",
    "    print(f'Epoch {epoch+1}/{num_epochs}')\n",
    "    print(f'Train Loss: {avg_train_loss:.4f}')\n",
    "    print(f'Validation Loss: {val_loss:.4f}')\n",
    "    print(f'Validation Accuracy: {val_accuracy:.4f}')\n",
    "    \n",
    "    # Early stopping 및 체크포인트 저장 로직\n",
    "    if val_loss < best_val_loss - min_delta:  # 유의미한 개선이 있는 경우\n",
    "        print(f'Validation loss improved from {best_val_loss:.4f} to {val_loss:.4f}')\n",
    "        best_val_loss = val_loss\n",
    "        best_val_accuracy = val_accuracy\n",
    "        best_epoch = epoch\n",
    "        patience_counter = 0\n",
    "        \n",
    "        # 체크포인트 저장\n",
    "        predictor.save_checkpoint(\n",
    "            epoch,\n",
    "            predictor.model,\n",
    "            optimizer,\n",
    "            val_loss,\n",
    "            f'checkpoints/pko_t5_best_model.pt'\n",
    "        )\n",
    "    else:\n",
    "        patience_counter += 1\n",
    "        print(f'No improvement for {patience_counter} epochs (best val_loss: {best_val_loss:.4f} at epoch {best_epoch+1})')\n",
    "        \n",
    "    # Early stopping 체크\n",
    "    if patience_counter >= patience:\n",
    "        print(f'\\nEarly stopping triggered after epoch {epoch+1}')\n",
    "        print(f'Best validation loss: {best_val_loss:.4f}')\n",
    "        print(f'Best validation accuracy: {best_val_accuracy:.4f}')\n",
    "        print(f'Best epoch: {best_epoch+1}')\n",
    "        break\n",
    "\n",
    "# 학습 완료 후 최종 결과 출력\n",
    "print('\\n학습 완료!')\n",
    "print(f'Best epoch: {best_epoch+1}')\n",
    "print(f'Best validation loss: {best_val_loss:.4f}')\n",
    "print(f'Best validation accuracy: {best_val_accuracy:.4f}')\n",
    "\n",
    "# 학습 히스토리 저장\n",
    "predictor.save_history(history, 'history/pko_t5_history.json')"
   ]
  },
  {
   "cell_type": "markdown",
   "metadata": {},
   "source": [
    "## 4. 학습 결과 시각화"
   ]
  },
  {
   "cell_type": "code",
   "execution_count": 7,
   "metadata": {},
   "outputs": [
    {
     "data": {
      "image/png": "[encoded data removed]",
      "text/plain": [
       "<Figure size 1200x400 with 2 Axes>"
      ]
     },
     "metadata": {},
     "output_type": "display_data"
    }
   ],
   "source": [
    "plt.figure(figsize=(12, 4))\n",
    "\n",
    "# Loss 그래프\n",
    "plt.subplot(1, 2, 1)\n",
    "plt.plot(history['train_loss'], label='Train Loss')\n",
    "plt.plot(history['val_loss'], label='Validation Loss')\n",
    "plt.xlabel('Epochs')\n",
    "plt.ylabel('Loss')\n",
    "plt.title('Train 및 Validation Loss')\n",
    "plt.legend()\n",
    "\n",
    "# Accuracy 그래프\n",
    "plt.subplot(1, 2, 2)\n",
    "plt.plot(history['val_accuracy'], label='Validation Accuracy')\n",
    "plt.xlabel('Epochs')\n",
    "plt.ylabel('Accuracy')\n",
    "plt.title('Validation Accuracy')\n",
    "plt.legend()\n",
    "\n",
    "plt.tight_layout()\n",
    "plt.show()"
   ]
  },
  {
   "cell_type": "markdown",
   "metadata": {},
   "source": [
    "## 5. 모델 검정"
   ]
  },
  {
   "cell_type": "code",
   "execution_count": 8,
   "metadata": {},
   "outputs": [],
   "source": [
    "# 모델 체크포인트 경로 설정\n",
    "CHECKPOINT_PATH = 'checkpoints/pko_t5_best_model.pt'"
   ]
  },
  {
   "cell_type": "code",
   "execution_count": 9,
   "metadata": {},
   "outputs": [
    {
     "name": "stdout",
     "output_type": "stream",
     "text": [
      "입력 텍스트:\n",
      "블록체인 기술은 투표 과정의 투명성을 크게 향상시킬 수 있다. [SEP] 이러한 특성은 유권자들에게 신뢰를 제공하며, 민주적 참여를 촉진하는 데 기여할 수 있다. [SEP] 결과적으로 블록체인 기반의 투표 시스템은 공정하고 신뢰할 수 있는 선거 환경을 조성할 잠재력을 지닌다. [SEP] 각 투표는 변경 불가능한 기록으로 저장되어 조작의 가능성을 원천적으로 차단한다.\n",
      "\n",
      "예측된 순서: [0, 3, 1, 2]\n",
      "실제 순서: 0 3 1 2\n",
      "정확도: 1\n"
     ]
    }
   ],
   "source": [
    "# 최적 모델 불러오기\n",
    "predictor.load_checkpoint(CHECKPOINT_PATH)\n",
    "\n",
    "# 테스트할 텍스트\n",
    "test_text = df['input_text'].iloc[0]  # 첫 번째 샘플로 테스트\n",
    "true_order = df['target_text'].iloc[0]\n",
    "\n",
    "# 예측\n",
    "predicted_order = predictor.predict_order(test_text)\n",
    "\n",
    "print(\"입력 텍스트:\")\n",
    "print(test_text)\n",
    "print(\"\\n예측된 순서:\", predicted_order)\n",
    "print(\"실제 순서:\", true_order)\n",
    "print(\"정확도:\", compute_accuracy(predicted_order, true_order))"
   ]
  },
  {
   "cell_type": "code",
   "execution_count": 10,
   "metadata": {},
   "outputs": [],
   "source": [
    "from sklearn.metrics import precision_score, recall_score, f1_score\n",
    "\n",
    "def evaluate_all_metrics(predictor, df):\n",
    "    \"\"\"\n",
    "    전체 데이터셋에 대한 평가 메트릭을 계산\n",
    "    \n",
    "    Args:\n",
    "        predictor: 학습된 모델\n",
    "        df: 평가할 데이터프레임\n",
    "    \n",
    "    Returns:\n",
    "        dict: 각종 평가 메트릭\n",
    "    \"\"\"\n",
    "    all_accuracies = []\n",
    "    all_true_orders = []\n",
    "    all_pred_orders = []\n",
    "    \n",
    "    print(\"전체 데이터셋 평가 중...\")\n",
    "    for idx in tqdm(range(len(df))):\n",
    "        test_text = df['input_text'].iloc[idx]\n",
    "        true_order = df['target_text'].iloc[idx]\n",
    "        \n",
    "        try:\n",
    "            # 예측\n",
    "            predicted_order = predictor.predict_order(test_text)\n",
    "            \n",
    "            # true_order가 문자열이면 리스트로 변환\n",
    "            if isinstance(true_order, str):\n",
    "                true_order = list(map(int, true_order.split()))\n",
    "            \n",
    "            # predicted_order가 문자열이면 리스트로 변환\n",
    "            if isinstance(predicted_order, str):\n",
    "                predicted_order = list(map(int, predicted_order.split()))\n",
    "            \n",
    "            # 정확도 계산\n",
    "            accuracy = compute_accuracy(predicted_order, true_order)\n",
    "            all_accuracies.append(accuracy)\n",
    "            \n",
    "            # 순서 저장\n",
    "            all_true_orders.extend(true_order)\n",
    "            all_pred_orders.extend(predicted_order)\n",
    "            \n",
    "        except Exception as e:\n",
    "            print(f\"Warning: 샘플 {idx}에서 오류 발생 - {str(e)}\")\n",
    "            print(f\"Input text: {test_text}\")\n",
    "            print(f\"True order: {true_order}\")\n",
    "            print(f\"Predicted order: {predicted_order}\")\n",
    "            continue\n",
    "    \n",
    "    if not all_accuracies:\n",
    "        print(\"Warning: 평가할 수 있는 샘플이 없습니다.\")\n",
    "        return None\n",
    "    \n",
    "    # 전체 메트릭 계산\n",
    "    metrics = {\n",
    "        'accuracy': np.mean(all_accuracies),\n",
    "        'precision': precision_score(all_true_orders, all_pred_orders, average='macro'),\n",
    "        'recall': recall_score(all_true_orders, all_pred_orders, average='macro'),\n",
    "        'f1': f1_score(all_true_orders, all_pred_orders, average='macro')\n",
    "    }\n",
    "    \n",
    "    return metrics"
   ]
  },
  {
   "cell_type": "code",
   "execution_count": 11,
   "metadata": {},
   "outputs": [
    {
     "name": "stdout",
     "output_type": "stream",
     "text": [
      "전체 데이터셋 평가 중...\n"
     ]
    },
    {
     "data": {
      "application/vnd.jupyter.widget-view+json": {
       "model_id": "eea013155c3a4498a64a7096e411646b",
       "version_major": 2,
       "version_minor": 0
      },
      "text/plain": [
       "  0%|          | 0/7351 [00:00<?, ?it/s]"
      ]
     },
     "metadata": {},
     "output_type": "display_data"
    },
    {
     "name": "stdout",
     "output_type": "stream",
     "text": [
      "\n",
      "=== 전체 데이터셋 평가 결과 ===\n",
      "전체 정확도: 0.8821\n",
      "Precision: 0.9398\n",
      "Recall: 0.9398\n",
      "F1-Score: 0.9398\n"
     ]
    }
   ],
   "source": [
    "# 모델 로드\n",
    "predictor.load_checkpoint('checkpoints/pko_t5_best_model.pt')\n",
    "\n",
    "# 전체 데이터셋 평가\n",
    "metrics = evaluate_all_metrics(predictor, df)\n",
    "\n",
    "print(\"\\n=== 전체 데이터셋 평가 결과 ===\")\n",
    "print(f\"전체 정확도: {metrics['accuracy']:.4f}\")\n",
    "print(f\"Precision: {metrics['precision']:.4f}\")\n",
    "print(f\"Recall: {metrics['recall']:.4f}\")\n",
    "print(f\"F1-Score: {metrics['f1']:.4f}\")"
   ]
  },
  {
   "cell_type": "code",
   "execution_count": 12,
   "metadata": {},
   "outputs": [
    {
     "data": {
      "image/png": "[encoded data removed]",
      "text/plain": [
       "<Figure size 1000x600 with 1 Axes>"
      ]
     },
     "metadata": {},
     "output_type": "display_data"
    }
   ],
   "source": [
    "# 결과를 시각화\n",
    "plt.figure(figsize=(10, 6))\n",
    "metrics_values = list(metrics.values())\n",
    "metrics_names = list(metrics.keys())\n",
    "\n",
    "plt.bar(metrics_names, metrics_values)\n",
    "plt.title('평가 메트릭')\n",
    "plt.ylabel('Score')\n",
    "plt.ylim(0, 1)\n",
    "\n",
    "for i, v in enumerate(metrics_values):\n",
    "    plt.text(i, v + 0.01, f'{v:.4f}', ha='center')\n",
    "\n",
    "plt.show()"
   ]
  },
  {
   "cell_type": "markdown",
   "metadata": {},
   "source": [
    "## 6. 하이퍼파라미터 튜닝"
   ]
  },
  {
   "cell_type": "code",
   "execution_count": 8,
   "metadata": {},
   "outputs": [],
   "source": [
    "def train_with_params(learning_rate, batch_size, max_epochs, train_dataset, val_dataset, model_name=\"paust/pko-t5-base\", use_auto_classes=False):\n",
    "    \"\"\"주어진 하이퍼파라미터로 모델 학습\"\"\"\n",
    "    # 모델과 옵티마이저 초기화\n",
    "    predictor = SentenceOrderPredictor(model_name=model_name, use_auto_classes=use_auto_classes)\n",
    "    optimizer = AdamW(predictor.model.parameters(), lr=learning_rate)\n",
    "    \n",
    "    # 데이터로더 생성\n",
    "    train_loader, val_loader = predictor.create_dataloaders(train_dataset, val_dataset, batch_size=batch_size)\n",
    "    \n",
    "    best_val_loss = float('inf')\n",
    "    best_val_accuracy = 0\n",
    "    best_epoch = -1\n",
    "    patience_counter = 0\n",
    "    patience = 3\n",
    "    min_delta = 1e-4\n",
    "    \n",
    "    for epoch in range(max_epochs):\n",
    "        # 학습\n",
    "        predictor.model.train()\n",
    "        total_train_loss = 0\n",
    "        \n",
    "        for batch in tqdm(train_loader, desc=f'Epoch {epoch+1}/{max_epochs} - Training'):\n",
    "            optimizer.zero_grad()\n",
    "            \n",
    "            input_ids = batch['input_ids'].to(predictor.device)\n",
    "            attention_mask = batch['attention_mask'].to(predictor.device)\n",
    "            labels = batch['labels'].to(predictor.device)\n",
    "            \n",
    "            outputs = predictor.model(input_ids=input_ids,\n",
    "                                    attention_mask=attention_mask,\n",
    "                                    labels=labels)\n",
    "            \n",
    "            loss = outputs.loss\n",
    "            loss.backward()\n",
    "            optimizer.step()\n",
    "            \n",
    "            total_train_loss += loss.item()\n",
    "        \n",
    "        avg_train_loss = total_train_loss / len(train_loader)\n",
    "        \n",
    "        # Validation\n",
    "        val_loss, val_accuracy = validate(predictor.model, val_loader, predictor.device, predictor.tokenizer)\n",
    "        \n",
    "        print(f'Epoch {epoch+1}/{max_epochs}')\n",
    "        print(f'Train Loss: {avg_train_loss:.4f}')\n",
    "        print(f'Validation Loss: {val_loss:.4f}')\n",
    "        print(f'Validation Accuracy: {val_accuracy:.4f}')\n",
    "        \n",
    "        if val_loss < best_val_loss - min_delta:\n",
    "            print(f'Validation loss improved from {best_val_loss:.4f} to {val_loss:.4f}')\n",
    "            best_val_loss = val_loss\n",
    "            best_val_accuracy = val_accuracy\n",
    "            best_epoch = epoch\n",
    "            patience_counter = 0\n",
    "        else:\n",
    "            patience_counter += 1\n",
    "            print(f'No improvement for {patience_counter} epochs (best val_loss: {best_val_loss:.4f} at epoch {best_epoch+1})')\n",
    "            \n",
    "        if patience_counter >= patience:\n",
    "            print(f'Early stopping at epoch {epoch+1}')\n",
    "            break\n",
    "    \n",
    "    return best_val_loss, best_val_accuracy"
   ]
  },
  {
   "cell_type": "code",
   "execution_count": 9,
   "metadata": {},
   "outputs": [],
   "source": [
    "def run_grid_search(train_dataset, val_dataset, model_name=\"paust/pko-t5-base\", use_auto_classes=False):\n",
    "    \"\"\"그리드 서치 수행\"\"\"\n",
    "    # 그리드 서치 파라미터\n",
    "    param_grid = {\n",
    "        'learning_rate': [1e-5, 2e-5, 5e-5],\n",
    "        'batch_size': [4, 8, 16],\n",
    "        'max_epochs': [5, 10]\n",
    "    }\n",
    "\n",
    "    # 결과 저장용 리스트\n",
    "    results = []\n",
    "    best_params = None\n",
    "    best_accuracy = 0\n",
    "\n",
    "    # 총 시도 횟수 계산\n",
    "    total_trials = len(param_grid['learning_rate']) * len(param_grid['batch_size']) * len(param_grid['max_epochs'])\n",
    "    trial_count = 0\n",
    "\n",
    "    for lr in param_grid['learning_rate']:\n",
    "        for bs in param_grid['batch_size']:\n",
    "            for epochs in param_grid['max_epochs']:\n",
    "                trial_count += 1\n",
    "                print(f'\\n[Trial {trial_count}/{total_trials}]')\n",
    "                print(f'Parameters: Learning Rate={lr}, Batch Size={bs}, Max Epochs={epochs}')\n",
    "                \n",
    "                val_loss, val_acc = train_with_params(\n",
    "                    learning_rate=lr,\n",
    "                    batch_size=bs,\n",
    "                    max_epochs=epochs,\n",
    "                    train_dataset=train_dataset,\n",
    "                    val_dataset=val_dataset,\n",
    "                    model_name=model_name,\n",
    "                    use_auto_classes=use_auto_classes\n",
    "                )\n",
    "                \n",
    "                results.append({\n",
    "                    'learning_rate': lr,\n",
    "                    'batch_size': bs,\n",
    "                    'max_epochs': epochs,\n",
    "                    'val_loss': val_loss,\n",
    "                    'val_accuracy': val_acc\n",
    "                })\n",
    "                \n",
    "                # 최고 성능 업데이트\n",
    "                if val_acc > best_accuracy:\n",
    "                    best_accuracy = val_acc\n",
    "                    best_params = {\n",
    "                        'learning_rate': lr,\n",
    "                        'batch_size': bs,\n",
    "                        'max_epochs': epochs\n",
    "                    }\n",
    "                \n",
    "                print(f'Results: Val Loss={val_loss:.4f}, Val Accuracy={val_acc:.4f}')\n",
    "\n",
    "    # 결과를 DataFrame으로 변환\n",
    "    results_df = pd.DataFrame(results)\n",
    "    results_df = results_df.sort_values('val_accuracy', ascending=False)\n",
    "    \n",
    "    # 결과 저장\n",
    "    results_df.to_csv(f'grid_search_results/pko_t5_results.csv', index=False)\n",
    "    \n",
    "    print('\\n=== 그리드 서치 완료 ===')\n",
    "    print('\\n최적의 하이퍼파라미터:')\n",
    "    print(f'Learning Rate: {best_params[\"learning_rate\"]}')\n",
    "    print(f'Batch Size: {best_params[\"batch_size\"]}')\n",
    "    print(f'Max Epochs: {best_params[\"max_epochs\"]}')\n",
    "    print(f'Best Validation Accuracy: {best_accuracy:.4f}')\n",
    "    \n",
    "    return results_df, best_params"
   ]
  },
  {
   "cell_type": "code",
   "execution_count": null,
   "metadata": {},
   "outputs": [],
   "source": [
    "# 그리드 서치 실행\n",
    "results_df, best_params = run_grid_search(\n",
    "    train_dataset=train_dataset,\n",
    "    val_dataset=val_dataset,\n",
    "    model_name=\"paust/pko-t5-base\",\n",
    "    use_auto_classes=False\n",
    ")\n",
    "\n",
    "# 상위 5개 결과 표시\n",
    "results_df.head()"
   ]
  },
  {
   "cell_type": "markdown",
   "metadata": {},
   "source": [
    "## 7. 최적 모델로 예측 테스트"
   ]
  },
  {
   "cell_type": "code",
   "execution_count": 5,
   "metadata": {},
   "outputs": [],
   "source": [
    "# 모델 체크포인트 경로 설정\n",
    "CHECKPOINT_PATH = 'checkpoints/pko_t5_best_model.pt'"
   ]
  },
  {
   "cell_type": "code",
   "execution_count": null,
   "metadata": {},
   "outputs": [],
   "source": [
    "# 최적 모델 불러오기\n",
    "predictor.load_checkpoint(CHECKPOINT_PATH)\n",
    "\n",
    "# 테스트할 텍스트\n",
    "test_text = df['input_text'].iloc[0]  # 첫 번째 샘플로 테스트\n",
    "true_order = df['target_text'].iloc[0]\n",
    "\n",
    "# 예측\n",
    "predicted_order = predictor.predict_order(test_text)\n",
    "\n",
    "print(\"입력 텍스트:\")\n",
    "print(test_text)\n",
    "print(\"\\n예측된 순서:\", predicted_order)\n",
    "print(\"실제 순서:\", true_order)\n",
    "print(\"정확도:\", compute_accuracy(predicted_order, true_order))"
   ]
  },
  {
   "cell_type": "code",
   "execution_count": 13,
   "metadata": {},
   "outputs": [],
   "source": [
    "from sklearn.metrics import precision_score, recall_score, f1_score\n",
    "\n",
    "def evaluate_all_metrics(predictor, df):\n",
    "    \"\"\"\n",
    "    전체 데이터셋에 대한 평가 메트릭을 계산\n",
    "    \n",
    "    Args:\n",
    "        predictor: 학습된 모델\n",
    "        df: 평가할 데이터프레임\n",
    "    \n",
    "    Returns:\n",
    "        dict: 각종 평가 메트릭\n",
    "    \"\"\"\n",
    "    all_accuracies = []\n",
    "    all_true_orders = []\n",
    "    all_pred_orders = []\n",
    "    \n",
    "    print(\"전체 데이터셋 평가 중...\")\n",
    "    for idx in tqdm(range(len(df))):\n",
    "        test_text = df['input_text'].iloc[idx]\n",
    "        true_order = df['target_text'].iloc[idx]\n",
    "        \n",
    "        try:\n",
    "            # 예측\n",
    "            predicted_order = predictor.predict_order(test_text)\n",
    "            \n",
    "            # true_order가 문자열이면 리스트로 변환\n",
    "            if isinstance(true_order, str):\n",
    "                true_order = list(map(int, true_order.split()))\n",
    "            \n",
    "            # predicted_order가 문자열이면 리스트로 변환\n",
    "            if isinstance(predicted_order, str):\n",
    "                predicted_order = list(map(int, predicted_order.split()))\n",
    "            \n",
    "            # 정확도 계산\n",
    "            accuracy = compute_accuracy(predicted_order, true_order)\n",
    "            all_accuracies.append(accuracy)\n",
    "            \n",
    "            # 순서 저장\n",
    "            all_true_orders.extend(true_order)\n",
    "            all_pred_orders.extend(predicted_order)\n",
    "            \n",
    "        except Exception as e:\n",
    "            print(f\"Warning: 샘플 {idx}에서 오류 발생 - {str(e)}\")\n",
    "            print(f\"Input text: {test_text}\")\n",
    "            print(f\"True order: {true_order}\")\n",
    "            print(f\"Predicted order: {predicted_order}\")\n",
    "            continue\n",
    "    \n",
    "    if not all_accuracies:\n",
    "        print(\"Warning: 평가할 수 있는 샘플이 없습니다.\")\n",
    "        return None\n",
    "    \n",
    "    # 전체 메트릭 계산\n",
    "    metrics = {\n",
    "        'accuracy': np.mean(all_accuracies),\n",
    "        'precision': precision_score(all_true_orders, all_pred_orders, average='macro'),\n",
    "        'recall': recall_score(all_true_orders, all_pred_orders, average='macro'),\n",
    "        'f1': f1_score(all_true_orders, all_pred_orders, average='macro')\n",
    "    }\n",
    "    \n",
    "    return metrics"
   ]
  },
  {
   "cell_type": "code",
   "execution_count": null,
   "metadata": {},
   "outputs": [],
   "source": [
    "# 모델 로드\n",
    "predictor.load_checkpoint('checkpoints/pko_t5_best_model.pt')\n",
    "\n",
    "# 전체 데이터셋 평가\n",
    "metrics = evaluate_all_metrics(predictor, df)\n",
    "\n",
    "print(\"\\n=== 전체 데이터셋 평가 결과 ===\")\n",
    "print(f\"전체 정확도: {metrics['accuracy']:.4f}\")\n",
    "print(f\"Precision: {metrics['precision']:.4f}\")\n",
    "print(f\"Recall: {metrics['recall']:.4f}\")\n",
    "print(f\"F1-Score: {metrics['f1']:.4f}\")"
   ]
  },
  {
   "cell_type": "code",
   "execution_count": null,
   "metadata": {},
   "outputs": [],
   "source": [
    "# 결과를 시각화\n",
    "plt.figure(figsize=(10, 6))\n",
    "metrics_values = list(metrics.values())\n",
    "metrics_names = list(metrics.keys())\n",
    "\n",
    "plt.bar(metrics_names, metrics_values)\n",
    "plt.title('평가 메트릭')\n",
    "plt.ylabel('Score')\n",
    "plt.ylim(0, 1)\n",
    "\n",
    "for i, v in enumerate(metrics_values):\n",
    "    plt.text(i, v + 0.01, f'{v:.4f}', ha='center')\n",
    "\n",
    "plt.show()"
   ]
  },
  {
   "cell_type": "markdown",
   "metadata": {},
   "source": [
    "## 8. 테스트 데이터 예측"
   ]
  },
  {
   "cell_type": "code",
   "execution_count": null,
   "metadata": {},
   "outputs": [],
   "source": [
    "# 테스트 데이터 로드\n",
    "test_df = pd.read_csv('../data/test.csv')\n",
    "\n",
    "# 모델 로드\n",
    "predictor = SentenceOrderPredictor()\n",
    "\n",
    "# 체크포인트 로드 시 메모리 효율적인 방식 사용\n",
    "checkpoint = torch.load('./checkpoints/pko_t5_best_model.pt', map_location='cpu')\n",
    "predictor.model.load_state_dict(checkpoint['model_state_dict'])\n",
    "predictor.model.to('cuda')\n",
    "\n",
    "# 불필요한 메모리 해제\n",
    "del checkpoint\n",
    "torch.cuda.empty_cache()\n",
    "\n",
    "# 예측 결과를 저장할 리스트\n",
    "predictions = []\n",
    "\n",
    "# 각 테스트 케이스에 대해 예측 수행\n",
    "for idx, row in tqdm(test_df.iterrows(), total=len(test_df), desc=\"Predicting\"):\n",
    "    # 입력 텍스트 준비 ([SEP]로 문장들 연결)\n",
    "    input_text = f\"{row['sentence_0']} [SEP] {row['sentence_1']} [SEP] {row['sentence_2']} [SEP] {row['sentence_3']}\"\n",
    "    \n",
    "    # 순서 예측\n",
    "    predicted_order = predictor.predict_order(input_text)\n",
    "    \n",
    "    # 예측 결과를 문자열로 변환 (공백으로 구분)\n",
    "    prediction_str = ' '.join(map(str, predicted_order))\n",
    "    predictions.append(prediction_str)"
   ]
  },
  {
   "cell_type": "code",
   "execution_count": 6,
   "metadata": {},
   "outputs": [
    {
     "data": {
      "text/html": [
       "<div>\n",
       "<style scoped>\n",
       "    .dataframe tbody tr th:only-of-type {\n",
       "        vertical-align: middle;\n",
       "    }\n",
       "\n",
       "    .dataframe tbody tr th {\n",
       "        vertical-align: top;\n",
       "    }\n",
       "\n",
       "    .dataframe thead th {\n",
       "        text-align: right;\n",
       "    }\n",
       "</style>\n",
       "<table border=\"1\" class=\"dataframe\">\n",
       "  <thead>\n",
       "    <tr style=\"text-align: right;\">\n",
       "      <th></th>\n",
       "      <th>ID</th>\n",
       "      <th>sentence_0</th>\n",
       "      <th>sentence_1</th>\n",
       "      <th>sentence_2</th>\n",
       "      <th>sentence_3</th>\n",
       "    </tr>\n",
       "  </thead>\n",
       "  <tbody>\n",
       "    <tr>\n",
       "      <th>0</th>\n",
       "      <td>TEST_0000</td>\n",
       "      <td>자유 의지와 결정론은 서로 상충하는 개념으로 여겨지지만, 이 둘의 공존 가능성도 탐...</td>\n",
       "      <td>결정론은 모든 사건이 원인과 결과의 연쇄에 의해 발생한다고 주장하며, 이는 인간의 ...</td>\n",
       "      <td>그러나 인간의 인식과 선택 과정에서 나타나는 복잡성과 예측 불가능성은 자유 의지의 ...</td>\n",
       "      <td>결국, 자유 의지와 결정론은 서로를 배제하기보다는, 인간 경험의 다양한 측면을 설명...</td>\n",
       "    </tr>\n",
       "    <tr>\n",
       "      <th>1</th>\n",
       "      <td>TEST_0001</td>\n",
       "      <td>사회적 낙인은 개인의 자아 존중감에 부정적인 영향을 미친다.</td>\n",
       "      <td>건강 불평등은 이러한 낙인으로 인해 더욱 심화되며, 특정 집단이 의료 서비스 접근에...</td>\n",
       "      <td>결국, 사회적 낙인과 건강 불평등은 서로 연결되어 있으며, 이를 해결하기 위한 포괄...</td>\n",
       "      <td>낙인으로 인해 사람들은 사회적 고립을 경험하고, 이는 정신적 및 신체적 건강에 악영...</td>\n",
       "    </tr>\n",
       "  </tbody>\n",
       "</table>\n",
       "</div>"
      ],
      "text/plain": [
       "          ID                                         sentence_0  \\\n",
       "0  TEST_0000  자유 의지와 결정론은 서로 상충하는 개념으로 여겨지지만, 이 둘의 공존 가능성도 탐...   \n",
       "1  TEST_0001                  사회적 낙인은 개인의 자아 존중감에 부정적인 영향을 미친다.   \n",
       "\n",
       "                                          sentence_1  \\\n",
       "0  결정론은 모든 사건이 원인과 결과의 연쇄에 의해 발생한다고 주장하며, 이는 인간의 ...   \n",
       "1  건강 불평등은 이러한 낙인으로 인해 더욱 심화되며, 특정 집단이 의료 서비스 접근에...   \n",
       "\n",
       "                                          sentence_2  \\\n",
       "0  그러나 인간의 인식과 선택 과정에서 나타나는 복잡성과 예측 불가능성은 자유 의지의 ...   \n",
       "1  결국, 사회적 낙인과 건강 불평등은 서로 연결되어 있으며, 이를 해결하기 위한 포괄...   \n",
       "\n",
       "                                          sentence_3  \n",
       "0  결국, 자유 의지와 결정론은 서로를 배제하기보다는, 인간 경험의 다양한 측면을 설명...  \n",
       "1  낙인으로 인해 사람들은 사회적 고립을 경험하고, 이는 정신적 및 신체적 건강에 악영...  "
      ]
     },
     "execution_count": 6,
     "metadata": {},
     "output_type": "execute_result"
    }
   ],
   "source": [
    "test_df.head(2)"
   ]
  },
  {
   "cell_type": "code",
   "execution_count": 22,
   "metadata": {},
   "outputs": [
    {
     "data": {
      "text/plain": [
       "['2 1 0 3', '0 3 1 2']"
      ]
     },
     "execution_count": 22,
     "metadata": {},
     "output_type": "execute_result"
    }
   ],
   "source": [
    "predictions[:2]"
   ]
  },
  {
   "cell_type": "code",
   "execution_count": 19,
   "metadata": {},
   "outputs": [],
   "source": [
    "# 예측 결과를 제출 형식에 맞게 변환\n",
    "submission = pd.DataFrame({\n",
    "    'ID': test_df['ID'],\n",
    "    'answer_0': [pred[0] for pred in predictions],\n",
    "    'answer_1': [pred[2] for pred in predictions],\n",
    "    'answer_2': [pred[4] for pred in predictions],\n",
    "    'answer_3': [pred[6] for pred in predictions]\n",
    "})\n",
    "\n",
    "# 결과를 CSV 파일로 저장\n",
    "submission.to_csv('../data/submission.csv', index=False)"
   ]
  },
  {
   "cell_type": "code",
   "execution_count": 20,
   "metadata": {},
   "outputs": [
    {
     "data": {
      "text/html": [
       "<div>\n",
       "<style scoped>\n",
       "    .dataframe tbody tr th:only-of-type {\n",
       "        vertical-align: middle;\n",
       "    }\n",
       "\n",
       "    .dataframe tbody tr th {\n",
       "        vertical-align: top;\n",
       "    }\n",
       "\n",
       "    .dataframe thead th {\n",
       "        text-align: right;\n",
       "    }\n",
       "</style>\n",
       "<table border=\"1\" class=\"dataframe\">\n",
       "  <thead>\n",
       "    <tr style=\"text-align: right;\">\n",
       "      <th></th>\n",
       "      <th>ID</th>\n",
       "      <th>answer_0</th>\n",
       "      <th>answer_1</th>\n",
       "      <th>answer_2</th>\n",
       "      <th>answer_3</th>\n",
       "    </tr>\n",
       "  </thead>\n",
       "  <tbody>\n",
       "    <tr>\n",
       "      <th>0</th>\n",
       "      <td>TEST_0000</td>\n",
       "      <td>2</td>\n",
       "      <td>1</td>\n",
       "      <td>0</td>\n",
       "      <td>3</td>\n",
       "    </tr>\n",
       "    <tr>\n",
       "      <th>1</th>\n",
       "      <td>TEST_0001</td>\n",
       "      <td>0</td>\n",
       "      <td>3</td>\n",
       "      <td>1</td>\n",
       "      <td>2</td>\n",
       "    </tr>\n",
       "    <tr>\n",
       "      <th>2</th>\n",
       "      <td>TEST_0002</td>\n",
       "      <td>0</td>\n",
       "      <td>3</td>\n",
       "      <td>2</td>\n",
       "      <td>1</td>\n",
       "    </tr>\n",
       "    <tr>\n",
       "      <th>3</th>\n",
       "      <td>TEST_0003</td>\n",
       "      <td>3</td>\n",
       "      <td>2</td>\n",
       "      <td>1</td>\n",
       "      <td>0</td>\n",
       "    </tr>\n",
       "    <tr>\n",
       "      <th>4</th>\n",
       "      <td>TEST_0004</td>\n",
       "      <td>0</td>\n",
       "      <td>2</td>\n",
       "      <td>1</td>\n",
       "      <td>3</td>\n",
       "    </tr>\n",
       "    <tr>\n",
       "      <th>...</th>\n",
       "      <td>...</td>\n",
       "      <td>...</td>\n",
       "      <td>...</td>\n",
       "      <td>...</td>\n",
       "      <td>...</td>\n",
       "    </tr>\n",
       "    <tr>\n",
       "      <th>1775</th>\n",
       "      <td>TEST_1775</td>\n",
       "      <td>3</td>\n",
       "      <td>1</td>\n",
       "      <td>0</td>\n",
       "      <td>2</td>\n",
       "    </tr>\n",
       "    <tr>\n",
       "      <th>1776</th>\n",
       "      <td>TEST_1776</td>\n",
       "      <td>1</td>\n",
       "      <td>3</td>\n",
       "      <td>2</td>\n",
       "      <td>0</td>\n",
       "    </tr>\n",
       "    <tr>\n",
       "      <th>1777</th>\n",
       "      <td>TEST_1777</td>\n",
       "      <td>2</td>\n",
       "      <td>1</td>\n",
       "      <td>3</td>\n",
       "      <td>0</td>\n",
       "    </tr>\n",
       "    <tr>\n",
       "      <th>1778</th>\n",
       "      <td>TEST_1778</td>\n",
       "      <td>2</td>\n",
       "      <td>1</td>\n",
       "      <td>0</td>\n",
       "      <td>3</td>\n",
       "    </tr>\n",
       "    <tr>\n",
       "      <th>1779</th>\n",
       "      <td>TEST_1779</td>\n",
       "      <td>2</td>\n",
       "      <td>0</td>\n",
       "      <td>3</td>\n",
       "      <td>1</td>\n",
       "    </tr>\n",
       "  </tbody>\n",
       "</table>\n",
       "<p>1780 rows × 5 columns</p>\n",
       "</div>"
      ],
      "text/plain": [
       "             ID answer_0 answer_1 answer_2 answer_3\n",
       "0     TEST_0000        2        1        0        3\n",
       "1     TEST_0001        0        3        1        2\n",
       "2     TEST_0002        0        3        2        1\n",
       "3     TEST_0003        3        2        1        0\n",
       "4     TEST_0004        0        2        1        3\n",
       "...         ...      ...      ...      ...      ...\n",
       "1775  TEST_1775        3        1        0        2\n",
       "1776  TEST_1776        1        3        2        0\n",
       "1777  TEST_1777        2        1        3        0\n",
       "1778  TEST_1778        2        1        0        3\n",
       "1779  TEST_1779        2        0        3        1\n",
       "\n",
       "[1780 rows x 5 columns]"
      ]
     },
     "execution_count": 20,
     "metadata": {},
     "output_type": "execute_result"
    }
   ],
   "source": [
    "submission"
   ]
  }
 ],
 "metadata": {
  "kernelspec": {
   "display_name": "base",
   "language": "python",
   "name": "python3"
  },
  "language_info": {
   "codemirror_mode": {
    "name": "ipython",
    "version": 3
   },
   "file_extension": ".py",
   "mimetype": "text/x-python",
   "name": "python",
   "nbconvert_exporter": "python",
   "pygments_lexer": "ipython3",
   "version": "3.12.3"
  }
 },
 "nbformat": 4,
 "nbformat_minor": 4
}
