{
  "cells": [
    {
      "cell_type": "code",
      "execution_count": 1,
      "metadata": {},
      "outputs": [],
      "source": [
        "import pandas as pd\n",
        "import numpy as np\n",
        "import re\n",
        "import os\n",
        "os.environ[\"WANDB_DISABLED\"] = \"true\""
      ]
    },
    {
      "cell_type": "code",
      "execution_count": 2,
      "metadata": {
        "execution": {
          "iopub.execute_input": "2025-06-01T03:00:14.753640Z",
          "iopub.status.busy": "2025-06-01T03:00:14.753407Z",
          "iopub.status.idle": "2025-06-01T03:00:42.075447Z",
          "shell.execute_reply": "2025-06-01T03:00:42.074853Z",
          "shell.execute_reply.started": "2025-06-01T03:00:14.753623Z"
        },
        "id": "7FIQKoH2qvyZ",
        "trusted": true
      },
      "outputs": [
        {
          "name": "stdout",
          "output_type": "stream",
          "text": [
            "WARNING:tensorflow:From c:\\Anaconda\\Lib\\site-packages\\tf_keras\\src\\losses.py:2976: The name tf.losses.sparse_softmax_cross_entropy is deprecated. Please use tf.compat.v1.losses.sparse_softmax_cross_entropy instead.\n",
            "\n"
          ]
        }
      ],
      "source": [
        "from scipy.stats import loguniform\n",
        "from sklearn.model_selection import train_test_split\n",
        "import itertools\n",
        "from itertools import permutations\n",
        "import shutil\n",
        "import torch\n",
        "from torch.utils.data import Dataset, DataLoader\n",
        "import torch.nn as nn\n",
        "from safetensors.torch import load_file\n",
        "from transformers import (\n",
        "    AutoTokenizer,\n",
        "    AutoModel,\n",
        "    Trainer,\n",
        "    TrainingArguments,\n",
        "    EarlyStoppingCallback\n",
        ")"
      ]
    },
    {
      "cell_type": "markdown",
      "metadata": {},
      "source": [
        "# 1. 데이터 준비 및 전처리"
      ]
    },
    {
      "cell_type": "code",
      "execution_count": 3,
      "metadata": {
        "id": "Abf6t3Zwvtv9"
      },
      "outputs": [],
      "source": [
        "# 데이터 로드\n",
        "train_path = pd.read_csv('../data/train.csv')\n",
        "test_df = pd.read_csv('../data/test.csv')\n",
        "submission_path = pd.read_csv('../data/sample_submission.csv')"
      ]
    },
    {
      "cell_type": "code",
      "execution_count": null,
      "metadata": {
        "colab": {
          "base_uri": "https://localhost:8080/",
          "height": 414
        },
        "execution": {
          "iopub.execute_input": "2025-06-01T03:00:42.451424Z",
          "iopub.status.busy": "2025-06-01T03:00:42.451170Z",
          "iopub.status.idle": "2025-06-01T03:00:42.474622Z",
          "shell.execute_reply": "2025-06-01T03:00:42.473927Z",
          "shell.execute_reply.started": "2025-06-01T03:00:42.451402Z"
        },
        "id": "5nkFL-jSqvyc",
        "outputId": "03b3eee7-7784-4828-e90e-cbf48df94ea3",
        "trusted": true
      },
      "outputs": [],
      "source": [
        "submission_path.info()\n",
        "submission_path.head()"
      ]
    },
    {
      "cell_type": "code",
      "execution_count": 5,
      "metadata": {},
      "outputs": [],
      "source": [
        "# 텍스트 정제\n",
        "def clean_text(text):\n",
        "  # 특수문자 제거\n",
        "  text = re.sub(r'[^\\w\\s]', '', text)\n",
        "  # 소문자 변환: 한글에는 무의미\n",
        "  text = text.lower()\n",
        "  # 불필요한 공백 제거\n",
        "  text = ' '.join(text.split())\n",
        "  return text"
      ]
    },
    {
      "cell_type": "code",
      "execution_count": 6,
      "metadata": {},
      "outputs": [],
      "source": [
        "# 텍스트 정제\n",
        "for i in range(4):\n",
        "    train_path[f'sentence_{i}'] = train_path[f'sentence_{i}'].apply(clean_text)\n",
        "    test_df[f'sentence_{i}'] = test_df[f'sentence_{i}'].apply(clean_text)"
      ]
    },
    {
      "cell_type": "code",
      "execution_count": 7,
      "metadata": {
        "execution": {
          "iopub.execute_input": "2025-06-01T03:00:42.475540Z",
          "iopub.status.busy": "2025-06-01T03:00:42.475322Z",
          "iopub.status.idle": "2025-06-01T03:00:42.493164Z",
          "shell.execute_reply": "2025-06-01T03:00:42.492316Z",
          "shell.execute_reply.started": "2025-06-01T03:00:42.475523Z"
        },
        "id": "gnF7yb6oqvyc",
        "trusted": true
      },
      "outputs": [],
      "source": [
        "# data_utils.py\n",
        "def load_data(train_path, test_path):\n",
        "    train = pd.read_csv(train_path)\n",
        "    test = pd.read_csv(test_path)\n",
        "    return train, test\n",
        "\n",
        "def make_labels(df):\n",
        "    # answer_0 ~ answer_3 → [문장0은 몇 번째, 문장1은 몇 번째, ...]\n",
        "    answers = df[[f'answer_{i}' for i in range(4)]].values\n",
        "    labels = []\n",
        "    for row in answers:\n",
        "        label = [0]*4\n",
        "        for pos, sent_idx in enumerate(row):\n",
        "            label[sent_idx] = pos\n",
        "        labels.append(label)\n",
        "    return np.array(labels)"
      ]
    },
    {
      "cell_type": "markdown",
      "metadata": {
        "id": "mAdqOCQFqvyd"
      },
      "source": [
        "Dataset 클래스\n",
        " * 4개의 문장을 [SEP]로 묶어서 BERT에 넣을 수 있게 바꿔줌"
      ]
    },
    {
      "cell_type": "code",
      "execution_count": 8,
      "metadata": {
        "execution": {
          "iopub.execute_input": "2025-06-01T03:00:42.494067Z",
          "iopub.status.busy": "2025-06-01T03:00:42.493798Z",
          "iopub.status.idle": "2025-06-01T03:00:42.509629Z",
          "shell.execute_reply": "2025-06-01T03:00:42.509047Z",
          "shell.execute_reply.started": "2025-06-01T03:00:42.494050Z"
        },
        "id": "OnATscUgqvyg",
        "trusted": true
      },
      "outputs": [],
      "source": [
        "# ✅ 1. 데이터셋 클래스\n",
        "class GlobalOrderDataset(Dataset):\n",
        "    def __init__(self, df, tokenizer, labels=None, max_length=256):\n",
        "        self.sentences = df[[f'sentence_{i}' for i in range(4)]].values\n",
        "        self.tokenizer = tokenizer\n",
        "        self.labels = labels\n",
        "        self.max_length = max_length\n",
        "\n",
        "    def __len__(self):\n",
        "        return len(self.sentences)\n",
        "\n",
        "    def __getitem__(self, idx):\n",
        "        sents = self.sentences[idx]\n",
        "        text = '[CLS] ' + ' [SEP] '.join(sents) + ' [SEP]'\n",
        "        encoding = self.tokenizer(\n",
        "            text,\n",
        "            padding='max_length',\n",
        "            truncation=True,\n",
        "            max_length=self.max_length,\n",
        "            return_tensors='pt'\n",
        "        )\n",
        "        item = {k: v.squeeze(0) for k, v in encoding.items()}\n",
        "        if self.labels is not None:\n",
        "            item['labels'] = torch.tensor(self.labels[idx], dtype=torch.long)\n",
        "            return item"
      ]
    },
    {
      "cell_type": "markdown",
      "metadata": {},
      "source": [
        "# 2. 학습 준비"
      ]
    },
    {
      "cell_type": "markdown",
      "metadata": {
        "id": "8_pTePS6qvyh"
      },
      "source": [
        "Model 클래스\n",
        "- AutoModel (예: Roberta) 사용\n",
        "- 문장 4개를 넣었을 때 그 순서를 예측\n",
        "- 출력은 [batch, 4, 4] 크기의 행렬 → 각 문장이 어떤 위치에 있어야 하는지 예측"
      ]
    },
    {
      "cell_type": "code",
      "execution_count": 9,
      "metadata": {
        "execution": {
          "iopub.execute_input": "2025-06-01T03:00:42.510691Z",
          "iopub.status.busy": "2025-06-01T03:00:42.510432Z",
          "iopub.status.idle": "2025-06-01T03:00:42.528493Z",
          "shell.execute_reply": "2025-06-01T03:00:42.527768Z",
          "shell.execute_reply.started": "2025-06-01T03:00:42.510667Z"
        },
        "id": "UzOnQquWqvyh",
        "trusted": true
      },
      "outputs": [],
      "source": [
        "class GlobalOrderModel(nn.Module):\n",
        "    def __init__(self, model_name='klue/roberta-large'):\n",
        "        super().__init__()\n",
        "        self.bert = AutoModel.from_pretrained(model_name)\n",
        "        hidden_size = self.bert.config.hidden_size\n",
        "\n",
        "        # 더 깊은 분류기 구조\n",
        "        self.classifier = nn.Sequential(\n",
        "            nn.Linear(hidden_size, 1024),\n",
        "            nn.LayerNorm(1024),  # LayerNorm 추가\n",
        "            nn.ReLU(),\n",
        "            nn.Dropout(0.3),\n",
        "            nn.Linear(1024, 512),\n",
        "            nn.LayerNorm(512),\n",
        "            nn.ReLU(),\n",
        "            nn.Dropout(0.2),\n",
        "            nn.Linear(512, 4 * 4)  # 4문장 * 4 클래스\n",
        "        )\n",
        "\n",
        "    def forward(self, input_ids, attention_mask, labels=None):\n",
        "        # BERT 인코딩\n",
        "        outputs = self.bert(input_ids=input_ids, attention_mask=attention_mask)\n",
        "        \n",
        "        # [CLS] 토큰과 마지막 hidden state의 평균을 사용\n",
        "        cls_token = outputs.last_hidden_state[:, 0]  # [CLS] 토큰\n",
        "        last_hidden = outputs.last_hidden_state[:, 1:].mean(dim=1)  # 나머지 토큰들의 평균\n",
        "        pooled = (cls_token + last_hidden) / 2  # 두 특징의 평균\n",
        "        \n",
        "        # 분류\n",
        "        logits = self.classifier(pooled)\n",
        "        \n",
        "        if labels is not None:\n",
        "            loss_fn = nn.CrossEntropyLoss()\n",
        "            loss = loss_fn(logits.view(-1, 4), labels.view(-1))\n",
        "            return {\"loss\": loss, \"logits\": logits.view(-1, 4, 4)}\n",
        "        else:\n",
        "            return {\"logits\": logits.view(-1, 4, 4)}"
      ]
    },
    {
      "cell_type": "code",
      "execution_count": 10,
      "metadata": {
        "execution": {
          "iopub.execute_input": "2025-06-01T05:07:30.904872Z",
          "iopub.status.busy": "2025-06-01T05:07:30.904627Z",
          "iopub.status.idle": "2025-06-01T05:07:30.910515Z",
          "shell.execute_reply": "2025-06-01T05:07:30.909820Z",
          "shell.execute_reply.started": "2025-06-01T05:07:30.904856Z"
        },
        "id": "JMJJi0ciqvyi",
        "trusted": true
      },
      "outputs": [],
      "source": [
        "def compute_metrics(eval_pred):\n",
        "    try:\n",
        "        logits, labels = eval_pred\n",
        "        preds = np.argmax(logits, axis=2)\n",
        "        sentence_accuracy = (preds == labels).mean()\n",
        "        full_order_accuracy = (preds == labels).all(axis=1).mean()\n",
        "\n",
        "        return {\n",
        "            \"sentence_accuracy\": sentence_accuracy,\n",
        "            \"full_order_accuracy\": full_order_accuracy\n",
        "        }\n",
        "    except Exception as e:\n",
        "        print(f\"❌ compute_metrics 내부 오류: {e}\")\n",
        "        return {}"
      ]
    },
    {
      "cell_type": "code",
      "execution_count": null,
      "metadata": {
        "colab": {
          "base_uri": "https://localhost:8080/",
          "height": 1000,
          "referenced_widgets": [
            "83f169fb379640bf86dbebafdcb8beee",
            "5582fbaf7b2c4454abad09f68a82ffd0",
            "83e3cba167974e7ab1d155f24bc931b8",
            "4c066b88aed74ab786bd11abc3efa77b",
            "869d964efd0244cb9121f42d66325542",
            "3c6a54e670684cbd8b105a8a094678e7",
            "3cd7d0f3436449fa9b861789ddae30bb",
            "ccc143d7eb824bde97a3f8b814691c0a",
            "2574c9e9e5c946dfaed6acc1e52cb907",
            "f4abc006a1434a0da24304d4a49d29bf",
            "f6691e7265e5472e8d3b9612f5cc2b94",
            "f3585241baf04490a9fc6ccf611c731a",
            "83e4b9a04e694a70be269f7f26eabc15",
            "e387edd818c34a57a7457782d3db3b2e",
            "9f3fdc17e5c64c0ca901dbb8914e5d74",
            "05d96bcb9e2144989bdfaf7b1cd6c8af",
            "82599d47451a4509a2fa181fb8d393ae",
            "c5605dc04126455abede39f423c2fcfc",
            "64ce0266992c4d178416dd3d9f6676f7",
            "1a415f83ccf54c40a5cffc579c9806c2",
            "b861f9f5cf6848a882a6a12d8b88b5b6",
            "37ff70ed35bd462883e18b993fe5b39e"
          ]
        },
        "execution": {
          "iopub.execute_input": "2025-06-01T03:00:42.545870Z",
          "iopub.status.busy": "2025-06-01T03:00:42.545661Z",
          "iopub.status.idle": "2025-06-01T03:00:52.346277Z",
          "shell.execute_reply": "2025-06-01T03:00:52.345672Z",
          "shell.execute_reply.started": "2025-06-01T03:00:42.545855Z"
        },
        "id": "o2wujibZqvyj",
        "outputId": "b299fbae-af64-4517-fff8-8abd7d113c31",
        "trusted": true
      },
      "outputs": [],
      "source": [
        "model = GlobalOrderModel(model_name=\"klue/roberta-large\")  # ✅ RoBERTa로 교체\n",
        "device = torch.device(\"cuda\" if torch.cuda.is_available() else \"cpu\")  # ✅ GPU 사용 여부 확인\n",
        "model.to(device)  # ✅ 모델을 해당 디바이스로 이동"
      ]
    },
    {
      "cell_type": "code",
      "execution_count": 12,
      "metadata": {
        "execution": {
          "iopub.execute_input": "2025-06-01T03:00:52.374729Z",
          "iopub.status.busy": "2025-06-01T03:00:52.374478Z",
          "iopub.status.idle": "2025-06-01T03:00:53.739122Z",
          "shell.execute_reply": "2025-06-01T03:00:53.738539Z",
          "shell.execute_reply.started": "2025-06-01T03:00:52.374711Z"
        },
        "id": "9o3JPXvnqvyk",
        "trusted": true
      },
      "outputs": [],
      "source": [
        "# ✅ RoBERTa 전용 tokenizer 사용\n",
        "tokenizer = AutoTokenizer.from_pretrained(\"klue/roberta-large\")"
      ]
    },
    {
      "cell_type": "code",
      "execution_count": 13,
      "metadata": {},
      "outputs": [],
      "source": [
        "# ✅ train/val 분리 (20% → 검증에 사용)\n",
        "train_df_split, val_df = train_test_split(train_path, test_size=0.2, random_state=42)\n",
        "\n",
        "# ✅ 라벨 생성\n",
        "train_labels = make_labels(train_df_split)\n",
        "val_labels = make_labels(val_df)"
      ]
    },
    {
      "cell_type": "code",
      "execution_count": 14,
      "metadata": {},
      "outputs": [],
      "source": [
        "# 🔹 학습 데이터셋 생성\n",
        "train_dataset = GlobalOrderDataset(train_df_split, tokenizer, labels=train_labels)\n",
        "val_dataset = GlobalOrderDataset(val_df, tokenizer, labels=val_labels)"
      ]
    },
    {
      "cell_type": "code",
      "execution_count": null,
      "metadata": {
        "colab": {
          "base_uri": "https://localhost:8080/"
        },
        "execution": {
          "iopub.execute_input": "2025-06-01T03:00:53.740094Z",
          "iopub.status.busy": "2025-06-01T03:00:53.739812Z",
          "iopub.status.idle": "2025-06-01T03:00:53.755111Z",
          "shell.execute_reply": "2025-06-01T03:00:53.754565Z",
          "shell.execute_reply.started": "2025-06-01T03:00:53.740069Z"
        },
        "id": "RPwjO-gFqvyk",
        "outputId": "d7ddc52f-38f2-4f6c-c209-e43c5f57052c",
        "trusted": true
      },
      "outputs": [],
      "source": [
        "train_dataset[0]"
      ]
    },
    {
      "cell_type": "code",
      "execution_count": null,
      "metadata": {},
      "outputs": [],
      "source": [
        "val_dataset[0]"
      ]
    },
    {
      "cell_type": "code",
      "execution_count": 17,
      "metadata": {
        "colab": {
          "base_uri": "https://localhost:8080/"
        },
        "execution": {
          "iopub.execute_input": "2025-06-01T03:00:53.765460Z",
          "iopub.status.busy": "2025-06-01T03:00:53.765191Z",
          "iopub.status.idle": "2025-06-01T03:00:54.203884Z",
          "shell.execute_reply": "2025-06-01T03:00:54.203347Z",
          "shell.execute_reply.started": "2025-06-01T03:00:53.765434Z"
        },
        "id": "IZhH1DBDqvyk",
        "outputId": "171e15b1-18ac-4f92-bd5b-95c095bf6c0f",
        "trusted": true
      },
      "outputs": [
        {
          "name": "stderr",
          "output_type": "stream",
          "text": [
            "Using the `WANDB_DISABLED` environment variable is deprecated and will be removed in v5. Use the --report_to flag to control the integrations used for logging result (for instance --report_to none).\n"
          ]
        }
      ],
      "source": [
        "# 🔹 전체 라벨 생성\n",
        "labels = make_labels(train_path)\n",
        "\n",
        "# ✅ TrainingArguments\n",
        "training_args = TrainingArguments(\n",
        "    output_dir=\"./global_results\",\n",
        "    num_train_epochs=5,\n",
        "    per_device_train_batch_size=16,\n",
        "    per_device_eval_batch_size=64,\n",
        "    eval_strategy=\"epoch\",\n",
        "    save_strategy=\"epoch\",\n",
        "    logging_dir=\"./logs\",\n",
        "    logging_steps=100,\n",
        "    warmup_steps=500,\n",
        "    weight_decay=0.01,\n",
        "    \n",
        "    load_best_model_at_end=True,\n",
        "    metric_for_best_model='full_order_accuracy',\n",
        "    greater_is_better=True,\n",
        "    seed=42,\n",
        ")\n",
        "\n",
        "# ✅ Trainer 설정 (전체 학습용)\n",
        "trainer = Trainer(\n",
        "    model=model,\n",
        "    args=training_args,\n",
        "    train_dataset=train_dataset,\n",
        "    eval_dataset=val_dataset,\n",
        "    compute_metrics=compute_metrics,\n",
        "    callbacks=[EarlyStoppingCallback(early_stopping_patience=2, early_stopping_threshold=0.001)]\n",
        ")"
      ]
    },
    {
      "cell_type": "markdown",
      "metadata": {
        "id": "lY8Lwbxlqvyl"
      },
      "source": [
        "# 3. 학습 실행"
      ]
    },
    {
      "cell_type": "code",
      "execution_count": null,
      "metadata": {
        "colab": {
          "base_uri": "https://localhost:8080/",
          "height": 831
        },
        "execution": {
          "iopub.execute_input": "2025-06-01T03:00:54.204704Z",
          "iopub.status.busy": "2025-06-01T03:00:54.204528Z",
          "iopub.status.idle": "2025-06-01T03:46:37.623567Z",
          "shell.execute_reply": "2025-06-01T03:46:37.623046Z",
          "shell.execute_reply.started": "2025-06-01T03:00:54.204689Z"
        },
        "id": "aK7jM5bgqvyl",
        "outputId": "2540010a-b02a-447e-da8b-2f6fe5fa88e4",
        "trusted": true
      },
      "outputs": [],
      "source": [
        "trainer.train()"
      ]
    },
    {
      "cell_type": "code",
      "execution_count": 16,
      "metadata": {
        "execution": {
          "iopub.execute_input": "2025-06-01T03:46:37.624610Z",
          "iopub.status.busy": "2025-06-01T03:46:37.624379Z",
          "iopub.status.idle": "2025-06-01T03:46:40.223270Z",
          "shell.execute_reply": "2025-06-01T03:46:40.222720Z",
          "shell.execute_reply.started": "2025-06-01T03:46:37.624593Z"
        },
        "id": "NqBStvCEvlGq",
        "trusted": true
      },
      "outputs": [],
      "source": [
        "# import shutil\n",
        "\n",
        "# checkpoints = [\"checkpoint-368\", \"checkpoint-736\", \"checkpoint-1104\", \"checkpoint-1472\", \"checkpoint-1840\"]\n",
        "# for ckpt in checkpoints:\n",
        "#     shutil.rmtree(f\"/content/global_results/{ckpt}\", ignore_errors=True)"
      ]
    },
    {
      "cell_type": "code",
      "execution_count": null,
      "metadata": {
        "colab": {
          "base_uri": "https://localhost:8080/"
        },
        "execution": {
          "iopub.execute_input": "2025-06-01T03:46:40.224220Z",
          "iopub.status.busy": "2025-06-01T03:46:40.224017Z",
          "iopub.status.idle": "2025-06-01T03:46:48.256575Z",
          "shell.execute_reply": "2025-06-01T03:46:48.255831Z",
          "shell.execute_reply.started": "2025-06-01T03:46:40.224204Z"
        },
        "id": "Mt9_t0q0qvyl",
        "outputId": "b2888330-3a83-49b8-b007-e2042f1928a2",
        "trusted": true
      },
      "outputs": [],
      "source": [
        "# ✅ best checkpoint 기준으로 모델 저장\n",
        "save_path = \"./global_results/best_model\"\n",
        "\n",
        "trainer.save_model(save_path)\n",
        "tokenizer.save_pretrained(save_path)"
      ]
    },
    {
      "cell_type": "markdown",
      "metadata": {
        "id": "k9zZk5Htqvym"
      },
      "source": [
        "# 4. 하이퍼파라미터 튜닝"
      ]
    },
    {
      "cell_type": "code",
      "execution_count": 30,
      "metadata": {
        "id": "8RJCDLtrMKCD"
      },
      "outputs": [],
      "source": [
        "# ✅ 튜닝용 데이터 분리\n",
        "train_split_df, val_df = train_test_split(train_path, test_size=0.2, random_state=42)\n",
        "train_split_labels = make_labels(train_split_df)\n",
        "val_labels = make_labels(val_df)\n",
        "\n",
        "train_split_dataset = GlobalOrderDataset(train_split_df, tokenizer, labels=train_split_labels)\n",
        "val_dataset = GlobalOrderDataset(val_df, tokenizer, labels=val_labels)\n"
      ]
    },
    {
      "cell_type": "code",
      "execution_count": null,
      "metadata": {
        "execution": {
          "iopub.execute_input": "2025-06-01T05:08:09.403316Z",
          "iopub.status.busy": "2025-06-01T05:08:09.402541Z",
          "iopub.status.idle": "2025-06-01T05:08:09.415372Z",
          "shell.execute_reply": "2025-06-01T05:08:09.414704Z",
          "shell.execute_reply.started": "2025-06-01T05:08:09.403290Z"
        },
        "id": "P3ib1CWaqvym",
        "trusted": true
      },
      "outputs": [],
      "source": [
        "def run_global_tuning(train_split_dataset, val_dataset, tokenizer, n_trials=2):\n",
        "    results_path = './global_results/tuning_log.csv'\n",
        "    if os.path.exists(results_path):\n",
        "        results = pd.read_csv(results_path).to_dict(orient='records')\n",
        "        start_trial = len(results)\n",
        "    else:\n",
        "        results = []\n",
        "        start_trial = 0\n",
        "\n",
        "    for trial in range(start_trial, n_trials):\n",
        "        print(f\"\\n🎯 Trial {trial + 1} 시작\")\n",
        "        lr = float(loguniform.rvs(1.5e-5, 3.5e-5))\n",
        "        wd = float(loguniform.rvs(0.01, 0.07))\n",
        "        epochs = 10\n",
        "        batch_size = int(np.random.randint(16, 32))\n",
        "        total_steps = (len(train_split_dataset) // batch_size) * epochs\n",
        "        warmup = int(total_steps * 0.02)\n",
        "\n",
        "        args = TrainingArguments(\n",
        "            output_dir=f'./global_results/trial_{trial+1}',\n",
        "            learning_rate=lr,\n",
        "            weight_decay=wd,\n",
        "            warmup_steps=warmup,\n",
        "            per_device_train_batch_size=batch_size,\n",
        "            per_device_eval_batch_size=64,\n",
        "            num_train_epochs=epochs,\n",
        "            gradient_accumulation_steps=1,\n",
        "            lr_scheduler_type='linear',\n",
        "            logging_dir='./roberta_logs',\n",
        "            logging_steps=100,\n",
        "            save_strategy=\"epoch\",\n",
        "            save_total_limit=2,\n",
        "            eval_strategy='epoch',  # ✅ 평가 활성화\n",
        "            seed=42,\n",
        "            load_best_model_at_end=True,\n",
        "            metric_for_best_model='full_order_accuracy',  # ✅ 이 기준으로 best 선택\n",
        "            greater_is_better=True,\n",
        "            report_to='none',\n",
        "            fp16=True,\n",
        "            optim='adamw_torch_fused'\n",
        "        )\n",
        "\n",
        "        trainer = Trainer(\n",
        "            model=GlobalOrderModel(\"klue/roberta-large\"),\n",
        "            args=args,\n",
        "            train_dataset=train_split_dataset,\n",
        "            eval_dataset=val_dataset,\n",
        "            tokenizer=tokenizer,\n",
        "            compute_metrics=compute_metrics,  # ✅ 사용자 정의 메트릭\n",
        "            callbacks=[EarlyStoppingCallback(early_stopping_patience=2, early_stopping_threshold=0.001)],\n",
        "        )\n",
        "\n",
        "        try:\n",
        "            trainer.train()\n",
        "\n",
        "            # 최종 평가\n",
        "            eval_result = trainer.evaluate()\n",
        "            sentence_acc = eval_result.get(\"eval_sentence_accuracy\", None)\n",
        "            full_order_acc = eval_result.get(\"eval_full_order_accuracy\", None)\n",
        "            eval_loss = eval_result.get(\"eval_loss\", None)\n",
        "\n",
        "            save_path = f'./global_results/trial_{trial+1}/best_model'\n",
        "            try:\n",
        "                trainer.save_model(save_path)\n",
        "                tokenizer.save_pretrained(save_path)\n",
        "                model_saved = True\n",
        "            except Exception as e:\n",
        "                print(f\"⚠️ 모델 저장 실패: {e}\")\n",
        "                model_saved = False\n",
        "                save_path = \"FAILED\"\n",
        "\n",
        "            results.append({\n",
        "                'trial': trial + 1,\n",
        "                'learning_rate': lr,\n",
        "                'weight_decay': wd,\n",
        "                'warmup_steps': warmup,\n",
        "                'epochs': epochs,\n",
        "                'sentence_accuracy': sentence_acc,\n",
        "                'full_order_accuracy': full_order_acc,\n",
        "                'eval_loss': eval_loss,\n",
        "                'model_saved': model_saved,\n",
        "                'save_path': save_path\n",
        "            })\n",
        "            pd.DataFrame(results).to_csv(results_path, index=False)\n",
        "\n",
        "            # checkpoint 정리\n",
        "            output_dir = f'./global_results/trial_{trial+1}'\n",
        "            for subdir in os.listdir(output_dir):\n",
        "                if subdir.startswith(\"checkpoint\"):\n",
        "                    shutil.rmtree(os.path.join(output_dir, subdir), ignore_errors=True)\n",
        "\n",
        "            print(f\"✅ Trial {trial+1} 완료 | 저장 경로: {save_path}\")\n",
        "\n",
        "        except Exception as e:\n",
        "            print(f\"⛔ Trial {trial+1} 중 오류 발생: {e}\")\n",
        "            break\n",
        "\n",
        "    print(\"\\n🏆 상위 Trial:\")\n",
        "    top_trials = pd.DataFrame(results).sort_values(by=\"full_order_accuracy\", ascending=False).head(1)\n",
        "    print(top_trials)\n",
        "    return top_trials"
      ]
    },
    {
      "cell_type": "code",
      "execution_count": null,
      "metadata": {
        "execution": {
          "iopub.execute_input": "2025-06-01T06:34:21.010657Z",
          "iopub.status.busy": "2025-06-01T06:34:21.010157Z",
          "iopub.status.idle": "2025-06-01T07:48:58.152284Z",
          "shell.execute_reply": "2025-06-01T07:48:58.151572Z",
          "shell.execute_reply.started": "2025-06-01T06:34:21.010636Z"
        },
        "id": "K60egL2QvlGs",
        "trusted": true
      },
      "outputs": [],
      "source": [
        "# ✅ 튜닝 로그 불러오기\n",
        "df = pd.read_csv(\"./global_results/tuning_log.csv\")\n",
        "\n",
        "# ✅ 모델 저장된 trial만 남기기\n",
        "df = df[df[\"model_saved\"] == True]\n",
        "\n",
        "# ✅ 평가 결과가 있는 경우: full_order_accuracy 기준 선택, 없으면 trial 번호 기준\n",
        "if \"full_order_accuracy\" in df.columns and df[\"full_order_accuracy\"].notna().any():\n",
        "    top_trial = df.sort_values(\"full_order_accuracy\", ascending=False).iloc[0]\n",
        "else:\n",
        "    top_trial = df.sort_values(\"trial\", ascending=True).iloc[0]  # fallback\n",
        "\n",
        "# ✅ 경로 확인\n",
        "best_model_path = top_trial[\"save_path\"]\n",
        "print(f\"🏆 선택된 Best Model 경로: {best_model_path}\")\n"
      ]
    },
    {
      "cell_type": "code",
      "execution_count": null,
      "metadata": {
        "execution": {
          "iopub.execute_input": "2025-06-01T07:58:04.703622Z",
          "iopub.status.busy": "2025-06-01T07:58:04.703362Z",
          "iopub.status.idle": "2025-06-01T07:58:04.708442Z",
          "shell.execute_reply": "2025-06-01T07:58:04.707904Z",
          "shell.execute_reply.started": "2025-06-01T07:58:04.703604Z"
        },
        "id": "EHbsZjeyvlGt",
        "trusted": true
      },
      "outputs": [],
      "source": [
        "# ✅ 실제 폴더 존재하는지 확인 (예시로 trial_2)\n",
        "print(os.listdir(best_model_path))"
      ]
    },
    {
      "cell_type": "code",
      "execution_count": null,
      "metadata": {
        "execution": {
          "iopub.execute_input": "2025-06-01T08:01:38.654688Z",
          "iopub.status.busy": "2025-06-01T08:01:38.654131Z",
          "iopub.status.idle": "2025-06-01T08:01:49.386969Z",
          "shell.execute_reply": "2025-06-01T08:01:49.386247Z",
          "shell.execute_reply.started": "2025-06-01T08:01:38.654666Z"
        },
        "id": "KakFqVkwqvyn",
        "trusted": true
      },
      "outputs": [],
      "source": [
        "# ✅ 모델 로드\n",
        "device = torch.device(\"cuda\" if torch.cuda.is_available() else \"cpu\")\n",
        "model = GlobalOrderModel(\"klue/roberta-large\")\n",
        "\n",
        "# safetensors 파일 로드\n",
        "state_dict = load_file(f\"{best_model_path}/model.safetensors\")\n",
        "model.load_state_dict(state_dict)\n",
        "model.to(device)\n",
        "model.eval()"
      ]
    },
    {
      "cell_type": "code",
      "execution_count": null,
      "metadata": {
        "execution": {
          "iopub.execute_input": "2025-06-01T08:02:23.003290Z",
          "iopub.status.busy": "2025-06-01T08:02:23.003011Z",
          "iopub.status.idle": "2025-06-01T08:02:23.982289Z",
          "shell.execute_reply": "2025-06-01T08:02:23.981645Z",
          "shell.execute_reply.started": "2025-06-01T08:02:23.003270Z"
        },
        "id": "_TCclSrLvlGu",
        "trusted": true
      },
      "outputs": [],
      "source": [
        "final_model_dir = \"./global_results/best_model_custom\"\n",
        "shutil.copytree(best_model_path, final_model_dir, dirs_exist_ok=True)\n",
        "print(f\"📦 최종 best model 저장됨: {final_model_dir}\")\n"
      ]
    },
    {
      "cell_type": "markdown",
      "metadata": {
        "id": "Gr3bPsfdqvyn"
      },
      "source": [
        "# 5. 추론"
      ]
    },
    {
      "cell_type": "code",
      "execution_count": null,
      "metadata": {
        "id": "rq0TN0gkN9lL"
      },
      "outputs": [],
      "source": [
        "# 🔹 전체 학습 데이터셋 구성\n",
        "train_labels = make_labels(train_path)\n",
        "train_dataset = GlobalOrderDataset(train_path, tokenizer, labels=train_labels)\n",
        "\n",
        "# 🔹 튜닝 결과에서 best 설정 추출\n",
        "# (예: top_trial에서 learning_rate, weight_decay 등 가져오기)\n",
        "args = TrainingArguments(\n",
        "    output_dir=\"./global_results/best_final\",\n",
        "    learning_rate=top_trial['learning_rate'],\n",
        "    weight_decay=top_trial['weight_decay'],\n",
        "    warmup_steps=int(top_trial['warmup_steps']),\n",
        "    per_device_train_batch_size=16,\n",
        "    num_train_epochs=int(top_trial['epochs']),\n",
        "    logging_dir='./retrain_logs',\n",
        "    save_strategy=\"no\",  # ❌ 저장은 수동으로\n",
        "    evaluation_strategy=\"no\",\n",
        "    report_to='none',\n",
        "    fp16=True,\n",
        "    optim=\"adamw_torch_fused\"\n",
        ")\n",
        "\n",
        "trainer = Trainer(\n",
        "    model=GlobalOrderModel(\"klue/roberta-large\"),\n",
        "    args=args,\n",
        "    train_dataset=train_dataset,\n",
        "    tokenizer=tokenizer\n",
        ")\n",
        "\n",
        "# 🔹 재학습\n",
        "trainer.train()\n",
        "\n",
        "# 🔹 최종 모델 저장\n",
        "trainer.save_model(\"./global_results/final_model\")\n",
        "tokenizer.save_pretrained(\"./global_results/final_model\")\n"
      ]
    },
    {
      "cell_type": "code",
      "execution_count": null,
      "metadata": {
        "execution": {
          "iopub.execute_input": "2025-06-01T08:05:53.467139Z",
          "iopub.status.busy": "2025-06-01T08:05:53.466448Z",
          "iopub.status.idle": "2025-06-01T08:05:53.473162Z",
          "shell.execute_reply": "2025-06-01T08:05:53.472399Z",
          "shell.execute_reply.started": "2025-06-01T08:05:53.467114Z"
        },
        "id": "6yHsT_LQvlGv",
        "trusted": true
      },
      "outputs": [],
      "source": [
        "# ✅ 모델 클래스 직접 정의 (model.py 없이도 OK)\n",
        "class GlobalOrderModel(nn.Module):\n",
        "    def __init__(self, model_name='klue/roberta-large'):\n",
        "        super().__init__()\n",
        "        self.bert = AutoModel.from_pretrained(model_name)\n",
        "        hidden_size = self.bert.config.hidden_size\n",
        "        self.classifier = nn.Sequential(\n",
        "            nn.Linear(hidden_size, 1024),\n",
        "            nn.ReLU(),\n",
        "            nn.Dropout(0.3),\n",
        "            nn.Linear(1024, 4 * 4)\n",
        "        )\n",
        "\n",
        "    def forward(self, input_ids, attention_mask, labels=None):\n",
        "        outputs = self.bert(input_ids=input_ids, attention_mask=attention_mask)\n",
        "        pooled = outputs.last_hidden_state[:, 0]\n",
        "        logits = self.classifier(pooled)\n",
        "        if labels is not None:\n",
        "            loss_fn = nn.CrossEntropyLoss()\n",
        "            loss = loss_fn(logits.view(-1, 4), labels.view(-1))\n",
        "            return {\"loss\": loss, \"logits\": logits.view(-1, 4, 4)}\n",
        "        else:\n",
        "            return {\"logits\": logits.view(-1, 4, 4)}\n"
      ]
    },
    {
      "cell_type": "code",
      "execution_count": null,
      "metadata": {
        "execution": {
          "iopub.execute_input": "2025-06-01T08:06:48.000123Z",
          "iopub.status.busy": "2025-06-01T08:06:47.999560Z",
          "iopub.status.idle": "2025-06-01T08:06:49.700655Z",
          "shell.execute_reply": "2025-06-01T08:06:49.700032Z",
          "shell.execute_reply.started": "2025-06-01T08:06:48.000100Z"
        },
        "id": "Ts-9bs7Hqvyn",
        "trusted": true
      },
      "outputs": [],
      "source": [
        "\n",
        "device = torch.device(\"cuda\" if torch.cuda.is_available() else \"cpu\")\n",
        "\n",
        "best_model_path = \"./global_results/best_model_custom\"  # ← 경로 꼭 이걸로 맞춰주세요\n",
        "\n",
        "model = GlobalOrderModel(\"klue/roberta-large\")\n",
        "state_dict = load_file(f\"{best_model_path}/model.safetensors\")\n",
        "model.load_state_dict(state_dict)\n",
        "model.to(device)\n",
        "model.eval()\n"
      ]
    },
    {
      "cell_type": "code",
      "execution_count": null,
      "metadata": {
        "execution": {
          "iopub.execute_input": "2025-06-01T08:08:33.785750Z",
          "iopub.status.busy": "2025-06-01T08:08:33.785089Z",
          "iopub.status.idle": "2025-06-01T08:08:33.791747Z",
          "shell.execute_reply": "2025-06-01T08:08:33.790896Z",
          "shell.execute_reply.started": "2025-06-01T08:08:33.785726Z"
        },
        "id": "rih_pCeYvlGv",
        "trusted": true
      },
      "outputs": [],
      "source": [
        "# ✅ 직접 정의한 Dataset 클래스\n",
        "class GlobalOrderDataset(Dataset):\n",
        "    def __init__(self, df, tokenizer, labels=None, max_length=256):\n",
        "        self.sentences = df[[f'sentence_{i}' for i in range(4)]].values\n",
        "        self.tokenizer = tokenizer\n",
        "        self.labels = labels\n",
        "        self.max_length = max_length\n",
        "\n",
        "    def __len__(self):\n",
        "        return len(self.sentences)\n",
        "\n",
        "    def __getitem__(self, idx):\n",
        "        sents = self.sentences[idx]\n",
        "        text = '[CLS] ' + ' [SEP] '.join(sents) + ' [SEP]'\n",
        "        encoding = self.tokenizer(\n",
        "            text,\n",
        "            padding='max_length',\n",
        "            truncation=True,\n",
        "            max_length=self.max_length,\n",
        "            return_tensors='pt'\n",
        "        )\n",
        "        item = {k: v.squeeze(0) for k, v in encoding.items()}\n",
        "        if self.labels is not None:\n",
        "            item['labels'] = torch.tensor(self.labels[idx], dtype=torch.long)\n",
        "        return item\n"
      ]
    },
    {
      "cell_type": "code",
      "execution_count": null,
      "metadata": {
        "execution": {
          "iopub.execute_input": "2025-06-01T08:17:52.071041Z",
          "iopub.status.busy": "2025-06-01T08:17:52.070370Z",
          "iopub.status.idle": "2025-06-01T08:17:52.078354Z",
          "shell.execute_reply": "2025-06-01T08:17:52.077612Z",
          "shell.execute_reply.started": "2025-06-01T08:17:52.071008Z"
        },
        "id": "cnMgu5Ktqvyn",
        "trusted": true
      },
      "outputs": [],
      "source": [
        "def predict(model, test_df, tokenizer, device, batch_size=32):\n",
        "    test_dataset = GlobalOrderDataset(test_df, tokenizer, labels=None)\n",
        "    test_loader = DataLoader(test_dataset, batch_size=batch_size, shuffle=False)\n",
        "    model.eval()\n",
        "    all_preds = []\n",
        "    \n",
        "    with torch.no_grad():\n",
        "        for batch in test_loader:\n",
        "            input_ids = batch['input_ids'].to(device)\n",
        "            attention_mask = batch['attention_mask'].to(device)\n",
        "            \n",
        "            # 모델 출력이 [batch, 4, 4] 형태로 나옴\n",
        "            # 각 문장별로 4개의 위치에 대한 확률\n",
        "            logits = model(input_ids, attention_mask)['logits']\n",
        "            \n",
        "            # 각 문장이 어떤 위치에 가야하는지 예측\n",
        "            # [batch, 4, 4] -> [batch, 4] (각 문장의 최적 위치)\n",
        "            preds = logits.argmax(-1).cpu().numpy()\n",
        "            all_preds.append(preds)\n",
        "    \n",
        "    all_preds = np.concatenate(all_preds, axis=0)\n",
        "    \n",
        "    # [문장0은 몇 번째, ...] → [answer_0, answer_1, ...]로 역변환\n",
        "    answers = []\n",
        "    for row in all_preds:\n",
        "        answer = [0] * 4\n",
        "        for sent_idx, pos in enumerate(row):\n",
        "            answer[pos] = sent_idx\n",
        "        answers.append(answer)\n",
        "    \n",
        "    return np.array(answers)\n",
        "\n",
        "def save_submission(test_df, answers, submission_path, output_path):\n",
        "    sub = pd.read_csv(submission_path)\n",
        "    for i in range(4):\n",
        "        sub[f'answer_{i}'] = answers[:, i]\n",
        "    sub.to_csv(output_path, index=False)"
      ]
    },
    {
      "cell_type": "markdown",
      "metadata": {
        "id": "CZbjmSB1qvyn"
      },
      "source": [
        "# 6. 예측 및 저장"
      ]
    },
    {
      "cell_type": "code",
      "execution_count": null,
      "metadata": {
        "execution": {
          "iopub.execute_input": "2025-06-01T08:17:54.491310Z",
          "iopub.status.busy": "2025-06-01T08:17:54.490618Z",
          "iopub.status.idle": "2025-06-01T08:18:37.884347Z",
          "shell.execute_reply": "2025-06-01T08:18:37.883567Z",
          "shell.execute_reply.started": "2025-06-01T08:17:54.491285Z"
        },
        "id": "ETwtfIxcqvyo",
        "trusted": true
      },
      "outputs": [],
      "source": [
        "# 예측 수행\n",
        "answers = predict(\n",
        "    model=model,\n",
        "    test_df=test_df,\n",
        "    tokenizer=tokenizer,\n",
        "    device=device,\n",
        "    batch_size=32\n",
        ")\n",
        "\n",
        "# 제출 파일 저장\n",
        "save_submission(\n",
        "    test_df=test_df,\n",
        "    answers=answers,\n",
        "    submission_path=\"./sample_submission.csv\",\n",
        "    output_path=\"./submission.csv\"\n",
        ")\n",
        "\n",
        "print(\"✅ submission.csv 저장 완료\")"
      ]
    }
  ],
  "metadata": {
    "accelerator": "GPU",
    "colab": {
      "gpuType": "T4",
      "machine_shape": "hm",
      "provenance": [],
      "toc_visible": true
    },
    "kaggle": {
      "accelerator": "gpu",
      "dataSources": [
        {
          "datasetId": 7558757,
          "sourceId": 12014679,
          "sourceType": "datasetVersion"
        }
      ],
      "dockerImageVersionId": 31040,
      "isGpuEnabled": true,
      "isInternetEnabled": true,
      "language": "python",
      "sourceType": "notebook"
    },
    "kernelspec": {
      "display_name": "base",
      "language": "python",
      "name": "python3"
    },
    "language_info": {
      "codemirror_mode": {
        "name": "ipython",
        "version": 3
      },
      "file_extension": ".py",
      "mimetype": "text/x-python",
      "name": "python",
      "nbconvert_exporter": "python",
      "pygments_lexer": "ipython3",
      "version": "3.12.3"
    },
    "widgets": {
      "application/vnd.jupyter.widget-state+json": {
        "05d96bcb9e2144989bdfaf7b1cd6c8af": {
          "model_module": "@jupyter-widgets/base",
          "model_module_version": "1.2.0",
          "model_name": "LayoutModel",
          "state": {
            "_model_module": "@jupyter-widgets/base",
            "_model_module_version": "1.2.0",
            "_model_name": "LayoutModel",
            "_view_count": null,
            "_view_module": "@jupyter-widgets/base",
            "_view_module_version": "1.2.0",
            "_view_name": "LayoutView",
            "align_content": null,
            "align_items": null,
            "align_self": null,
            "border": null,
            "bottom": null,
            "display": null,
            "flex": null,
            "flex_flow": null,
            "grid_area": null,
            "grid_auto_columns": null,
            "grid_auto_flow": null,
            "grid_auto_rows": null,
            "grid_column": null,
            "grid_gap": null,
            "grid_row": null,
            "grid_template_areas": null,
            "grid_template_columns": null,
            "grid_template_rows": null,
            "height": null,
            "justify_content": null,
            "justify_items": null,
            "left": null,
            "margin": null,
            "max_height": null,
            "max_width": null,
            "min_height": null,
            "min_width": null,
            "object_fit": null,
            "object_position": null,
            "order": null,
            "overflow": null,
            "overflow_x": null,
            "overflow_y": null,
            "padding": null,
            "right": null,
            "top": null,
            "visibility": null,
            "width": null
          }
        },
        "1a415f83ccf54c40a5cffc579c9806c2": {
          "model_module": "@jupyter-widgets/controls",
          "model_module_version": "1.5.0",
          "model_name": "ProgressStyleModel",
          "state": {
            "_model_module": "@jupyter-widgets/controls",
            "_model_module_version": "1.5.0",
            "_model_name": "ProgressStyleModel",
            "_view_count": null,
            "_view_module": "@jupyter-widgets/base",
            "_view_module_version": "1.2.0",
            "_view_name": "StyleView",
            "bar_color": null,
            "description_width": ""
          }
        },
        "2574c9e9e5c946dfaed6acc1e52cb907": {
          "model_module": "@jupyter-widgets/controls",
          "model_module_version": "1.5.0",
          "model_name": "ProgressStyleModel",
          "state": {
            "_model_module": "@jupyter-widgets/controls",
            "_model_module_version": "1.5.0",
            "_model_name": "ProgressStyleModel",
            "_view_count": null,
            "_view_module": "@jupyter-widgets/base",
            "_view_module_version": "1.2.0",
            "_view_name": "StyleView",
            "bar_color": null,
            "description_width": ""
          }
        },
        "37ff70ed35bd462883e18b993fe5b39e": {
          "model_module": "@jupyter-widgets/controls",
          "model_module_version": "1.5.0",
          "model_name": "DescriptionStyleModel",
          "state": {
            "_model_module": "@jupyter-widgets/controls",
            "_model_module_version": "1.5.0",
            "_model_name": "DescriptionStyleModel",
            "_view_count": null,
            "_view_module": "@jupyter-widgets/base",
            "_view_module_version": "1.2.0",
            "_view_name": "StyleView",
            "description_width": ""
          }
        },
        "3c6a54e670684cbd8b105a8a094678e7": {
          "model_module": "@jupyter-widgets/base",
          "model_module_version": "1.2.0",
          "model_name": "LayoutModel",
          "state": {
            "_model_module": "@jupyter-widgets/base",
            "_model_module_version": "1.2.0",
            "_model_name": "LayoutModel",
            "_view_count": null,
            "_view_module": "@jupyter-widgets/base",
            "_view_module_version": "1.2.0",
            "_view_name": "LayoutView",
            "align_content": null,
            "align_items": null,
            "align_self": null,
            "border": null,
            "bottom": null,
            "display": null,
            "flex": null,
            "flex_flow": null,
            "grid_area": null,
            "grid_auto_columns": null,
            "grid_auto_flow": null,
            "grid_auto_rows": null,
            "grid_column": null,
            "grid_gap": null,
            "grid_row": null,
            "grid_template_areas": null,
            "grid_template_columns": null,
            "grid_template_rows": null,
            "height": null,
            "justify_content": null,
            "justify_items": null,
            "left": null,
            "margin": null,
            "max_height": null,
            "max_width": null,
            "min_height": null,
            "min_width": null,
            "object_fit": null,
            "object_position": null,
            "order": null,
            "overflow": null,
            "overflow_x": null,
            "overflow_y": null,
            "padding": null,
            "right": null,
            "top": null,
            "visibility": null,
            "width": null
          }
        },
        "3cd7d0f3436449fa9b861789ddae30bb": {
          "model_module": "@jupyter-widgets/controls",
          "model_module_version": "1.5.0",
          "model_name": "DescriptionStyleModel",
          "state": {
            "_model_module": "@jupyter-widgets/controls",
            "_model_module_version": "1.5.0",
            "_model_name": "DescriptionStyleModel",
            "_view_count": null,
            "_view_module": "@jupyter-widgets/base",
            "_view_module_version": "1.2.0",
            "_view_name": "StyleView",
            "description_width": ""
          }
        },
        "4c066b88aed74ab786bd11abc3efa77b": {
          "model_module": "@jupyter-widgets/controls",
          "model_module_version": "1.5.0",
          "model_name": "HTMLModel",
          "state": {
            "_dom_classes": [],
            "_model_module": "@jupyter-widgets/controls",
            "_model_module_version": "1.5.0",
            "_model_name": "HTMLModel",
            "_view_count": null,
            "_view_module": "@jupyter-widgets/controls",
            "_view_module_version": "1.5.0",
            "_view_name": "HTMLView",
            "description": "",
            "description_tooltip": null,
            "layout": "IPY_MODEL_f4abc006a1434a0da24304d4a49d29bf",
            "placeholder": "​",
            "style": "IPY_MODEL_f6691e7265e5472e8d3b9612f5cc2b94",
            "value": " 547/547 [00:00&lt;00:00, 67.7kB/s]"
          }
        },
        "5582fbaf7b2c4454abad09f68a82ffd0": {
          "model_module": "@jupyter-widgets/controls",
          "model_module_version": "1.5.0",
          "model_name": "HTMLModel",
          "state": {
            "_dom_classes": [],
            "_model_module": "@jupyter-widgets/controls",
            "_model_module_version": "1.5.0",
            "_model_name": "HTMLModel",
            "_view_count": null,
            "_view_module": "@jupyter-widgets/controls",
            "_view_module_version": "1.5.0",
            "_view_name": "HTMLView",
            "description": "",
            "description_tooltip": null,
            "layout": "IPY_MODEL_3c6a54e670684cbd8b105a8a094678e7",
            "placeholder": "​",
            "style": "IPY_MODEL_3cd7d0f3436449fa9b861789ddae30bb",
            "value": "config.json: 100%"
          }
        },
        "64ce0266992c4d178416dd3d9f6676f7": {
          "model_module": "@jupyter-widgets/base",
          "model_module_version": "1.2.0",
          "model_name": "LayoutModel",
          "state": {
            "_model_module": "@jupyter-widgets/base",
            "_model_module_version": "1.2.0",
            "_model_name": "LayoutModel",
            "_view_count": null,
            "_view_module": "@jupyter-widgets/base",
            "_view_module_version": "1.2.0",
            "_view_name": "LayoutView",
            "align_content": null,
            "align_items": null,
            "align_self": null,
            "border": null,
            "bottom": null,
            "display": null,
            "flex": null,
            "flex_flow": null,
            "grid_area": null,
            "grid_auto_columns": null,
            "grid_auto_flow": null,
            "grid_auto_rows": null,
            "grid_column": null,
            "grid_gap": null,
            "grid_row": null,
            "grid_template_areas": null,
            "grid_template_columns": null,
            "grid_template_rows": null,
            "height": null,
            "justify_content": null,
            "justify_items": null,
            "left": null,
            "margin": null,
            "max_height": null,
            "max_width": null,
            "min_height": null,
            "min_width": null,
            "object_fit": null,
            "object_position": null,
            "order": null,
            "overflow": null,
            "overflow_x": null,
            "overflow_y": null,
            "padding": null,
            "right": null,
            "top": null,
            "visibility": null,
            "width": null
          }
        },
        "82599d47451a4509a2fa181fb8d393ae": {
          "model_module": "@jupyter-widgets/base",
          "model_module_version": "1.2.0",
          "model_name": "LayoutModel",
          "state": {
            "_model_module": "@jupyter-widgets/base",
            "_model_module_version": "1.2.0",
            "_model_name": "LayoutModel",
            "_view_count": null,
            "_view_module": "@jupyter-widgets/base",
            "_view_module_version": "1.2.0",
            "_view_name": "LayoutView",
            "align_content": null,
            "align_items": null,
            "align_self": null,
            "border": null,
            "bottom": null,
            "display": null,
            "flex": null,
            "flex_flow": null,
            "grid_area": null,
            "grid_auto_columns": null,
            "grid_auto_flow": null,
            "grid_auto_rows": null,
            "grid_column": null,
            "grid_gap": null,
            "grid_row": null,
            "grid_template_areas": null,
            "grid_template_columns": null,
            "grid_template_rows": null,
            "height": null,
            "justify_content": null,
            "justify_items": null,
            "left": null,
            "margin": null,
            "max_height": null,
            "max_width": null,
            "min_height": null,
            "min_width": null,
            "object_fit": null,
            "object_position": null,
            "order": null,
            "overflow": null,
            "overflow_x": null,
            "overflow_y": null,
            "padding": null,
            "right": null,
            "top": null,
            "visibility": null,
            "width": null
          }
        },
        "83e3cba167974e7ab1d155f24bc931b8": {
          "model_module": "@jupyter-widgets/controls",
          "model_module_version": "1.5.0",
          "model_name": "FloatProgressModel",
          "state": {
            "_dom_classes": [],
            "_model_module": "@jupyter-widgets/controls",
            "_model_module_version": "1.5.0",
            "_model_name": "FloatProgressModel",
            "_view_count": null,
            "_view_module": "@jupyter-widgets/controls",
            "_view_module_version": "1.5.0",
            "_view_name": "ProgressView",
            "bar_style": "success",
            "description": "",
            "description_tooltip": null,
            "layout": "IPY_MODEL_ccc143d7eb824bde97a3f8b814691c0a",
            "max": 547,
            "min": 0,
            "orientation": "horizontal",
            "style": "IPY_MODEL_2574c9e9e5c946dfaed6acc1e52cb907",
            "value": 547
          }
        },
        "83e4b9a04e694a70be269f7f26eabc15": {
          "model_module": "@jupyter-widgets/controls",
          "model_module_version": "1.5.0",
          "model_name": "HTMLModel",
          "state": {
            "_dom_classes": [],
            "_model_module": "@jupyter-widgets/controls",
            "_model_module_version": "1.5.0",
            "_model_name": "HTMLModel",
            "_view_count": null,
            "_view_module": "@jupyter-widgets/controls",
            "_view_module_version": "1.5.0",
            "_view_name": "HTMLView",
            "description": "",
            "description_tooltip": null,
            "layout": "IPY_MODEL_82599d47451a4509a2fa181fb8d393ae",
            "placeholder": "​",
            "style": "IPY_MODEL_c5605dc04126455abede39f423c2fcfc",
            "value": "model.safetensors: 100%"
          }
        },
        "83f169fb379640bf86dbebafdcb8beee": {
          "model_module": "@jupyter-widgets/controls",
          "model_module_version": "1.5.0",
          "model_name": "HBoxModel",
          "state": {
            "_dom_classes": [],
            "_model_module": "@jupyter-widgets/controls",
            "_model_module_version": "1.5.0",
            "_model_name": "HBoxModel",
            "_view_count": null,
            "_view_module": "@jupyter-widgets/controls",
            "_view_module_version": "1.5.0",
            "_view_name": "HBoxView",
            "box_style": "",
            "children": [
              "IPY_MODEL_5582fbaf7b2c4454abad09f68a82ffd0",
              "IPY_MODEL_83e3cba167974e7ab1d155f24bc931b8",
              "IPY_MODEL_4c066b88aed74ab786bd11abc3efa77b"
            ],
            "layout": "IPY_MODEL_869d964efd0244cb9121f42d66325542"
          }
        },
        "869d964efd0244cb9121f42d66325542": {
          "model_module": "@jupyter-widgets/base",
          "model_module_version": "1.2.0",
          "model_name": "LayoutModel",
          "state": {
            "_model_module": "@jupyter-widgets/base",
            "_model_module_version": "1.2.0",
            "_model_name": "LayoutModel",
            "_view_count": null,
            "_view_module": "@jupyter-widgets/base",
            "_view_module_version": "1.2.0",
            "_view_name": "LayoutView",
            "align_content": null,
            "align_items": null,
            "align_self": null,
            "border": null,
            "bottom": null,
            "display": null,
            "flex": null,
            "flex_flow": null,
            "grid_area": null,
            "grid_auto_columns": null,
            "grid_auto_flow": null,
            "grid_auto_rows": null,
            "grid_column": null,
            "grid_gap": null,
            "grid_row": null,
            "grid_template_areas": null,
            "grid_template_columns": null,
            "grid_template_rows": null,
            "height": null,
            "justify_content": null,
            "justify_items": null,
            "left": null,
            "margin": null,
            "max_height": null,
            "max_width": null,
            "min_height": null,
            "min_width": null,
            "object_fit": null,
            "object_position": null,
            "order": null,
            "overflow": null,
            "overflow_x": null,
            "overflow_y": null,
            "padding": null,
            "right": null,
            "top": null,
            "visibility": null,
            "width": null
          }
        },
        "9f3fdc17e5c64c0ca901dbb8914e5d74": {
          "model_module": "@jupyter-widgets/controls",
          "model_module_version": "1.5.0",
          "model_name": "HTMLModel",
          "state": {
            "_dom_classes": [],
            "_model_module": "@jupyter-widgets/controls",
            "_model_module_version": "1.5.0",
            "_model_name": "HTMLModel",
            "_view_count": null,
            "_view_module": "@jupyter-widgets/controls",
            "_view_module_version": "1.5.0",
            "_view_name": "HTMLView",
            "description": "",
            "description_tooltip": null,
            "layout": "IPY_MODEL_b861f9f5cf6848a882a6a12d8b88b5b6",
            "placeholder": "​",
            "style": "IPY_MODEL_37ff70ed35bd462883e18b993fe5b39e",
            "value": " 1.35G/1.35G [00:04&lt;00:00, 326MB/s]"
          }
        },
        "b861f9f5cf6848a882a6a12d8b88b5b6": {
          "model_module": "@jupyter-widgets/base",
          "model_module_version": "1.2.0",
          "model_name": "LayoutModel",
          "state": {
            "_model_module": "@jupyter-widgets/base",
            "_model_module_version": "1.2.0",
            "_model_name": "LayoutModel",
            "_view_count": null,
            "_view_module": "@jupyter-widgets/base",
            "_view_module_version": "1.2.0",
            "_view_name": "LayoutView",
            "align_content": null,
            "align_items": null,
            "align_self": null,
            "border": null,
            "bottom": null,
            "display": null,
            "flex": null,
            "flex_flow": null,
            "grid_area": null,
            "grid_auto_columns": null,
            "grid_auto_flow": null,
            "grid_auto_rows": null,
            "grid_column": null,
            "grid_gap": null,
            "grid_row": null,
            "grid_template_areas": null,
            "grid_template_columns": null,
            "grid_template_rows": null,
            "height": null,
            "justify_content": null,
            "justify_items": null,
            "left": null,
            "margin": null,
            "max_height": null,
            "max_width": null,
            "min_height": null,
            "min_width": null,
            "object_fit": null,
            "object_position": null,
            "order": null,
            "overflow": null,
            "overflow_x": null,
            "overflow_y": null,
            "padding": null,
            "right": null,
            "top": null,
            "visibility": null,
            "width": null
          }
        },
        "c5605dc04126455abede39f423c2fcfc": {
          "model_module": "@jupyter-widgets/controls",
          "model_module_version": "1.5.0",
          "model_name": "DescriptionStyleModel",
          "state": {
            "_model_module": "@jupyter-widgets/controls",
            "_model_module_version": "1.5.0",
            "_model_name": "DescriptionStyleModel",
            "_view_count": null,
            "_view_module": "@jupyter-widgets/base",
            "_view_module_version": "1.2.0",
            "_view_name": "StyleView",
            "description_width": ""
          }
        },
        "ccc143d7eb824bde97a3f8b814691c0a": {
          "model_module": "@jupyter-widgets/base",
          "model_module_version": "1.2.0",
          "model_name": "LayoutModel",
          "state": {
            "_model_module": "@jupyter-widgets/base",
            "_model_module_version": "1.2.0",
            "_model_name": "LayoutModel",
            "_view_count": null,
            "_view_module": "@jupyter-widgets/base",
            "_view_module_version": "1.2.0",
            "_view_name": "LayoutView",
            "align_content": null,
            "align_items": null,
            "align_self": null,
            "border": null,
            "bottom": null,
            "display": null,
            "flex": null,
            "flex_flow": null,
            "grid_area": null,
            "grid_auto_columns": null,
            "grid_auto_flow": null,
            "grid_auto_rows": null,
            "grid_column": null,
            "grid_gap": null,
            "grid_row": null,
            "grid_template_areas": null,
            "grid_template_columns": null,
            "grid_template_rows": null,
            "height": null,
            "justify_content": null,
            "justify_items": null,
            "left": null,
            "margin": null,
            "max_height": null,
            "max_width": null,
            "min_height": null,
            "min_width": null,
            "object_fit": null,
            "object_position": null,
            "order": null,
            "overflow": null,
            "overflow_x": null,
            "overflow_y": null,
            "padding": null,
            "right": null,
            "top": null,
            "visibility": null,
            "width": null
          }
        },
        "e387edd818c34a57a7457782d3db3b2e": {
          "model_module": "@jupyter-widgets/controls",
          "model_module_version": "1.5.0",
          "model_name": "FloatProgressModel",
          "state": {
            "_dom_classes": [],
            "_model_module": "@jupyter-widgets/controls",
            "_model_module_version": "1.5.0",
            "_model_name": "FloatProgressModel",
            "_view_count": null,
            "_view_module": "@jupyter-widgets/controls",
            "_view_module_version": "1.5.0",
            "_view_name": "ProgressView",
            "bar_style": "success",
            "description": "",
            "description_tooltip": null,
            "layout": "IPY_MODEL_64ce0266992c4d178416dd3d9f6676f7",
            "max": 1346814194,
            "min": 0,
            "orientation": "horizontal",
            "style": "IPY_MODEL_1a415f83ccf54c40a5cffc579c9806c2",
            "value": 1346814194
          }
        },
        "f3585241baf04490a9fc6ccf611c731a": {
          "model_module": "@jupyter-widgets/controls",
          "model_module_version": "1.5.0",
          "model_name": "HBoxModel",
          "state": {
            "_dom_classes": [],
            "_model_module": "@jupyter-widgets/controls",
            "_model_module_version": "1.5.0",
            "_model_name": "HBoxModel",
            "_view_count": null,
            "_view_module": "@jupyter-widgets/controls",
            "_view_module_version": "1.5.0",
            "_view_name": "HBoxView",
            "box_style": "",
            "children": [
              "IPY_MODEL_83e4b9a04e694a70be269f7f26eabc15",
              "IPY_MODEL_e387edd818c34a57a7457782d3db3b2e",
              "IPY_MODEL_9f3fdc17e5c64c0ca901dbb8914e5d74"
            ],
            "layout": "IPY_MODEL_05d96bcb9e2144989bdfaf7b1cd6c8af"
          }
        },
        "f4abc006a1434a0da24304d4a49d29bf": {
          "model_module": "@jupyter-widgets/base",
          "model_module_version": "1.2.0",
          "model_name": "LayoutModel",
          "state": {
            "_model_module": "@jupyter-widgets/base",
            "_model_module_version": "1.2.0",
            "_model_name": "LayoutModel",
            "_view_count": null,
            "_view_module": "@jupyter-widgets/base",
            "_view_module_version": "1.2.0",
            "_view_name": "LayoutView",
            "align_content": null,
            "align_items": null,
            "align_self": null,
            "border": null,
            "bottom": null,
            "display": null,
            "flex": null,
            "flex_flow": null,
            "grid_area": null,
            "grid_auto_columns": null,
            "grid_auto_flow": null,
            "grid_auto_rows": null,
            "grid_column": null,
            "grid_gap": null,
            "grid_row": null,
            "grid_template_areas": null,
            "grid_template_columns": null,
            "grid_template_rows": null,
            "height": null,
            "justify_content": null,
            "justify_items": null,
            "left": null,
            "margin": null,
            "max_height": null,
            "max_width": null,
            "min_height": null,
            "min_width": null,
            "object_fit": null,
            "object_position": null,
            "order": null,
            "overflow": null,
            "overflow_x": null,
            "overflow_y": null,
            "padding": null,
            "right": null,
            "top": null,
            "visibility": null,
            "width": null
          }
        },
        "f6691e7265e5472e8d3b9612f5cc2b94": {
          "model_module": "@jupyter-widgets/controls",
          "model_module_version": "1.5.0",
          "model_name": "DescriptionStyleModel",
          "state": {
            "_model_module": "@jupyter-widgets/controls",
            "_model_module_version": "1.5.0",
            "_model_name": "DescriptionStyleModel",
            "_view_count": null,
            "_view_module": "@jupyter-widgets/base",
            "_view_module_version": "1.2.0",
            "_view_name": "StyleView",
            "description_width": ""
          }
        }
      }
    }
  },
  "nbformat": 4,
  "nbformat_minor": 0
}
