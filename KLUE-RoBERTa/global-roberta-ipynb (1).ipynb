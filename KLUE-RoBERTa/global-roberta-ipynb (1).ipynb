{
 "cells": [
  {
   "cell_type": "code",
   "execution_count": 1,
   "metadata": {
    "execution": {
     "iopub.execute_input": "2025-06-01T03:00:14.753640Z",
     "iopub.status.busy": "2025-06-01T03:00:14.753407Z",
     "iopub.status.idle": "2025-06-01T03:00:42.075447Z",
     "shell.execute_reply": "2025-06-01T03:00:42.074853Z",
     "shell.execute_reply.started": "2025-06-01T03:00:14.753623Z"
    },
    "id": "7FIQKoH2qvyZ",
    "trusted": true
   },
   "outputs": [
    {
     "name": "stderr",
     "output_type": "stream",
     "text": [
      "2025-06-01 03:00:28.668639: E external/local_xla/xla/stream_executor/cuda/cuda_fft.cc:477] Unable to register cuFFT factory: Attempting to register factory for plugin cuFFT when one has already been registered\n",
      "WARNING: All log messages before absl::InitializeLog() is called are written to STDERR\n",
      "E0000 00:00:1748746828.860129      35 cuda_dnn.cc:8310] Unable to register cuDNN factory: Attempting to register factory for plugin cuDNN when one has already been registered\n",
      "E0000 00:00:1748746828.918249      35 cuda_blas.cc:1418] Unable to register cuBLAS factory: Attempting to register factory for plugin cuBLAS when one has already been registered\n"
     ]
    }
   ],
   "source": [
    "from scipy.stats import loguniform\n",
    "from sklearn.model_selection import train_test_split\n",
    "from sklearn.metrics import accuracy_score, f1_score, precision_score, recall_score\n",
    "import itertools\n",
    "from itertools import permutations\n",
    "from transformers import (\n",
    "    AutoTokenizer,\n",
    "    AutoModel,\n",
    "    AutoModelForSequenceClassification,\n",
    "    Trainer,\n",
    "    TrainingArguments,\n",
    "    EarlyStoppingCallback\n",
    ")"
   ]
  },
  {
   "cell_type": "code",
   "execution_count": 52,
   "metadata": {
    "colab": {
     "base_uri": "https://localhost:8080/",
     "height": 380
    },
    "execution": {
     "iopub.execute_input": "2025-06-01T08:15:35.606019Z",
     "iopub.status.busy": "2025-06-01T08:15:35.605388Z",
     "iopub.status.idle": "2025-06-01T08:15:35.715969Z",
     "shell.execute_reply": "2025-06-01T08:15:35.715222Z",
     "shell.execute_reply.started": "2025-06-01T08:15:35.605996Z"
    },
    "id": "B8Ezv7ZKqvya",
    "outputId": "70f76ea9-6806-438a-88e0-056c92452566",
    "trusted": true
   },
   "outputs": [
    {
     "data": {
      "text/html": [
       "<div>\n",
       "<style scoped>\n",
       "    .dataframe tbody tr th:only-of-type {\n",
       "        vertical-align: middle;\n",
       "    }\n",
       "\n",
       "    .dataframe tbody tr th {\n",
       "        vertical-align: top;\n",
       "    }\n",
       "\n",
       "    .dataframe thead th {\n",
       "        text-align: right;\n",
       "    }\n",
       "</style>\n",
       "<table border=\"1\" class=\"dataframe\">\n",
       "  <thead>\n",
       "    <tr style=\"text-align: right;\">\n",
       "      <th></th>\n",
       "      <th>ID</th>\n",
       "      <th>sentence_0</th>\n",
       "      <th>sentence_1</th>\n",
       "      <th>sentence_2</th>\n",
       "      <th>sentence_3</th>\n",
       "      <th>answer_0</th>\n",
       "      <th>answer_1</th>\n",
       "      <th>answer_2</th>\n",
       "      <th>answer_3</th>\n",
       "    </tr>\n",
       "  </thead>\n",
       "  <tbody>\n",
       "    <tr>\n",
       "      <th>0</th>\n",
       "      <td>TRAIN_0000</td>\n",
       "      <td>블록체인 기술은 투표 과정의 투명성을 크게 향상시킬 수 있다.</td>\n",
       "      <td>이러한 특성은 유권자들에게 신뢰를 제공하며, 민주적 참여를 촉진하는 데 기여할 수 있다.</td>\n",
       "      <td>결과적으로 블록체인 기반의 투표 시스템은 공정하고 신뢰할 수 있는 선거 환경을 조성...</td>\n",
       "      <td>각 투표는 변경 불가능한 기록으로 저장되어 조작의 가능성을 원천적으로 차단한다.</td>\n",
       "      <td>0</td>\n",
       "      <td>3</td>\n",
       "      <td>1</td>\n",
       "      <td>2</td>\n",
       "    </tr>\n",
       "    <tr>\n",
       "      <th>1</th>\n",
       "      <td>TRAIN_0001</td>\n",
       "      <td>줄거리 자동 생성의 인공지능 알고리즘은 대량의 텍스트 데이터를 분석하여 핵심 정보를...</td>\n",
       "      <td>결과적으로, 이러한 기술은 사용자에게 신속하고 효율적인 정보 전달을 가능하게 한다.</td>\n",
       "      <td>생성된 줄거리는 원본 텍스트의 의미를 유지하면서도 간결하게 요약된 형태로 제공된다.</td>\n",
       "      <td>이 알고리즘은 자연어 처리 기술을 활용하여 문맥을 이해하고, 주요 사건과 등장인물을...</td>\n",
       "      <td>0</td>\n",
       "      <td>3</td>\n",
       "      <td>2</td>\n",
       "      <td>1</td>\n",
       "    </tr>\n",
       "    <tr>\n",
       "      <th>2</th>\n",
       "      <td>TRAIN_0002</td>\n",
       "      <td>마지막으로, 키친타올을 보관할 때는 쉽게 접근할 수 있는 곳에 두어 낭비를 방지하는...</td>\n",
       "      <td>재사용 가능한 천이나 스펀지를 활용하면 키친타올의 필요성을 줄일 수 있다.</td>\n",
       "      <td>물기를 제거할 때는 가볍게 눌러주어 과도한 사용을 피할 수 있다.</td>\n",
       "      <td>키친타올을 절약하는 첫걸음은 필요한 양만큼만 사용하는 것이다.</td>\n",
       "      <td>3</td>\n",
       "      <td>2</td>\n",
       "      <td>1</td>\n",
       "      <td>0</td>\n",
       "    </tr>\n",
       "    <tr>\n",
       "      <th>3</th>\n",
       "      <td>TRAIN_0003</td>\n",
       "      <td>책의 페이지가 손상되지 않도록 수직으로 세워 두거나 평평하게 눕혀 보관하는 것이 좋다.</td>\n",
       "      <td>정기적으로 먼지를 털어내고, 곰팡이나 해충의 발생 여부를 점검하는 것이 중요하다.</td>\n",
       "      <td>종이책은 직사광선이 닿지 않는 서늘하고 건조한 장소에 보관해야 한다.</td>\n",
       "      <td>필요할 경우, 책을 보호하기 위해 커버를 씌우거나 전용 보관함에 넣는 방법도 고려할...</td>\n",
       "      <td>2</td>\n",
       "      <td>0</td>\n",
       "      <td>1</td>\n",
       "      <td>3</td>\n",
       "    </tr>\n",
       "    <tr>\n",
       "      <th>4</th>\n",
       "      <td>TRAIN_0004</td>\n",
       "      <td>인공지능 모델은 반복적인 실험을 통해 지속적으로 학습하며, 이를 통해 발견의 정확성...</td>\n",
       "      <td>인공지능은 대량의 데이터를 분석하여 숨겨진 패턴과 상관관계를 발견하는 데 강력한 도...</td>\n",
       "      <td>결국, 인공지능의 지원은 과학적 발견의 속도와 효율성을 혁신적으로 변화시킬 수 있는...</td>\n",
       "      <td>이러한 분석 결과는 연구자들에게 새로운 가설을 제시하고 실험 설계를 개선하는 데 기...</td>\n",
       "      <td>1</td>\n",
       "      <td>3</td>\n",
       "      <td>0</td>\n",
       "      <td>2</td>\n",
       "    </tr>\n",
       "  </tbody>\n",
       "</table>\n",
       "</div>"
      ],
      "text/plain": [
       "           ID                                         sentence_0  \\\n",
       "0  TRAIN_0000                 블록체인 기술은 투표 과정의 투명성을 크게 향상시킬 수 있다.   \n",
       "1  TRAIN_0001  줄거리 자동 생성의 인공지능 알고리즘은 대량의 텍스트 데이터를 분석하여 핵심 정보를...   \n",
       "2  TRAIN_0002  마지막으로, 키친타올을 보관할 때는 쉽게 접근할 수 있는 곳에 두어 낭비를 방지하는...   \n",
       "3  TRAIN_0003   책의 페이지가 손상되지 않도록 수직으로 세워 두거나 평평하게 눕혀 보관하는 것이 좋다.   \n",
       "4  TRAIN_0004  인공지능 모델은 반복적인 실험을 통해 지속적으로 학습하며, 이를 통해 발견의 정확성...   \n",
       "\n",
       "                                          sentence_1  \\\n",
       "0  이러한 특성은 유권자들에게 신뢰를 제공하며, 민주적 참여를 촉진하는 데 기여할 수 있다.   \n",
       "1     결과적으로, 이러한 기술은 사용자에게 신속하고 효율적인 정보 전달을 가능하게 한다.   \n",
       "2          재사용 가능한 천이나 스펀지를 활용하면 키친타올의 필요성을 줄일 수 있다.   \n",
       "3      정기적으로 먼지를 털어내고, 곰팡이나 해충의 발생 여부를 점검하는 것이 중요하다.   \n",
       "4  인공지능은 대량의 데이터를 분석하여 숨겨진 패턴과 상관관계를 발견하는 데 강력한 도...   \n",
       "\n",
       "                                          sentence_2  \\\n",
       "0  결과적으로 블록체인 기반의 투표 시스템은 공정하고 신뢰할 수 있는 선거 환경을 조성...   \n",
       "1     생성된 줄거리는 원본 텍스트의 의미를 유지하면서도 간결하게 요약된 형태로 제공된다.   \n",
       "2               물기를 제거할 때는 가볍게 눌러주어 과도한 사용을 피할 수 있다.   \n",
       "3             종이책은 직사광선이 닿지 않는 서늘하고 건조한 장소에 보관해야 한다.   \n",
       "4  결국, 인공지능의 지원은 과학적 발견의 속도와 효율성을 혁신적으로 변화시킬 수 있는...   \n",
       "\n",
       "                                          sentence_3  answer_0  answer_1  \\\n",
       "0       각 투표는 변경 불가능한 기록으로 저장되어 조작의 가능성을 원천적으로 차단한다.         0         3   \n",
       "1  이 알고리즘은 자연어 처리 기술을 활용하여 문맥을 이해하고, 주요 사건과 등장인물을...         0         3   \n",
       "2                 키친타올을 절약하는 첫걸음은 필요한 양만큼만 사용하는 것이다.         3         2   \n",
       "3  필요할 경우, 책을 보호하기 위해 커버를 씌우거나 전용 보관함에 넣는 방법도 고려할...         2         0   \n",
       "4  이러한 분석 결과는 연구자들에게 새로운 가설을 제시하고 실험 설계를 개선하는 데 기...         1         3   \n",
       "\n",
       "   answer_2  answer_3  \n",
       "0         1         2  \n",
       "1         2         1  \n",
       "2         1         0  \n",
       "3         1         3  \n",
       "4         0         2  "
      ]
     },
     "execution_count": 52,
     "metadata": {},
     "output_type": "execute_result"
    }
   ],
   "source": [
    "import pandas as pd\n",
    "\n",
    "# 기본 경로\n",
    "BASE_DIR = \"/kaggle/input/global/\"\n",
    "\n",
    "# 데이터 불러오기\n",
    "train_path = pd.read_csv(BASE_DIR + \"train.csv\")\n",
    "test_df = pd.read_csv(BASE_DIR + \"test.csv\")\n",
    "train_path.head()\n"
   ]
  },
  {
   "cell_type": "code",
   "execution_count": 4,
   "metadata": {
    "execution": {
     "iopub.execute_input": "2025-06-01T03:00:42.426997Z",
     "iopub.status.busy": "2025-06-01T03:00:42.426770Z",
     "iopub.status.idle": "2025-06-01T03:00:42.450380Z",
     "shell.execute_reply": "2025-06-01T03:00:42.449726Z",
     "shell.execute_reply.started": "2025-06-01T03:00:42.426979Z"
    },
    "id": "vUpT4LF3qvyb",
    "trusted": true
   },
   "outputs": [],
   "source": [
    "submission_path = pd.read_csv(BASE_DIR + \"sample_submission.csv\")"
   ]
  },
  {
   "cell_type": "code",
   "execution_count": 5,
   "metadata": {
    "colab": {
     "base_uri": "https://localhost:8080/",
     "height": 414
    },
    "execution": {
     "iopub.execute_input": "2025-06-01T03:00:42.451424Z",
     "iopub.status.busy": "2025-06-01T03:00:42.451170Z",
     "iopub.status.idle": "2025-06-01T03:00:42.474622Z",
     "shell.execute_reply": "2025-06-01T03:00:42.473927Z",
     "shell.execute_reply.started": "2025-06-01T03:00:42.451402Z"
    },
    "id": "5nkFL-jSqvyc",
    "outputId": "257c2af2-d1a6-4c7b-cf8d-25424137ed2e",
    "trusted": true
   },
   "outputs": [
    {
     "name": "stdout",
     "output_type": "stream",
     "text": [
      "<class 'pandas.core.frame.DataFrame'>\n",
      "RangeIndex: 1780 entries, 0 to 1779\n",
      "Data columns (total 5 columns):\n",
      " #   Column    Non-Null Count  Dtype \n",
      "---  ------    --------------  ----- \n",
      " 0   ID        1780 non-null   object\n",
      " 1   answer_0  1780 non-null   int64 \n",
      " 2   answer_1  1780 non-null   int64 \n",
      " 3   answer_2  1780 non-null   int64 \n",
      " 4   answer_3  1780 non-null   int64 \n",
      "dtypes: int64(4), object(1)\n",
      "memory usage: 69.7+ KB\n"
     ]
    },
    {
     "data": {
      "text/html": [
       "<div>\n",
       "<style scoped>\n",
       "    .dataframe tbody tr th:only-of-type {\n",
       "        vertical-align: middle;\n",
       "    }\n",
       "\n",
       "    .dataframe tbody tr th {\n",
       "        vertical-align: top;\n",
       "    }\n",
       "\n",
       "    .dataframe thead th {\n",
       "        text-align: right;\n",
       "    }\n",
       "</style>\n",
       "<table border=\"1\" class=\"dataframe\">\n",
       "  <thead>\n",
       "    <tr style=\"text-align: right;\">\n",
       "      <th></th>\n",
       "      <th>ID</th>\n",
       "      <th>answer_0</th>\n",
       "      <th>answer_1</th>\n",
       "      <th>answer_2</th>\n",
       "      <th>answer_3</th>\n",
       "    </tr>\n",
       "  </thead>\n",
       "  <tbody>\n",
       "    <tr>\n",
       "      <th>0</th>\n",
       "      <td>TEST_0000</td>\n",
       "      <td>0</td>\n",
       "      <td>1</td>\n",
       "      <td>2</td>\n",
       "      <td>3</td>\n",
       "    </tr>\n",
       "    <tr>\n",
       "      <th>1</th>\n",
       "      <td>TEST_0001</td>\n",
       "      <td>0</td>\n",
       "      <td>1</td>\n",
       "      <td>2</td>\n",
       "      <td>3</td>\n",
       "    </tr>\n",
       "    <tr>\n",
       "      <th>2</th>\n",
       "      <td>TEST_0002</td>\n",
       "      <td>0</td>\n",
       "      <td>1</td>\n",
       "      <td>2</td>\n",
       "      <td>3</td>\n",
       "    </tr>\n",
       "    <tr>\n",
       "      <th>3</th>\n",
       "      <td>TEST_0003</td>\n",
       "      <td>0</td>\n",
       "      <td>1</td>\n",
       "      <td>2</td>\n",
       "      <td>3</td>\n",
       "    </tr>\n",
       "    <tr>\n",
       "      <th>4</th>\n",
       "      <td>TEST_0004</td>\n",
       "      <td>0</td>\n",
       "      <td>1</td>\n",
       "      <td>2</td>\n",
       "      <td>3</td>\n",
       "    </tr>\n",
       "  </tbody>\n",
       "</table>\n",
       "</div>"
      ],
      "text/plain": [
       "          ID  answer_0  answer_1  answer_2  answer_3\n",
       "0  TEST_0000         0         1         2         3\n",
       "1  TEST_0001         0         1         2         3\n",
       "2  TEST_0002         0         1         2         3\n",
       "3  TEST_0003         0         1         2         3\n",
       "4  TEST_0004         0         1         2         3"
      ]
     },
     "execution_count": 5,
     "metadata": {},
     "output_type": "execute_result"
    }
   ],
   "source": [
    "submission_path.info()\n",
    "submission_path.head()"
   ]
  },
  {
   "cell_type": "code",
   "execution_count": 6,
   "metadata": {
    "execution": {
     "iopub.execute_input": "2025-06-01T03:00:42.475540Z",
     "iopub.status.busy": "2025-06-01T03:00:42.475322Z",
     "iopub.status.idle": "2025-06-01T03:00:42.493164Z",
     "shell.execute_reply": "2025-06-01T03:00:42.492316Z",
     "shell.execute_reply.started": "2025-06-01T03:00:42.475523Z"
    },
    "id": "gnF7yb6oqvyc",
    "trusted": true
   },
   "outputs": [],
   "source": [
    "# data_utils.py\n",
    "import pandas as pd\n",
    "import numpy as np\n",
    "\n",
    "def load_data(train_path, test_path):\n",
    "    train = pd.read_csv(train_path)\n",
    "    test = pd.read_csv(test_path)\n",
    "    return train, test\n",
    "\n",
    "def make_labels(df):\n",
    "    # answer_0 ~ answer_3 → [문장0은 몇 번째, 문장1은 몇 번째, ...]\n",
    "    answers = df[[f'answer_{i}' for i in range(4)]].values\n",
    "    labels = []\n",
    "    for row in answers:\n",
    "        label = [0]*4\n",
    "        for pos, sent_idx in enumerate(row):\n",
    "            label[sent_idx] = pos\n",
    "        labels.append(label)\n",
    "    return np.array(labels)"
   ]
  },
  {
   "cell_type": "markdown",
   "metadata": {
    "id": "mAdqOCQFqvyd"
   },
   "source": [
    "# Dataset 클래스\n",
    " 4개의 문장을 [SEP]로 묶어서 BERT에 넣을 수 있게 바꿔줌"
   ]
  },
  {
   "cell_type": "code",
   "execution_count": 7,
   "metadata": {
    "execution": {
     "iopub.execute_input": "2025-06-01T03:00:42.494067Z",
     "iopub.status.busy": "2025-06-01T03:00:42.493798Z",
     "iopub.status.idle": "2025-06-01T03:00:42.509629Z",
     "shell.execute_reply": "2025-06-01T03:00:42.509047Z",
     "shell.execute_reply.started": "2025-06-01T03:00:42.494050Z"
    },
    "id": "OnATscUgqvyg",
    "trusted": true
   },
   "outputs": [],
   "source": [
    "# ✅ 1. 데이터셋 클래스\n",
    "from torch.utils.data import Dataset\n",
    "\n",
    "class GlobalOrderDataset(Dataset):\n",
    "    def __init__(self, df, tokenizer, labels=None, max_length=256):\n",
    "        self.sentences = df[[f'sentence_{i}' for i in range(4)]].values\n",
    "        self.tokenizer = tokenizer\n",
    "        self.labels = labels\n",
    "        self.max_length = max_length\n",
    "\n",
    "    def __len__(self):\n",
    "        return len(self.sentences)\n",
    "\n",
    "    def __getitem__(self, idx):\n",
    "        sents = self.sentences[idx]\n",
    "        text = '[CLS] ' + ' [SEP] '.join(sents) + ' [SEP]'\n",
    "        encoding = self.tokenizer(\n",
    "            text,\n",
    "            padding='max_length',\n",
    "            truncation=True,\n",
    "            max_length=self.max_length,\n",
    "            return_tensors='pt'\n",
    "        )\n",
    "        item = {k: v.squeeze(0) for k, v in encoding.items()}\n",
    "        if self.labels is not None:\n",
    "            item['labels'] = torch.tensor(self.labels[idx], dtype=torch.long)\n",
    "            return item\n"
   ]
  },
  {
   "cell_type": "markdown",
   "metadata": {
    "id": "8_pTePS6qvyh"
   },
   "source": [
    "# Model 클래스\n",
    "- AutoModel (예: Roberta) 사용\n",
    "- 문장 4개를 넣었을 때 그 순서를 예측\n",
    "- 출력은 [batch, 4, 4] 크기의 행렬 → 각 문장이 어떤 위치에 있어야 하는지 예측"
   ]
  },
  {
   "cell_type": "code",
   "execution_count": 8,
   "metadata": {
    "execution": {
     "iopub.execute_input": "2025-06-01T03:00:42.510691Z",
     "iopub.status.busy": "2025-06-01T03:00:42.510432Z",
     "iopub.status.idle": "2025-06-01T03:00:42.528493Z",
     "shell.execute_reply": "2025-06-01T03:00:42.527768Z",
     "shell.execute_reply.started": "2025-06-01T03:00:42.510667Z"
    },
    "id": "UzOnQquWqvyh",
    "trusted": true
   },
   "outputs": [],
   "source": [
    "# ✅ 2. 모델 정의\n",
    "import torch\n",
    "import torch.nn as nn\n",
    "from transformers import AutoModel  \n",
    "class GlobalOrderModel(nn.Module):\n",
    "    def __init__(self, model_name='klue/roberta-large'):\n",
    "        super().__init__()\n",
    "        self.bert = AutoModel.from_pretrained(model_name)\n",
    "        hidden_size = self.bert.config.hidden_size\n",
    "\n",
    "        self.classifier = nn.Sequential(\n",
    "            nn.Linear(hidden_size, 1024),\n",
    "            nn.ReLU(),\n",
    "            nn.Dropout(0.3),\n",
    "            nn.Linear(1024, 4 * 4)  # 4문장 * 4 클래스\n",
    "        )\n",
    "\n",
    "    def forward(self, input_ids, attention_mask, labels=None):\n",
    "        outputs = self.bert(input_ids=input_ids, attention_mask=attention_mask)\n",
    "        pooled = outputs.last_hidden_state[:, 0]  # [CLS] 토큰 기준\n",
    "        logits = self.classifier(pooled)\n",
    "        if labels is not None:\n",
    "            loss_fn = nn.CrossEntropyLoss()\n",
    "            loss = loss_fn(logits.view(-1, 4), labels.view(-1))\n",
    "            return {\"loss\": loss, \"logits\": logits.view(-1, 4, 4)}  # ✅ 여기가 핵심!\n",
    "        else:\n",
    "            return {\"logits\": logits.view(-1, 4, 4)}\n"
   ]
  },
  {
   "cell_type": "code",
   "execution_count": 26,
   "metadata": {
    "execution": {
     "iopub.execute_input": "2025-06-01T05:07:30.904872Z",
     "iopub.status.busy": "2025-06-01T05:07:30.904627Z",
     "iopub.status.idle": "2025-06-01T05:07:30.910515Z",
     "shell.execute_reply": "2025-06-01T05:07:30.909820Z",
     "shell.execute_reply.started": "2025-06-01T05:07:30.904856Z"
    },
    "id": "JMJJi0ciqvyi",
    "trusted": true
   },
   "outputs": [],
   "source": [
    "def compute_metrics(eval_pred):\n",
    "    try:\n",
    "        logits, labels = eval_pred\n",
    "        print(\"✅ compute_metrics 호출됨\")\n",
    "        print(\"logits shape:\", np.shape(logits))    # 예: (1471, 4, 4)\n",
    "        print(\"labels shape:\", np.shape(labels))    # 예: (1471, 4) 이어야 함\n",
    "\n",
    "        preds = np.argmax(logits, axis=2)\n",
    "        sentence_accuracy = (preds == labels).mean()\n",
    "        full_order_accuracy = (preds == labels).all(axis=1).mean()\n",
    "\n",
    "        print(f\"🎯 sentence_acc: {sentence_accuracy:.4f}, full_order_acc: {full_order_accuracy:.4f}\")\n",
    "\n",
    "        return {\n",
    "            \"sentence_accuracy\": sentence_accuracy,\n",
    "            \"full_order_accuracy\": full_order_accuracy\n",
    "        }\n",
    "    except Exception as e:\n",
    "        print(f\"❌ compute_metrics 내부 오류: {e}\")\n",
    "        return {}\n"
   ]
  },
  {
   "cell_type": "code",
   "execution_count": 10,
   "metadata": {
    "colab": {
     "base_uri": "https://localhost:8080/",
     "height": 934,
     "referenced_widgets": [
      "00ae3c0661f74c6ab1949a18416a06c8",
      "ff26057bdc8e463faac926ed323d502a",
      "884aae93da164aa9967e6466bf20e2dc",
      "7a8b0d7a3bca47259ce88dde7779ff92",
      "db034e45b6f441069a3ccb2fddaa03ab",
      "c3913ce3fbfd45af9c3423b260162ea3",
      "bf5201cf1939451f8eca3fb7d5cc530d",
      "68e5d1916075403c8f25a9beb6d09625",
      "67bb63dd97484124b69472c2c76afc59",
      "a4e05295e3de49a2b888861a0d2862b3",
      "58b63018016a48fbafa4aacd49d75c2d",
      "d8bbe974729e4850bc508ed3cfc16740",
      "6e59b454e2e543bf8d7d90dedeeef482",
      "72ed1d8225a54330a083ca8e09ab4ea3",
      "b12176d2b94c41ce9c580754dec401ab",
      "c85833a02a464b26a55106b6447bd451",
      "4deedccb013842bb8442789fb6a0c61e",
      "b5f319217508437db8cfd5b741205d88",
      "983b37127dcc4c42b443a542c979197a",
      "e3ad0119d31d41ca87d71be9835a69b2",
      "a45ca6531bd2445fb06555c9d9c00e3e",
      "735f8d3960dd4d319e23e30fc2097a04"
     ]
    },
    "execution": {
     "iopub.execute_input": "2025-06-01T03:00:42.545870Z",
     "iopub.status.busy": "2025-06-01T03:00:42.545661Z",
     "iopub.status.idle": "2025-06-01T03:00:52.346277Z",
     "shell.execute_reply": "2025-06-01T03:00:52.345672Z",
     "shell.execute_reply.started": "2025-06-01T03:00:42.545855Z"
    },
    "id": "o2wujibZqvyj",
    "outputId": "8ab1bae6-9b83-43ba-c3dd-1cbb4ac5d645",
    "trusted": true
   },
   "outputs": [
    {
     "data": {
      "application/vnd.jupyter.widget-view+json": {
       "model_id": "5ff8d1c986aa4ee683cf25942a16a927",
       "version_major": 2,
       "version_minor": 0
      },
      "text/plain": [
       "config.json:   0%|          | 0.00/547 [00:00<?, ?B/s]"
      ]
     },
     "metadata": {},
     "output_type": "display_data"
    },
    {
     "data": {
      "application/vnd.jupyter.widget-view+json": {
       "model_id": "13f9e358cacf499f9a7f8fb77ef87183",
       "version_major": 2,
       "version_minor": 0
      },
      "text/plain": [
       "model.safetensors:   0%|          | 0.00/1.35G [00:00<?, ?B/s]"
      ]
     },
     "metadata": {},
     "output_type": "display_data"
    },
    {
     "name": "stderr",
     "output_type": "stream",
     "text": [
      "Some weights of RobertaModel were not initialized from the model checkpoint at klue/roberta-large and are newly initialized: ['pooler.dense.bias', 'pooler.dense.weight']\n",
      "You should probably TRAIN this model on a down-stream task to be able to use it for predictions and inference.\n"
     ]
    },
    {
     "data": {
      "text/plain": [
       "GlobalOrderModel(\n",
       "  (bert): RobertaModel(\n",
       "    (embeddings): RobertaEmbeddings(\n",
       "      (word_embeddings): Embedding(32000, 1024, padding_idx=1)\n",
       "      (position_embeddings): Embedding(514, 1024, padding_idx=1)\n",
       "      (token_type_embeddings): Embedding(1, 1024)\n",
       "      (LayerNorm): LayerNorm((1024,), eps=1e-05, elementwise_affine=True)\n",
       "      (dropout): Dropout(p=0.1, inplace=False)\n",
       "    )\n",
       "    (encoder): RobertaEncoder(\n",
       "      (layer): ModuleList(\n",
       "        (0-23): 24 x RobertaLayer(\n",
       "          (attention): RobertaAttention(\n",
       "            (self): RobertaSdpaSelfAttention(\n",
       "              (query): Linear(in_features=1024, out_features=1024, bias=True)\n",
       "              (key): Linear(in_features=1024, out_features=1024, bias=True)\n",
       "              (value): Linear(in_features=1024, out_features=1024, bias=True)\n",
       "              (dropout): Dropout(p=0.1, inplace=False)\n",
       "            )\n",
       "            (output): RobertaSelfOutput(\n",
       "              (dense): Linear(in_features=1024, out_features=1024, bias=True)\n",
       "              (LayerNorm): LayerNorm((1024,), eps=1e-05, elementwise_affine=True)\n",
       "              (dropout): Dropout(p=0.1, inplace=False)\n",
       "            )\n",
       "          )\n",
       "          (intermediate): RobertaIntermediate(\n",
       "            (dense): Linear(in_features=1024, out_features=4096, bias=True)\n",
       "            (intermediate_act_fn): GELUActivation()\n",
       "          )\n",
       "          (output): RobertaOutput(\n",
       "            (dense): Linear(in_features=4096, out_features=1024, bias=True)\n",
       "            (LayerNorm): LayerNorm((1024,), eps=1e-05, elementwise_affine=True)\n",
       "            (dropout): Dropout(p=0.1, inplace=False)\n",
       "          )\n",
       "        )\n",
       "      )\n",
       "    )\n",
       "    (pooler): RobertaPooler(\n",
       "      (dense): Linear(in_features=1024, out_features=1024, bias=True)\n",
       "      (activation): Tanh()\n",
       "    )\n",
       "  )\n",
       "  (classifier): Sequential(\n",
       "    (0): Linear(in_features=1024, out_features=1024, bias=True)\n",
       "    (1): ReLU()\n",
       "    (2): Dropout(p=0.3, inplace=False)\n",
       "    (3): Linear(in_features=1024, out_features=16, bias=True)\n",
       "  )\n",
       ")"
      ]
     },
     "execution_count": 10,
     "metadata": {},
     "output_type": "execute_result"
    }
   ],
   "source": [
    "model = GlobalOrderModel(model_name=\"klue/roberta-large\")  # ✅ RoBERTa로 교체\n",
    "device = torch.device(\"cuda\" if torch.cuda.is_available() else \"cpu\")  # ✅ GPU 사용 여부 확인\n",
    "model.to(device)  # ✅ 모델을 해당 디바이스로 이동\n"
   ]
  },
  {
   "cell_type": "code",
   "execution_count": 11,
   "metadata": {
    "execution": {
     "iopub.execute_input": "2025-06-01T03:00:52.347146Z",
     "iopub.status.busy": "2025-06-01T03:00:52.346951Z",
     "iopub.status.idle": "2025-06-01T03:00:52.373691Z",
     "shell.execute_reply": "2025-06-01T03:00:52.373173Z",
     "shell.execute_reply.started": "2025-06-01T03:00:52.347131Z"
    },
    "id": "v11MbleIqvyj",
    "trusted": true
   },
   "outputs": [],
   "source": [
    "# ✅ train/val 분리 (20% → 검증에 사용)\n",
    "train_df_split, val_df = train_test_split(train_path, test_size=0.2, random_state=42)\n",
    "\n",
    "# ✅ 라벨 생성\n",
    "train_labels = make_labels(train_df_split)\n",
    "val_labels = make_labels(val_df)"
   ]
  },
  {
   "cell_type": "code",
   "execution_count": 12,
   "metadata": {
    "colab": {
     "base_uri": "https://localhost:8080/",
     "height": 113,
     "referenced_widgets": [
      "ec5261ccb5c247bbb3e7ea20ea067b82",
      "f58ceaf1580f4e7d9d5a9c045659b421",
      "10c86216a57b485a97cb026489d3953a",
      "3962b0147c4547108a04811cbdb38660",
      "76555a4e7a37440ba5f7717f161f5741",
      "9ec1c0a6d3d240f7bd85d2cc01619666",
      "72dc42d1fc504399b2aeacf912af01c6",
      "2c50ca997d86463ea228585250219957",
      "95f8a9909607418491a53f7cd07481c4",
      "40ceecfc8a454c91bcbfa05b3665fae8",
      "97f6daa8d1c14136a05cbf3391fabe41",
      "d89972e05ec745629bd8abe5ce534f46",
      "899d6f31fe64461ab5a032ff85fbd87c",
      "8d4d67b8b81f4800b5de40e9fc06ed1c",
      "6eac557421d74ea785458f0404f38153",
      "776b83d5b6c64761b45fd32e2aab6b68",
      "dd1d25dc841745bbb3371196e9b70f66",
      "a2b7c5e8a43e478d99359615bb57e78d",
      "1fe3fac9c657451189b4ed7054c9a41c",
      "a8cab2830370456784a4da2ef89de812",
      "625edd8a17864284ba669fa45e07047e",
      "9e5a526e5b834e9cbe269ae65f2c4790",
      "b65a69e4648d4185a52a5d71a6cd2895",
      "6ff10804e7d0478496c62096ffabd4d4",
      "27ffd4f4b5584241b1551a87ffe9d331",
      "de78fa13d4f64e2f973023bce392f34c",
      "bb09e012eae54136a5784b68884baac7",
      "8a977764a77c4320a21e0c1f6ee6aa55",
      "5179c64ac9054c75b15935f08a9d6a8d",
      "8bf2f28c34234a788d925a1052cb9a25",
      "05213159a6c0437ea9132b0bf042af4f",
      "0162b1b778fa4d1c8b91fb40f87dcb29",
      "b0d72e8edcc1493eae052db8cbc90315"
     ]
    },
    "execution": {
     "iopub.execute_input": "2025-06-01T03:00:52.374729Z",
     "iopub.status.busy": "2025-06-01T03:00:52.374478Z",
     "iopub.status.idle": "2025-06-01T03:00:53.739122Z",
     "shell.execute_reply": "2025-06-01T03:00:53.738539Z",
     "shell.execute_reply.started": "2025-06-01T03:00:52.374711Z"
    },
    "id": "9o3JPXvnqvyk",
    "outputId": "2c8f50ca-4cd8-4908-9737-33828fd1c23f",
    "trusted": true
   },
   "outputs": [
    {
     "data": {
      "application/vnd.jupyter.widget-view+json": {
       "model_id": "a6ff9e6c67a74e89b396302fbb1fb240",
       "version_major": 2,
       "version_minor": 0
      },
      "text/plain": [
       "tokenizer_config.json:   0%|          | 0.00/375 [00:00<?, ?B/s]"
      ]
     },
     "metadata": {},
     "output_type": "display_data"
    },
    {
     "data": {
      "application/vnd.jupyter.widget-view+json": {
       "model_id": "78f51b33a13141658c15da499dc23ff7",
       "version_major": 2,
       "version_minor": 0
      },
      "text/plain": [
       "vocab.txt:   0%|          | 0.00/248k [00:00<?, ?B/s]"
      ]
     },
     "metadata": {},
     "output_type": "display_data"
    },
    {
     "data": {
      "application/vnd.jupyter.widget-view+json": {
       "model_id": "53f78472f82a4802ac1a1f06c354c014",
       "version_major": 2,
       "version_minor": 0
      },
      "text/plain": [
       "tokenizer.json:   0%|          | 0.00/752k [00:00<?, ?B/s]"
      ]
     },
     "metadata": {},
     "output_type": "display_data"
    },
    {
     "data": {
      "application/vnd.jupyter.widget-view+json": {
       "model_id": "707669fd94ac4ebcb9a76437aa1ac043",
       "version_major": 2,
       "version_minor": 0
      },
      "text/plain": [
       "special_tokens_map.json:   0%|          | 0.00/173 [00:00<?, ?B/s]"
      ]
     },
     "metadata": {},
     "output_type": "display_data"
    }
   ],
   "source": [
    "from transformers import AutoTokenizer\n",
    "\n",
    "# ✅ RoBERTa 전용 tokenizer 사용\n",
    "tokenizer = AutoTokenizer.from_pretrained(\"klue/roberta-large\")\n",
    "\n",
    "# 🔹 학습 데이터셋 생성\n",
    "train_dataset = GlobalOrderDataset(train_df_split, tokenizer, labels=train_labels)\n",
    "val_dataset = GlobalOrderDataset(val_df, tokenizer, labels=val_labels)"
   ]
  },
  {
   "cell_type": "code",
   "execution_count": 13,
   "metadata": {
    "colab": {
     "base_uri": "https://localhost:8080/"
    },
    "execution": {
     "iopub.execute_input": "2025-06-01T03:00:53.740094Z",
     "iopub.status.busy": "2025-06-01T03:00:53.739812Z",
     "iopub.status.idle": "2025-06-01T03:00:53.755111Z",
     "shell.execute_reply": "2025-06-01T03:00:53.754565Z",
     "shell.execute_reply.started": "2025-06-01T03:00:53.740069Z"
    },
    "id": "RPwjO-gFqvyk",
    "outputId": "8bba6f7f-bd97-4654-cb2f-f8dab7a31b6c",
    "trusted": true
   },
   "outputs": [
    {
     "data": {
      "text/plain": [
       "{'input_ids': tensor([    0,     0,  3857,  7285,  4206,  3794,  3747,  2170,  3844,  2530,\n",
       "          6233,  2525,    16,  3773,  2079,  4901,  2047,  2145,  5068, 11604,\n",
       "          7594,  2897,  2062,    18,     2,  7655,  7246,  2079, 18309,  2145,\n",
       "          3828,  2125,  3979,  2069,  4146,  2085,   904,    16,  3892, 31221,\n",
       "          4253, 25052,  2116,  5588,  2125, 28674,    18,     2,  3983,    16,\n",
       "          7655,  4253, 25052,  2259,  3857,  2145,  2079,  4203,  2069,  3644,\n",
       "          3940,  4021,  2651,  1295,  1513,  2062,    18,     2,  1504,  3747,\n",
       "         27135,  3857,  3844,  2259,  5767,  2047,  2069,  4392,  2088,    16,\n",
       "          3634,  3647,  2079,  4301,  2138,  4523,  2205,  2259,  3748,  2470,\n",
       "          4008,  2069,  3605,    18,     2,     2,     1,     1,     1,     1,\n",
       "             1,     1,     1,     1,     1,     1,     1,     1,     1,     1,\n",
       "             1,     1,     1,     1,     1,     1,     1,     1,     1,     1,\n",
       "             1,     1,     1,     1,     1,     1,     1,     1,     1,     1,\n",
       "             1,     1,     1,     1,     1,     1,     1,     1,     1,     1,\n",
       "             1,     1,     1,     1,     1,     1,     1,     1,     1,     1,\n",
       "             1,     1,     1,     1,     1,     1,     1,     1,     1,     1,\n",
       "             1,     1,     1,     1,     1,     1,     1,     1,     1,     1,\n",
       "             1,     1,     1,     1,     1,     1,     1,     1,     1,     1,\n",
       "             1,     1,     1,     1,     1,     1,     1,     1,     1,     1,\n",
       "             1,     1,     1,     1,     1,     1,     1,     1,     1,     1,\n",
       "             1,     1,     1,     1,     1,     1,     1,     1,     1,     1,\n",
       "             1,     1,     1,     1,     1,     1,     1,     1,     1,     1,\n",
       "             1,     1,     1,     1,     1,     1,     1,     1,     1,     1,\n",
       "             1,     1,     1,     1,     1,     1,     1,     1,     1,     1,\n",
       "             1,     1,     1,     1,     1,     1,     1,     1,     1,     1,\n",
       "             1,     1,     1,     1,     1,     1]),\n",
       " 'token_type_ids': tensor([0, 0, 0, 0, 0, 0, 0, 0, 0, 0, 0, 0, 0, 0, 0, 0, 0, 0, 0, 0, 0, 0, 0, 0,\n",
       "         0, 0, 0, 0, 0, 0, 0, 0, 0, 0, 0, 0, 0, 0, 0, 0, 0, 0, 0, 0, 0, 0, 0, 0,\n",
       "         0, 0, 0, 0, 0, 0, 0, 0, 0, 0, 0, 0, 0, 0, 0, 0, 0, 0, 0, 0, 0, 0, 0, 0,\n",
       "         0, 0, 0, 0, 0, 0, 0, 0, 0, 0, 0, 0, 0, 0, 0, 0, 0, 0, 0, 0, 0, 0, 0, 0,\n",
       "         0, 0, 0, 0, 0, 0, 0, 0, 0, 0, 0, 0, 0, 0, 0, 0, 0, 0, 0, 0, 0, 0, 0, 0,\n",
       "         0, 0, 0, 0, 0, 0, 0, 0, 0, 0, 0, 0, 0, 0, 0, 0, 0, 0, 0, 0, 0, 0, 0, 0,\n",
       "         0, 0, 0, 0, 0, 0, 0, 0, 0, 0, 0, 0, 0, 0, 0, 0, 0, 0, 0, 0, 0, 0, 0, 0,\n",
       "         0, 0, 0, 0, 0, 0, 0, 0, 0, 0, 0, 0, 0, 0, 0, 0, 0, 0, 0, 0, 0, 0, 0, 0,\n",
       "         0, 0, 0, 0, 0, 0, 0, 0, 0, 0, 0, 0, 0, 0, 0, 0, 0, 0, 0, 0, 0, 0, 0, 0,\n",
       "         0, 0, 0, 0, 0, 0, 0, 0, 0, 0, 0, 0, 0, 0, 0, 0, 0, 0, 0, 0, 0, 0, 0, 0,\n",
       "         0, 0, 0, 0, 0, 0, 0, 0, 0, 0, 0, 0, 0, 0, 0, 0]),\n",
       " 'attention_mask': tensor([1, 1, 1, 1, 1, 1, 1, 1, 1, 1, 1, 1, 1, 1, 1, 1, 1, 1, 1, 1, 1, 1, 1, 1,\n",
       "         1, 1, 1, 1, 1, 1, 1, 1, 1, 1, 1, 1, 1, 1, 1, 1, 1, 1, 1, 1, 1, 1, 1, 1,\n",
       "         1, 1, 1, 1, 1, 1, 1, 1, 1, 1, 1, 1, 1, 1, 1, 1, 1, 1, 1, 1, 1, 1, 1, 1,\n",
       "         1, 1, 1, 1, 1, 1, 1, 1, 1, 1, 1, 1, 1, 1, 1, 1, 1, 1, 1, 1, 1, 1, 1, 1,\n",
       "         0, 0, 0, 0, 0, 0, 0, 0, 0, 0, 0, 0, 0, 0, 0, 0, 0, 0, 0, 0, 0, 0, 0, 0,\n",
       "         0, 0, 0, 0, 0, 0, 0, 0, 0, 0, 0, 0, 0, 0, 0, 0, 0, 0, 0, 0, 0, 0, 0, 0,\n",
       "         0, 0, 0, 0, 0, 0, 0, 0, 0, 0, 0, 0, 0, 0, 0, 0, 0, 0, 0, 0, 0, 0, 0, 0,\n",
       "         0, 0, 0, 0, 0, 0, 0, 0, 0, 0, 0, 0, 0, 0, 0, 0, 0, 0, 0, 0, 0, 0, 0, 0,\n",
       "         0, 0, 0, 0, 0, 0, 0, 0, 0, 0, 0, 0, 0, 0, 0, 0, 0, 0, 0, 0, 0, 0, 0, 0,\n",
       "         0, 0, 0, 0, 0, 0, 0, 0, 0, 0, 0, 0, 0, 0, 0, 0, 0, 0, 0, 0, 0, 0, 0, 0,\n",
       "         0, 0, 0, 0, 0, 0, 0, 0, 0, 0, 0, 0, 0, 0, 0, 0]),\n",
       " 'labels': tensor([2, 0, 3, 1])}"
      ]
     },
     "execution_count": 13,
     "metadata": {},
     "output_type": "execute_result"
    }
   ],
   "source": [
    "train_dataset[0]"
   ]
  },
  {
   "cell_type": "code",
   "execution_count": 14,
   "metadata": {
    "colab": {
     "base_uri": "https://localhost:8080/"
    },
    "execution": {
     "iopub.execute_input": "2025-06-01T03:00:53.756003Z",
     "iopub.status.busy": "2025-06-01T03:00:53.755736Z",
     "iopub.status.idle": "2025-06-01T03:00:53.764539Z",
     "shell.execute_reply": "2025-06-01T03:00:53.763920Z",
     "shell.execute_reply.started": "2025-06-01T03:00:53.755986Z"
    },
    "id": "r5OQdd4Hqvyk",
    "outputId": "ff680f7a-d361-4882-e118-ea039ed18bbd",
    "trusted": true
   },
   "outputs": [
    {
     "data": {
      "text/plain": [
       "{'input_ids': tensor([    0,     0, 13025,  4331,  4119,  4525,  2170,  2259,  4262, 31221,\n",
       "          4254,  6087,  2116,  5588,  2125, 28674,    18,     2,  4331,  5189,\n",
       "          2079,  4040,  2470, 10291,  2069,  3627, 13149,  2267,  3726,  2052,\n",
       "          3677,  2205,  2062,    18,     2,  4178,  6233,    16,  4115, 31221,\n",
       "          4119,  4036,  2178,  2113,  2522, 13197,  2116,  3838,  2079,  5550,\n",
       "          2069,  4651,  4538,    18,     2, 15259, 10455, 31221, 23731,  2259,\n",
       "          4295,  2522, 12263,   545,  2079,  8262,  2470,  4740,  2069,  3691,\n",
       "          4538,    18,     2,     2,     1,     1,     1,     1,     1,     1,\n",
       "             1,     1,     1,     1,     1,     1,     1,     1,     1,     1,\n",
       "             1,     1,     1,     1,     1,     1,     1,     1,     1,     1,\n",
       "             1,     1,     1,     1,     1,     1,     1,     1,     1,     1,\n",
       "             1,     1,     1,     1,     1,     1,     1,     1,     1,     1,\n",
       "             1,     1,     1,     1,     1,     1,     1,     1,     1,     1,\n",
       "             1,     1,     1,     1,     1,     1,     1,     1,     1,     1,\n",
       "             1,     1,     1,     1,     1,     1,     1,     1,     1,     1,\n",
       "             1,     1,     1,     1,     1,     1,     1,     1,     1,     1,\n",
       "             1,     1,     1,     1,     1,     1,     1,     1,     1,     1,\n",
       "             1,     1,     1,     1,     1,     1,     1,     1,     1,     1,\n",
       "             1,     1,     1,     1,     1,     1,     1,     1,     1,     1,\n",
       "             1,     1,     1,     1,     1,     1,     1,     1,     1,     1,\n",
       "             1,     1,     1,     1,     1,     1,     1,     1,     1,     1,\n",
       "             1,     1,     1,     1,     1,     1,     1,     1,     1,     1,\n",
       "             1,     1,     1,     1,     1,     1,     1,     1,     1,     1,\n",
       "             1,     1,     1,     1,     1,     1,     1,     1,     1,     1,\n",
       "             1,     1,     1,     1,     1,     1,     1,     1,     1,     1,\n",
       "             1,     1,     1,     1,     1,     1]),\n",
       " 'token_type_ids': tensor([0, 0, 0, 0, 0, 0, 0, 0, 0, 0, 0, 0, 0, 0, 0, 0, 0, 0, 0, 0, 0, 0, 0, 0,\n",
       "         0, 0, 0, 0, 0, 0, 0, 0, 0, 0, 0, 0, 0, 0, 0, 0, 0, 0, 0, 0, 0, 0, 0, 0,\n",
       "         0, 0, 0, 0, 0, 0, 0, 0, 0, 0, 0, 0, 0, 0, 0, 0, 0, 0, 0, 0, 0, 0, 0, 0,\n",
       "         0, 0, 0, 0, 0, 0, 0, 0, 0, 0, 0, 0, 0, 0, 0, 0, 0, 0, 0, 0, 0, 0, 0, 0,\n",
       "         0, 0, 0, 0, 0, 0, 0, 0, 0, 0, 0, 0, 0, 0, 0, 0, 0, 0, 0, 0, 0, 0, 0, 0,\n",
       "         0, 0, 0, 0, 0, 0, 0, 0, 0, 0, 0, 0, 0, 0, 0, 0, 0, 0, 0, 0, 0, 0, 0, 0,\n",
       "         0, 0, 0, 0, 0, 0, 0, 0, 0, 0, 0, 0, 0, 0, 0, 0, 0, 0, 0, 0, 0, 0, 0, 0,\n",
       "         0, 0, 0, 0, 0, 0, 0, 0, 0, 0, 0, 0, 0, 0, 0, 0, 0, 0, 0, 0, 0, 0, 0, 0,\n",
       "         0, 0, 0, 0, 0, 0, 0, 0, 0, 0, 0, 0, 0, 0, 0, 0, 0, 0, 0, 0, 0, 0, 0, 0,\n",
       "         0, 0, 0, 0, 0, 0, 0, 0, 0, 0, 0, 0, 0, 0, 0, 0, 0, 0, 0, 0, 0, 0, 0, 0,\n",
       "         0, 0, 0, 0, 0, 0, 0, 0, 0, 0, 0, 0, 0, 0, 0, 0]),\n",
       " 'attention_mask': tensor([1, 1, 1, 1, 1, 1, 1, 1, 1, 1, 1, 1, 1, 1, 1, 1, 1, 1, 1, 1, 1, 1, 1, 1,\n",
       "         1, 1, 1, 1, 1, 1, 1, 1, 1, 1, 1, 1, 1, 1, 1, 1, 1, 1, 1, 1, 1, 1, 1, 1,\n",
       "         1, 1, 1, 1, 1, 1, 1, 1, 1, 1, 1, 1, 1, 1, 1, 1, 1, 1, 1, 1, 1, 1, 1, 1,\n",
       "         1, 1, 0, 0, 0, 0, 0, 0, 0, 0, 0, 0, 0, 0, 0, 0, 0, 0, 0, 0, 0, 0, 0, 0,\n",
       "         0, 0, 0, 0, 0, 0, 0, 0, 0, 0, 0, 0, 0, 0, 0, 0, 0, 0, 0, 0, 0, 0, 0, 0,\n",
       "         0, 0, 0, 0, 0, 0, 0, 0, 0, 0, 0, 0, 0, 0, 0, 0, 0, 0, 0, 0, 0, 0, 0, 0,\n",
       "         0, 0, 0, 0, 0, 0, 0, 0, 0, 0, 0, 0, 0, 0, 0, 0, 0, 0, 0, 0, 0, 0, 0, 0,\n",
       "         0, 0, 0, 0, 0, 0, 0, 0, 0, 0, 0, 0, 0, 0, 0, 0, 0, 0, 0, 0, 0, 0, 0, 0,\n",
       "         0, 0, 0, 0, 0, 0, 0, 0, 0, 0, 0, 0, 0, 0, 0, 0, 0, 0, 0, 0, 0, 0, 0, 0,\n",
       "         0, 0, 0, 0, 0, 0, 0, 0, 0, 0, 0, 0, 0, 0, 0, 0, 0, 0, 0, 0, 0, 0, 0, 0,\n",
       "         0, 0, 0, 0, 0, 0, 0, 0, 0, 0, 0, 0, 0, 0, 0, 0]),\n",
       " 'labels': tensor([0, 1, 3, 2])}"
      ]
     },
     "execution_count": 14,
     "metadata": {},
     "output_type": "execute_result"
    }
   ],
   "source": [
    "val_dataset[0]"
   ]
  },
  {
   "cell_type": "code",
   "execution_count": 15,
   "metadata": {
    "colab": {
     "base_uri": "https://localhost:8080/"
    },
    "execution": {
     "iopub.execute_input": "2025-06-01T03:00:53.765460Z",
     "iopub.status.busy": "2025-06-01T03:00:53.765191Z",
     "iopub.status.idle": "2025-06-01T03:00:54.203884Z",
     "shell.execute_reply": "2025-06-01T03:00:54.203347Z",
     "shell.execute_reply.started": "2025-06-01T03:00:53.765434Z"
    },
    "id": "IZhH1DBDqvyk",
    "outputId": "c023da24-5a80-4891-c59d-4d414a0cd250",
    "trusted": true
   },
   "outputs": [
    {
     "name": "stderr",
     "output_type": "stream",
     "text": [
      "Using the `WANDB_DISABLED` environment variable is deprecated and will be removed in v5. Use the --report_to flag to control the integrations used for logging result (for instance --report_to none).\n"
     ]
    }
   ],
   "source": [
    "import os\n",
    "os.environ[\"WANDB_DISABLED\"] = \"true\"\n",
    "\n",
    "from transformers import AutoTokenizer, Trainer, TrainingArguments, EarlyStoppingCallback\n",
    "\n",
    "# ✅ RoBERTa tokenizer\n",
    "tokenizer = AutoTokenizer.from_pretrained(\"klue/roberta-large\")\n",
    "\n",
    "# 🔹 라벨 생성\n",
    "labels = make_labels(train_df_split)\n",
    "\n",
    "# ✅ TrainingArguments\n",
    "training_args = TrainingArguments(\n",
    "    output_dir=\"./global_results\",\n",
    "    num_train_epochs=5,\n",
    "    per_device_train_batch_size=16,\n",
    "    per_device_eval_batch_size=64,\n",
    "    eval_strategy=\"epoch\",\n",
    "    save_strategy=\"epoch\",\n",
    "    logging_dir=\"./logs\",\n",
    "    logging_steps=10,\n",
    "    warmup_steps=500,\n",
    "    weight_decay=0.01,\n",
    "    load_best_model_at_end=True,\n",
    "    metric_for_best_model='full_order_accuracy',\n",
    "    greater_is_better=True,\n",
    "    seed=42,\n",
    ")\n",
    "\n",
    "# ✅ RoBERTa 기반 model은 이미 다음과 같이 정의되어 있어야 함:\n",
    "# model = GlobalOrderModel(\"klue/roberta-large\")\n",
    "\n",
    "# ✅ Trainer 설정\n",
    "trainer = Trainer(\n",
    "    model=model,\n",
    "    args=training_args,\n",
    "    train_dataset=train_dataset,\n",
    "    eval_dataset=val_dataset,\n",
    "    compute_metrics=compute_metrics,\n",
    "    callbacks=[EarlyStoppingCallback(early_stopping_patience=2)]\n",
    ")\n"
   ]
  },
  {
   "cell_type": "markdown",
   "metadata": {
    "id": "lY8Lwbxlqvyl"
   },
   "source": [
    "# 학습 실행"
   ]
  },
  {
   "cell_type": "code",
   "execution_count": 16,
   "metadata": {
    "colab": {
     "base_uri": "https://localhost:8080/",
     "height": 267
    },
    "execution": {
     "iopub.execute_input": "2025-06-01T03:00:54.204704Z",
     "iopub.status.busy": "2025-06-01T03:00:54.204528Z",
     "iopub.status.idle": "2025-06-01T03:46:37.623567Z",
     "shell.execute_reply": "2025-06-01T03:46:37.623046Z",
     "shell.execute_reply.started": "2025-06-01T03:00:54.204689Z"
    },
    "id": "aK7jM5bgqvyl",
    "outputId": "4d59790f-b033-4214-accd-db8ae99e8658",
    "trusted": true
   },
   "outputs": [
    {
     "data": {
      "text/html": [
       "\n",
       "    <div>\n",
       "      \n",
       "      <progress value='1840' max='1840' style='width:300px; height:20px; vertical-align: middle;'></progress>\n",
       "      [1840/1840 45:40, Epoch 5/5]\n",
       "    </div>\n",
       "    <table border=\"1\" class=\"dataframe\">\n",
       "  <thead>\n",
       " <tr style=\"text-align: left;\">\n",
       "      <th>Epoch</th>\n",
       "      <th>Training Loss</th>\n",
       "      <th>Validation Loss</th>\n",
       "      <th>Sentence Accuracy</th>\n",
       "      <th>Full Order Accuracy</th>\n",
       "    </tr>\n",
       "  </thead>\n",
       "  <tbody>\n",
       "    <tr>\n",
       "      <td>1</td>\n",
       "      <td>1.044600</td>\n",
       "      <td>0.929564</td>\n",
       "      <td>0.561013</td>\n",
       "      <td>0.135282</td>\n",
       "    </tr>\n",
       "    <tr>\n",
       "      <td>2</td>\n",
       "      <td>0.560800</td>\n",
       "      <td>0.554988</td>\n",
       "      <td>0.718219</td>\n",
       "      <td>0.410605</td>\n",
       "    </tr>\n",
       "    <tr>\n",
       "      <td>3</td>\n",
       "      <td>0.365300</td>\n",
       "      <td>0.386637</td>\n",
       "      <td>0.860469</td>\n",
       "      <td>0.716519</td>\n",
       "    </tr>\n",
       "    <tr>\n",
       "      <td>4</td>\n",
       "      <td>0.221200</td>\n",
       "      <td>0.341618</td>\n",
       "      <td>0.879334</td>\n",
       "      <td>0.753909</td>\n",
       "    </tr>\n",
       "    <tr>\n",
       "      <td>5</td>\n",
       "      <td>0.115800</td>\n",
       "      <td>0.304291</td>\n",
       "      <td>0.903297</td>\n",
       "      <td>0.807614</td>\n",
       "    </tr>\n",
       "  </tbody>\n",
       "</table><p>"
      ],
      "text/plain": [
       "<IPython.core.display.HTML object>"
      ]
     },
     "metadata": {},
     "output_type": "display_data"
    },
    {
     "name": "stdout",
     "output_type": "stream",
     "text": [
      "logits shape: (1471, 4, 4)\n",
      "logits shape: (1471, 4, 4)\n",
      "logits shape: (1471, 4, 4)\n",
      "logits shape: (1471, 4, 4)\n",
      "logits shape: (1471, 4, 4)\n"
     ]
    },
    {
     "data": {
      "text/plain": [
       "TrainOutput(global_step=1840, training_loss=0.5658500975888708, metrics={'train_runtime': 2742.9309, 'train_samples_per_second': 10.718, 'train_steps_per_second': 0.671, 'total_flos': 0.0, 'train_loss': 0.5658500975888708, 'epoch': 5.0})"
      ]
     },
     "execution_count": 16,
     "metadata": {},
     "output_type": "execute_result"
    }
   ],
   "source": [
    "trainer.train()"
   ]
  },
  {
   "cell_type": "code",
   "execution_count": 17,
   "metadata": {
    "execution": {
     "iopub.execute_input": "2025-06-01T03:46:37.624610Z",
     "iopub.status.busy": "2025-06-01T03:46:37.624379Z",
     "iopub.status.idle": "2025-06-01T03:46:40.223270Z",
     "shell.execute_reply": "2025-06-01T03:46:40.222720Z",
     "shell.execute_reply.started": "2025-06-01T03:46:37.624593Z"
    },
    "trusted": true
   },
   "outputs": [],
   "source": [
    "import shutil\n",
    "\n",
    "checkpoints = [\"checkpoint-368\", \"checkpoint-736\", \"checkpoint-1104\", \"checkpoint-1472\", \"checkpoint-1840\"]\n",
    "for ckpt in checkpoints:\n",
    "    shutil.rmtree(f\"/kaggle/working/global_results/{ckpt}\", ignore_errors=True)\n"
   ]
  },
  {
   "cell_type": "code",
   "execution_count": 18,
   "metadata": {
    "execution": {
     "iopub.execute_input": "2025-06-01T03:46:40.224220Z",
     "iopub.status.busy": "2025-06-01T03:46:40.224017Z",
     "iopub.status.idle": "2025-06-01T03:46:48.256575Z",
     "shell.execute_reply": "2025-06-01T03:46:48.255831Z",
     "shell.execute_reply.started": "2025-06-01T03:46:40.224204Z"
    },
    "id": "Mt9_t0q0qvyl",
    "outputId": "c3cf99fa-555f-4d06-ac3b-0981d83a3bd0",
    "trusted": true
   },
   "outputs": [
    {
     "data": {
      "text/plain": [
       "('/kaggle/working/global_results/best_model/tokenizer_config.json',\n",
       " '/kaggle/working/global_results/best_model/special_tokens_map.json',\n",
       " '/kaggle/working/global_results/best_model/vocab.txt',\n",
       " '/kaggle/working/global_results/best_model/added_tokens.json',\n",
       " '/kaggle/working/global_results/best_model/tokenizer.json')"
      ]
     },
     "execution_count": 18,
     "metadata": {},
     "output_type": "execute_result"
    }
   ],
   "source": [
    "# ✅ best checkpoint 기준으로 모델 저장\n",
    "save_path = \"/kaggle/working/global_results/best_model\"\n",
    "\n",
    "trainer.save_model(save_path)\n",
    "tokenizer.save_pretrained(save_path)"
   ]
  },
  {
   "cell_type": "markdown",
   "metadata": {
    "id": "k9zZk5Htqvym"
   },
   "source": [
    "# 튜닝"
   ]
  },
  {
   "cell_type": "code",
   "execution_count": 19,
   "metadata": {
    "execution": {
     "iopub.execute_input": "2025-06-01T03:46:48.257711Z",
     "iopub.status.busy": "2025-06-01T03:46:48.257394Z",
     "iopub.status.idle": "2025-06-01T03:46:48.261445Z",
     "shell.execute_reply": "2025-06-01T03:46:48.260669Z",
     "shell.execute_reply.started": "2025-06-01T03:46:48.257681Z"
    },
    "id": "eQKnoIitqvym",
    "trusted": true
   },
   "outputs": [],
   "source": [
    "from transformers import TrainingArguments, Trainer\n",
    "from scipy.stats import loguniform\n",
    "import numpy as np\n",
    "import pandas as pd\n"
   ]
  },
  {
   "cell_type": "code",
   "execution_count": 27,
   "metadata": {
    "execution": {
     "iopub.execute_input": "2025-06-01T05:08:09.403316Z",
     "iopub.status.busy": "2025-06-01T05:08:09.402541Z",
     "iopub.status.idle": "2025-06-01T05:08:09.415372Z",
     "shell.execute_reply": "2025-06-01T05:08:09.414704Z",
     "shell.execute_reply.started": "2025-06-01T05:08:09.403290Z"
    },
    "id": "P3ib1CWaqvym",
    "trusted": true
   },
   "outputs": [],
   "source": [
    "import os\n",
    "import numpy as np\n",
    "import pandas as pd\n",
    "import torch\n",
    "from scipy.stats import loguniform\n",
    "from transformers import AutoTokenizer, Trainer, TrainingArguments, EarlyStoppingCallback\n",
    "from torch.utils.data import DataLoader\n",
    "\n",
    "def run_global_tuning(train_dataset, val_dataset, tokenizer, n_trials=5):\n",
    "    results_path = './global_results/tuning_log.csv'\n",
    "    if os.path.exists(results_path):\n",
    "        results = pd.read_csv(results_path).to_dict(orient='records')\n",
    "        start_trial = len(results)\n",
    "    else:\n",
    "        results = []\n",
    "        start_trial = 0\n",
    "\n",
    "    for trial in range(start_trial, n_trials):\n",
    "        print(f\"\\n🎯 Trial {trial + 1} 시작\")\n",
    "        lr = float(loguniform.rvs(2e-5, 5e-5))\n",
    "        wd = float(loguniform.rvs(0.01, 0.07))\n",
    "        epochs = int(np.random.randint(7, 13))\n",
    "        batch_size = 16\n",
    "        total_steps = (len(train_dataset) // batch_size) * epochs\n",
    "        warmup = int(total_steps * np.random.uniform(0.02, 0.08))\n",
    "\n",
    "        args = TrainingArguments(\n",
    "            output_dir=f'./global_results/trial_{trial+1}',\n",
    "            learning_rate=lr,\n",
    "            weight_decay=wd,\n",
    "            warmup_steps=warmup,\n",
    "            per_device_train_batch_size=batch_size,\n",
    "            per_device_eval_batch_size=64,\n",
    "            num_train_epochs=epochs,\n",
    "            gradient_accumulation_steps=1,\n",
    "            lr_scheduler_type='linear',\n",
    "            logging_dir='./roberta_logs',\n",
    "            logging_steps=100,\n",
    "            save_strategy=\"epoch\",\n",
    "            save_total_limit=2,\n",
    "            eval_strategy='epoch',\n",
    "            seed=42,\n",
    "            load_best_model_at_end=True,\n",
    "            metric_for_best_model='full_order_accuracy',\n",
    "            greater_is_better=True,\n",
    "            report_to='none',\n",
    "            fp16=True,\n",
    "            optim='adamw_torch_fused'\n",
    "        )\n",
    "\n",
    "        trainer = Trainer(\n",
    "            model=GlobalOrderModel(\"klue/roberta-large\"),\n",
    "            args=args,\n",
    "            train_dataset=train_dataset,\n",
    "            eval_dataset=val_dataset,\n",
    "            tokenizer=tokenizer,\n",
    "            compute_metrics=compute_metrics,\n",
    "            callbacks=[EarlyStoppingCallback(early_stopping_patience=3)]\n",
    "        )\n",
    "\n",
    "        try:\n",
    "            trainer.train()\n",
    "            eval_results = trainer.evaluate()\n",
    "\n",
    "            save_path = f'./global_results/trial_{trial+1}/best_model'\n",
    "\n",
    "            try:\n",
    "                trainer.save_model(save_path)\n",
    "                tokenizer.save_pretrained(save_path)\n",
    "                model_saved = True\n",
    "            except Exception as e:\n",
    "                print(f\"⚠️ 모델 저장 실패: {e}\")\n",
    "                model_saved = False\n",
    "                save_path = \"FAILED\"\n",
    "                \n",
    "            results.append({\n",
    "                'trial': trial + 1,\n",
    "                'learning_rate': lr,\n",
    "                'weight_decay': wd,\n",
    "                'warmup_steps': warmup,\n",
    "                'epochs': epochs,\n",
    "                'sentence_accuracy': eval_results.get('sentence_accuracy'),\n",
    "                'full_order_accuracy': eval_results.get('full_order_accuracy'),\n",
    "                'eval_loss': eval_results.get('eval_loss'),\n",
    "                'model_saved': model_saved,\n",
    "                'save_path': save_path\n",
    "            })\n",
    "            pd.DataFrame(results).to_csv(results_path, index=False)\n",
    "            # trial 종료 후 checkpoint 자동 삭제 (save_total_limit 무력화 대비)\n",
    "            import shutil\n",
    "            output_dir = f'./global_results/trial_{trial+1}'\n",
    "            for subdir in os.listdir(output_dir):\n",
    "                if subdir.startswith(\"checkpoint\"):\n",
    "                    shutil.rmtree(os.path.join(output_dir, subdir), ignore_errors=True)\n",
    "\n",
    "\n",
    "            print(f\"✅ Trial {trial+1} | FullOrderAcc: {eval_results['full_order_accuracy']:.4f} | Loss: {eval_results['eval_loss']:.4f}\")\n",
    "\n",
    "        except Exception as e:\n",
    "            print(f\"⛔ Trial {trial+1} 중 오류 발생: {e}\")\n",
    "            break\n",
    "\n",
    "    print(\"\\n🏆 상위 Trial:\")\n",
    "    top_trials = pd.DataFrame(results).sort_values(by=\"full_order_accuracy\", ascending=False).head(1)\n",
    "    print(top_trials)\n",
    "    return top_trials\n"
   ]
  },
  {
   "cell_type": "code",
   "execution_count": 30,
   "metadata": {
    "execution": {
     "iopub.execute_input": "2025-06-01T06:34:21.010657Z",
     "iopub.status.busy": "2025-06-01T06:34:21.010157Z",
     "iopub.status.idle": "2025-06-01T07:48:58.152284Z",
     "shell.execute_reply": "2025-06-01T07:48:58.151572Z",
     "shell.execute_reply.started": "2025-06-01T06:34:21.010636Z"
    },
    "trusted": true
   },
   "outputs": [
    {
     "name": "stdout",
     "output_type": "stream",
     "text": [
      "\n",
      "🎯 Trial 3 시작\n"
     ]
    },
    {
     "name": "stderr",
     "output_type": "stream",
     "text": [
      "Some weights of RobertaModel were not initialized from the model checkpoint at klue/roberta-large and are newly initialized: ['pooler.dense.bias', 'pooler.dense.weight']\n",
      "You should probably TRAIN this model on a down-stream task to be able to use it for predictions and inference.\n",
      "/tmp/ipykernel_35/4226123833.py:51: FutureWarning: `tokenizer` is deprecated and will be removed in version 5.0.0 for `Trainer.__init__`. Use `processing_class` instead.\n",
      "  trainer = Trainer(\n"
     ]
    },
    {
     "data": {
      "text/html": [
       "\n",
       "    <div>\n",
       "      \n",
       "      <progress value='3312' max='3312' style='width:300px; height:20px; vertical-align: middle;'></progress>\n",
       "      [3312/3312 1:13:50, Epoch 9/9]\n",
       "    </div>\n",
       "    <table border=\"1\" class=\"dataframe\">\n",
       "  <thead>\n",
       " <tr style=\"text-align: left;\">\n",
       "      <th>Epoch</th>\n",
       "      <th>Training Loss</th>\n",
       "      <th>Validation Loss</th>\n",
       "      <th>Sentence Accuracy</th>\n",
       "      <th>Full Order Accuracy</th>\n",
       "    </tr>\n",
       "  </thead>\n",
       "  <tbody>\n",
       "    <tr>\n",
       "      <td>1</td>\n",
       "      <td>1.088700</td>\n",
       "      <td>0.689700</td>\n",
       "      <td>0.694765</td>\n",
       "      <td>0.278042</td>\n",
       "    </tr>\n",
       "    <tr>\n",
       "      <td>2</td>\n",
       "      <td>0.481900</td>\n",
       "      <td>0.391386</td>\n",
       "      <td>0.846023</td>\n",
       "      <td>0.687288</td>\n",
       "    </tr>\n",
       "    <tr>\n",
       "      <td>3</td>\n",
       "      <td>0.275100</td>\n",
       "      <td>0.334610</td>\n",
       "      <td>0.886642</td>\n",
       "      <td>0.770224</td>\n",
       "    </tr>\n",
       "    <tr>\n",
       "      <td>4</td>\n",
       "      <td>0.173100</td>\n",
       "      <td>0.329336</td>\n",
       "      <td>0.893440</td>\n",
       "      <td>0.785180</td>\n",
       "    </tr>\n",
       "    <tr>\n",
       "      <td>5</td>\n",
       "      <td>0.114300</td>\n",
       "      <td>0.328316</td>\n",
       "      <td>0.915024</td>\n",
       "      <td>0.828688</td>\n",
       "    </tr>\n",
       "    <tr>\n",
       "      <td>6</td>\n",
       "      <td>0.066400</td>\n",
       "      <td>0.407579</td>\n",
       "      <td>0.910775</td>\n",
       "      <td>0.824609</td>\n",
       "    </tr>\n",
       "    <tr>\n",
       "      <td>7</td>\n",
       "      <td>0.024200</td>\n",
       "      <td>0.458764</td>\n",
       "      <td>0.910435</td>\n",
       "      <td>0.823929</td>\n",
       "    </tr>\n",
       "    <tr>\n",
       "      <td>8</td>\n",
       "      <td>0.012400</td>\n",
       "      <td>0.464489</td>\n",
       "      <td>0.915364</td>\n",
       "      <td>0.832087</td>\n",
       "    </tr>\n",
       "    <tr>\n",
       "      <td>9</td>\n",
       "      <td>0.005800</td>\n",
       "      <td>0.473760</td>\n",
       "      <td>0.915704</td>\n",
       "      <td>0.832087</td>\n",
       "    </tr>\n",
       "  </tbody>\n",
       "</table><p>"
      ],
      "text/plain": [
       "<IPython.core.display.HTML object>"
      ]
     },
     "metadata": {},
     "output_type": "display_data"
    },
    {
     "name": "stdout",
     "output_type": "stream",
     "text": [
      "✅ compute_metrics 호출됨\n",
      "logits shape: (1471, 4, 4)\n",
      "labels shape: (1471, 4)\n",
      "🎯 sentence_acc: 0.6948, full_order_acc: 0.2780\n",
      "✅ compute_metrics 호출됨\n",
      "logits shape: (1471, 4, 4)\n",
      "labels shape: (1471, 4)\n",
      "🎯 sentence_acc: 0.8460, full_order_acc: 0.6873\n",
      "✅ compute_metrics 호출됨\n",
      "logits shape: (1471, 4, 4)\n",
      "labels shape: (1471, 4)\n",
      "🎯 sentence_acc: 0.8866, full_order_acc: 0.7702\n",
      "✅ compute_metrics 호출됨\n",
      "logits shape: (1471, 4, 4)\n",
      "labels shape: (1471, 4)\n",
      "🎯 sentence_acc: 0.8934, full_order_acc: 0.7852\n",
      "✅ compute_metrics 호출됨\n",
      "logits shape: (1471, 4, 4)\n",
      "labels shape: (1471, 4)\n",
      "🎯 sentence_acc: 0.9150, full_order_acc: 0.8287\n",
      "✅ compute_metrics 호출됨\n",
      "logits shape: (1471, 4, 4)\n",
      "labels shape: (1471, 4)\n",
      "🎯 sentence_acc: 0.9108, full_order_acc: 0.8246\n",
      "✅ compute_metrics 호출됨\n",
      "logits shape: (1471, 4, 4)\n",
      "labels shape: (1471, 4)\n",
      "🎯 sentence_acc: 0.9104, full_order_acc: 0.8239\n",
      "✅ compute_metrics 호출됨\n",
      "logits shape: (1471, 4, 4)\n",
      "labels shape: (1471, 4)\n",
      "🎯 sentence_acc: 0.9154, full_order_acc: 0.8321\n",
      "✅ compute_metrics 호출됨\n",
      "logits shape: (1471, 4, 4)\n",
      "labels shape: (1471, 4)\n",
      "🎯 sentence_acc: 0.9157, full_order_acc: 0.8321\n"
     ]
    },
    {
     "data": {
      "text/html": [
       "\n",
       "    <div>\n",
       "      \n",
       "      <progress value='23' max='23' style='width:300px; height:20px; vertical-align: middle;'></progress>\n",
       "      [23/23 00:34]\n",
       "    </div>\n",
       "    "
      ],
      "text/plain": [
       "<IPython.core.display.HTML object>"
      ]
     },
     "metadata": {},
     "output_type": "display_data"
    },
    {
     "name": "stdout",
     "output_type": "stream",
     "text": [
      "✅ compute_metrics 호출됨\n",
      "logits shape: (1471, 4, 4)\n",
      "labels shape: (1471, 4)\n",
      "🎯 sentence_acc: 0.9154, full_order_acc: 0.8321\n",
      "⛔ Trial 3 중 오류 발생: 'full_order_accuracy'\n",
      "\n",
      "🏆 상위 Trial:\n",
      "   trial  learning_rate  weight_decay  warmup_steps  epochs  \\\n",
      "0      1       0.000028      0.063598           220       9   \n",
      "\n",
      "   sentence_accuracy  full_order_accuracy  eval_loss  model_saved  \\\n",
      "0                NaN                  NaN   0.482162         True   \n",
      "\n",
      "                             save_path  \n",
      "0  ./global_results/trial_1/best_model  \n"
     ]
    },
    {
     "name": "stderr",
     "output_type": "stream",
     "text": [
      "/usr/local/lib/python3.11/dist-packages/pandas/io/formats/format.py:1458: RuntimeWarning: invalid value encountered in greater\n",
      "  has_large_values = (abs_vals > 1e6).any()\n",
      "/usr/local/lib/python3.11/dist-packages/pandas/io/formats/format.py:1459: RuntimeWarning: invalid value encountered in less\n",
      "  has_small_values = ((abs_vals < 10 ** (-self.digits)) & (abs_vals > 0)).any()\n",
      "/usr/local/lib/python3.11/dist-packages/pandas/io/formats/format.py:1459: RuntimeWarning: invalid value encountered in greater\n",
      "  has_small_values = ((abs_vals < 10 ** (-self.digits)) & (abs_vals > 0)).any()\n"
     ]
    }
   ],
   "source": [
    "top_trials = run_global_tuning(train_dataset, val_dataset, tokenizer, n_trials=3)"
   ]
  },
  {
   "cell_type": "code",
   "execution_count": 31,
   "metadata": {
    "execution": {
     "iopub.execute_input": "2025-06-01T07:53:55.827826Z",
     "iopub.status.busy": "2025-06-01T07:53:55.827246Z",
     "iopub.status.idle": "2025-06-01T07:53:57.325757Z",
     "shell.execute_reply": "2025-06-01T07:53:57.325214Z",
     "shell.execute_reply.started": "2025-06-01T07:53:55.827804Z"
    },
    "trusted": true
   },
   "outputs": [
    {
     "name": "stdout",
     "output_type": "stream",
     "text": [
      "\n",
      "🔁 Trial 1 평가 중...\n"
     ]
    },
    {
     "name": "stderr",
     "output_type": "stream",
     "text": [
      "Some weights of RobertaModel were not initialized from the model checkpoint at klue/roberta-large and are newly initialized: ['pooler.dense.bias', 'pooler.dense.weight']\n",
      "You should probably TRAIN this model on a down-stream task to be able to use it for predictions and inference.\n"
     ]
    },
    {
     "name": "stdout",
     "output_type": "stream",
     "text": [
      "❌ Trial 1 평가 실패: [Errno 2] No such file or directory: './global_results/trial_1/best_model/pytorch_model.bin'\n",
      "\n",
      "🔁 Trial 2 평가 중...\n"
     ]
    },
    {
     "name": "stderr",
     "output_type": "stream",
     "text": [
      "Some weights of RobertaModel were not initialized from the model checkpoint at klue/roberta-large and are newly initialized: ['pooler.dense.bias', 'pooler.dense.weight']\n",
      "You should probably TRAIN this model on a down-stream task to be able to use it for predictions and inference.\n"
     ]
    },
    {
     "name": "stdout",
     "output_type": "stream",
     "text": [
      "❌ Trial 2 평가 실패: [Errno 2] No such file or directory: './global_results/trial_2/best_model/pytorch_model.bin'\n",
      "\n",
      "🔁 Trial 3 평가 중...\n"
     ]
    },
    {
     "name": "stderr",
     "output_type": "stream",
     "text": [
      "Some weights of RobertaModel were not initialized from the model checkpoint at klue/roberta-large and are newly initialized: ['pooler.dense.bias', 'pooler.dense.weight']\n",
      "You should probably TRAIN this model on a down-stream task to be able to use it for predictions and inference.\n"
     ]
    },
    {
     "name": "stdout",
     "output_type": "stream",
     "text": [
      "❌ Trial 3 평가 실패: [Errno 2] No such file or directory: './global_results/trial_3/best_model/pytorch_model.bin'\n"
     ]
    }
   ],
   "source": [
    "import pandas as pd\n",
    "import torch\n",
    "from transformers import AutoTokenizer, TrainingArguments, Trainer\n",
    "\n",
    "df = pd.read_csv('./global_results/tuning_log.csv')\n",
    "\n",
    "for trial_num in [1, 2, 3]:\n",
    "    model_path = f\"./global_results/trial_{trial_num}/best_model\"\n",
    "    try:\n",
    "        print(f\"\\n🔁 Trial {trial_num} 평가 중...\")\n",
    "\n",
    "        model = GlobalOrderModel(\"klue/roberta-large\")\n",
    "        model.load_state_dict(torch.load(f\"{model_path}/pytorch_model.bin\"), strict=False)\n",
    "\n",
    "        tokenizer = AutoTokenizer.from_pretrained(model_path)\n",
    "        training_args = TrainingArguments(\n",
    "            output_dir=f\"./eval_retry/trial_{trial_num}\",  # 🔄 개별 폴더로 구분 추천\n",
    "            per_device_eval_batch_size=64,\n",
    "            report_to='none'  # optional: 로그 미기록 시\n",
    "        )\n",
    "\n",
    "        trainer = Trainer(\n",
    "            model=model,\n",
    "            args=training_args,\n",
    "            eval_dataset=val_dataset,\n",
    "            tokenizer=tokenizer,\n",
    "            compute_metrics=compute_metrics\n",
    "        )\n",
    "\n",
    "        results = trainer.evaluate()\n",
    "        print(f\"✅ Trial {trial_num} 결과: {results}\")\n",
    "\n",
    "        # Trial이 이미 tuning_log.csv에 있으면 update\n",
    "        if (df['trial'] == trial_num).any():\n",
    "            idx = df[df['trial'] == trial_num].index[0]\n",
    "            df.loc[idx, 'sentence_accuracy'] = results.get('sentence_accuracy')\n",
    "            df.loc[idx, 'full_order_accuracy'] = results.get('full_order_accuracy')\n",
    "            df.loc[idx, 'eval_loss'] = results.get('eval_loss')\n",
    "        else:\n",
    "            df = pd.concat([\n",
    "                df,\n",
    "                pd.DataFrame([{\n",
    "                    'trial': trial_num,\n",
    "                    'learning_rate': None,\n",
    "                    'weight_decay': None,\n",
    "                    'warmup_steps': None,\n",
    "                    'epochs': None,\n",
    "                    'sentence_accuracy': results.get('sentence_accuracy'),\n",
    "                    'full_order_accuracy': results.get('full_order_accuracy'),\n",
    "                    'eval_loss': results.get('eval_loss'),\n",
    "                    'model_saved': True,\n",
    "                    'save_path': model_path\n",
    "                }])\n",
    "            ], ignore_index=True)\n",
    "\n",
    "    except Exception as e:\n",
    "        print(f\"❌ Trial {trial_num} 평가 실패: {e}\")\n",
    "\n",
    "df.to_csv('./global_results/tuning_log.csv', index=False)\n"
   ]
  },
  {
   "cell_type": "code",
   "execution_count": 38,
   "metadata": {
    "execution": {
     "iopub.execute_input": "2025-06-01T07:58:04.703622Z",
     "iopub.status.busy": "2025-06-01T07:58:04.703362Z",
     "iopub.status.idle": "2025-06-01T07:58:04.708442Z",
     "shell.execute_reply": "2025-06-01T07:58:04.707904Z",
     "shell.execute_reply.started": "2025-06-01T07:58:04.703604Z"
    },
    "trusted": true
   },
   "outputs": [
    {
     "data": {
      "text/plain": [
       "['training_args.bin',\n",
       " 'special_tokens_map.json',\n",
       " 'model.safetensors',\n",
       " 'tokenizer_config.json',\n",
       " 'tokenizer.json',\n",
       " 'vocab.txt']"
      ]
     },
     "execution_count": 38,
     "metadata": {},
     "output_type": "execute_result"
    }
   ],
   "source": [
    "os.listdir(\"./global_results/trial_2/best_model\")\n"
   ]
  },
  {
   "cell_type": "code",
   "execution_count": 39,
   "metadata": {
    "execution": {
     "iopub.execute_input": "2025-06-01T08:01:38.654688Z",
     "iopub.status.busy": "2025-06-01T08:01:38.654131Z",
     "iopub.status.idle": "2025-06-01T08:01:49.386969Z",
     "shell.execute_reply": "2025-06-01T08:01:49.386247Z",
     "shell.execute_reply.started": "2025-06-01T08:01:38.654666Z"
    },
    "id": "KakFqVkwqvyn",
    "trusted": true
   },
   "outputs": [
    {
     "name": "stdout",
     "output_type": "stream",
     "text": [
      "🏆 새로운 방식 기준 Best Model 경로: ./global_results/trial_1/best_model\n"
     ]
    },
    {
     "name": "stderr",
     "output_type": "stream",
     "text": [
      "Some weights of RobertaModel were not initialized from the model checkpoint at klue/roberta-large and are newly initialized: ['pooler.dense.bias', 'pooler.dense.weight']\n",
      "You should probably TRAIN this model on a down-stream task to be able to use it for predictions and inference.\n"
     ]
    },
    {
     "data": {
      "text/plain": [
       "GlobalOrderModel(\n",
       "  (bert): RobertaModel(\n",
       "    (embeddings): RobertaEmbeddings(\n",
       "      (word_embeddings): Embedding(32000, 1024, padding_idx=1)\n",
       "      (position_embeddings): Embedding(514, 1024, padding_idx=1)\n",
       "      (token_type_embeddings): Embedding(1, 1024)\n",
       "      (LayerNorm): LayerNorm((1024,), eps=1e-05, elementwise_affine=True)\n",
       "      (dropout): Dropout(p=0.1, inplace=False)\n",
       "    )\n",
       "    (encoder): RobertaEncoder(\n",
       "      (layer): ModuleList(\n",
       "        (0-23): 24 x RobertaLayer(\n",
       "          (attention): RobertaAttention(\n",
       "            (self): RobertaSdpaSelfAttention(\n",
       "              (query): Linear(in_features=1024, out_features=1024, bias=True)\n",
       "              (key): Linear(in_features=1024, out_features=1024, bias=True)\n",
       "              (value): Linear(in_features=1024, out_features=1024, bias=True)\n",
       "              (dropout): Dropout(p=0.1, inplace=False)\n",
       "            )\n",
       "            (output): RobertaSelfOutput(\n",
       "              (dense): Linear(in_features=1024, out_features=1024, bias=True)\n",
       "              (LayerNorm): LayerNorm((1024,), eps=1e-05, elementwise_affine=True)\n",
       "              (dropout): Dropout(p=0.1, inplace=False)\n",
       "            )\n",
       "          )\n",
       "          (intermediate): RobertaIntermediate(\n",
       "            (dense): Linear(in_features=1024, out_features=4096, bias=True)\n",
       "            (intermediate_act_fn): GELUActivation()\n",
       "          )\n",
       "          (output): RobertaOutput(\n",
       "            (dense): Linear(in_features=4096, out_features=1024, bias=True)\n",
       "            (LayerNorm): LayerNorm((1024,), eps=1e-05, elementwise_affine=True)\n",
       "            (dropout): Dropout(p=0.1, inplace=False)\n",
       "          )\n",
       "        )\n",
       "      )\n",
       "    )\n",
       "    (pooler): RobertaPooler(\n",
       "      (dense): Linear(in_features=1024, out_features=1024, bias=True)\n",
       "      (activation): Tanh()\n",
       "    )\n",
       "  )\n",
       "  (classifier): Sequential(\n",
       "    (0): Linear(in_features=1024, out_features=1024, bias=True)\n",
       "    (1): ReLU()\n",
       "    (2): Dropout(p=0.3, inplace=False)\n",
       "    (3): Linear(in_features=1024, out_features=16, bias=True)\n",
       "  )\n",
       ")"
      ]
     },
     "execution_count": 39,
     "metadata": {},
     "output_type": "execute_result"
    }
   ],
   "source": [
    "# ✅ tuning 결과에서 custom_score 기반으로 새로 평가\n",
    "# ✅ 모델 저장된 trial만 남김\n",
    "df = df[df[\"model_saved\"] == True]\n",
    "\n",
    "# ✅ 너무 손실이 큰 trial은 제거 (불안정하거나 과적합 위험)\n",
    "df = df.query(\"eval_loss < 1.0\") \n",
    "\n",
    "# ✅ custom_score 계산: 정확도는 높을수록, 손실은 낮을수록 좋음\n",
    "df[\"custom_score\"] = df[\"full_order_accuracy\"] - 0.5 * df[\"eval_loss\"]\n",
    "\n",
    "# ✅ 기존 full accuracy 기준은 유지\n",
    "top_trial_custom = df.sort_values(\"custom_score\", ascending=False).iloc[0]\n",
    "\n",
    "# ✅ best model 경로 정의 (새 방식)\n",
    "best_model_path = top_trial_custom[\"save_path\"]\n",
    "print(f\"🏆 새로운 방식 기준 Best Model 경로: {best_model_path}\")\n",
    "\n",
    "from safetensors.torch import load_file\n",
    "import torch\n",
    "\n",
    "device = torch.device(\"cuda\" if torch.cuda.is_available() else \"cpu\")\n",
    "\n",
    "# ✅ GlobalOrderModel은 이미 정의돼 있다고 가정\n",
    "model = GlobalOrderModel(\"klue/roberta-large\")\n",
    "\n",
    "# ✅ safetensors 파일로부터 로드\n",
    "state_dict = load_file(f\"{best_model_path}/model.safetensors\")\n",
    "model.load_state_dict(state_dict)\n",
    "model.to(device)\n",
    "model.eval()\n"
   ]
  },
  {
   "cell_type": "code",
   "execution_count": 40,
   "metadata": {
    "execution": {
     "iopub.execute_input": "2025-06-01T08:02:23.003290Z",
     "iopub.status.busy": "2025-06-01T08:02:23.003011Z",
     "iopub.status.idle": "2025-06-01T08:02:23.982289Z",
     "shell.execute_reply": "2025-06-01T08:02:23.981645Z",
     "shell.execute_reply.started": "2025-06-01T08:02:23.003270Z"
    },
    "trusted": true
   },
   "outputs": [
    {
     "name": "stdout",
     "output_type": "stream",
     "text": [
      "📦 최종 best model 저장됨: ./global_results/best_model_custom\n"
     ]
    }
   ],
   "source": [
    "import shutil\n",
    "\n",
    "final_model_dir = \"./global_results/best_model_custom\"\n",
    "shutil.copytree(best_model_path, final_model_dir, dirs_exist_ok=True)\n",
    "print(f\"📦 최종 best model 저장됨: {final_model_dir}\")\n"
   ]
  },
  {
   "cell_type": "markdown",
   "metadata": {
    "id": "Gr3bPsfdqvyn"
   },
   "source": [
    "# 추론"
   ]
  },
  {
   "cell_type": "code",
   "execution_count": 44,
   "metadata": {
    "execution": {
     "iopub.execute_input": "2025-06-01T08:05:53.467139Z",
     "iopub.status.busy": "2025-06-01T08:05:53.466448Z",
     "iopub.status.idle": "2025-06-01T08:05:53.473162Z",
     "shell.execute_reply": "2025-06-01T08:05:53.472399Z",
     "shell.execute_reply.started": "2025-06-01T08:05:53.467114Z"
    },
    "trusted": true
   },
   "outputs": [],
   "source": [
    "# ✅ 모델 클래스 직접 정의 (model.py 없이도 OK)\n",
    "import torch\n",
    "import torch.nn as nn\n",
    "from transformers import AutoModel\n",
    "\n",
    "class GlobalOrderModel(nn.Module):\n",
    "    def __init__(self, model_name='klue/roberta-large'):\n",
    "        super().__init__()\n",
    "        self.bert = AutoModel.from_pretrained(model_name)\n",
    "        hidden_size = self.bert.config.hidden_size\n",
    "        self.classifier = nn.Sequential(\n",
    "            nn.Linear(hidden_size, 1024),\n",
    "            nn.ReLU(),\n",
    "            nn.Dropout(0.3),\n",
    "            nn.Linear(1024, 4 * 4)\n",
    "        )\n",
    "\n",
    "    def forward(self, input_ids, attention_mask, labels=None):\n",
    "        outputs = self.bert(input_ids=input_ids, attention_mask=attention_mask)\n",
    "        pooled = outputs.last_hidden_state[:, 0]\n",
    "        logits = self.classifier(pooled)\n",
    "        if labels is not None:\n",
    "            loss_fn = nn.CrossEntropyLoss()\n",
    "            loss = loss_fn(logits.view(-1, 4), labels.view(-1))\n",
    "            return {\"loss\": loss, \"logits\": logits.view(-1, 4, 4)}\n",
    "        else:\n",
    "            return {\"logits\": logits.view(-1, 4, 4)}\n"
   ]
  },
  {
   "cell_type": "code",
   "execution_count": 46,
   "metadata": {
    "execution": {
     "iopub.execute_input": "2025-06-01T08:06:48.000123Z",
     "iopub.status.busy": "2025-06-01T08:06:47.999560Z",
     "iopub.status.idle": "2025-06-01T08:06:49.700655Z",
     "shell.execute_reply": "2025-06-01T08:06:49.700032Z",
     "shell.execute_reply.started": "2025-06-01T08:06:48.000100Z"
    },
    "id": "Ts-9bs7Hqvyn",
    "trusted": true
   },
   "outputs": [
    {
     "name": "stderr",
     "output_type": "stream",
     "text": [
      "Some weights of RobertaModel were not initialized from the model checkpoint at klue/roberta-large and are newly initialized: ['pooler.dense.bias', 'pooler.dense.weight']\n",
      "You should probably TRAIN this model on a down-stream task to be able to use it for predictions and inference.\n"
     ]
    },
    {
     "data": {
      "text/plain": [
       "GlobalOrderModel(\n",
       "  (bert): RobertaModel(\n",
       "    (embeddings): RobertaEmbeddings(\n",
       "      (word_embeddings): Embedding(32000, 1024, padding_idx=1)\n",
       "      (position_embeddings): Embedding(514, 1024, padding_idx=1)\n",
       "      (token_type_embeddings): Embedding(1, 1024)\n",
       "      (LayerNorm): LayerNorm((1024,), eps=1e-05, elementwise_affine=True)\n",
       "      (dropout): Dropout(p=0.1, inplace=False)\n",
       "    )\n",
       "    (encoder): RobertaEncoder(\n",
       "      (layer): ModuleList(\n",
       "        (0-23): 24 x RobertaLayer(\n",
       "          (attention): RobertaAttention(\n",
       "            (self): RobertaSdpaSelfAttention(\n",
       "              (query): Linear(in_features=1024, out_features=1024, bias=True)\n",
       "              (key): Linear(in_features=1024, out_features=1024, bias=True)\n",
       "              (value): Linear(in_features=1024, out_features=1024, bias=True)\n",
       "              (dropout): Dropout(p=0.1, inplace=False)\n",
       "            )\n",
       "            (output): RobertaSelfOutput(\n",
       "              (dense): Linear(in_features=1024, out_features=1024, bias=True)\n",
       "              (LayerNorm): LayerNorm((1024,), eps=1e-05, elementwise_affine=True)\n",
       "              (dropout): Dropout(p=0.1, inplace=False)\n",
       "            )\n",
       "          )\n",
       "          (intermediate): RobertaIntermediate(\n",
       "            (dense): Linear(in_features=1024, out_features=4096, bias=True)\n",
       "            (intermediate_act_fn): GELUActivation()\n",
       "          )\n",
       "          (output): RobertaOutput(\n",
       "            (dense): Linear(in_features=4096, out_features=1024, bias=True)\n",
       "            (LayerNorm): LayerNorm((1024,), eps=1e-05, elementwise_affine=True)\n",
       "            (dropout): Dropout(p=0.1, inplace=False)\n",
       "          )\n",
       "        )\n",
       "      )\n",
       "    )\n",
       "    (pooler): RobertaPooler(\n",
       "      (dense): Linear(in_features=1024, out_features=1024, bias=True)\n",
       "      (activation): Tanh()\n",
       "    )\n",
       "  )\n",
       "  (classifier): Sequential(\n",
       "    (0): Linear(in_features=1024, out_features=1024, bias=True)\n",
       "    (1): ReLU()\n",
       "    (2): Dropout(p=0.3, inplace=False)\n",
       "    (3): Linear(in_features=1024, out_features=16, bias=True)\n",
       "  )\n",
       ")"
      ]
     },
     "execution_count": 46,
     "metadata": {},
     "output_type": "execute_result"
    }
   ],
   "source": [
    "from safetensors.torch import load_file\n",
    "import torch\n",
    "\n",
    "device = torch.device(\"cuda\" if torch.cuda.is_available() else \"cpu\")\n",
    "\n",
    "best_model_path = \"./global_results/best_model_custom\"  # ← 경로 꼭 이걸로 맞춰주세요\n",
    "\n",
    "model = GlobalOrderModel(\"klue/roberta-large\")\n",
    "state_dict = load_file(f\"{best_model_path}/model.safetensors\")\n",
    "model.load_state_dict(state_dict)\n",
    "model.to(device)\n",
    "model.eval()\n"
   ]
  },
  {
   "cell_type": "code",
   "execution_count": 48,
   "metadata": {
    "execution": {
     "iopub.execute_input": "2025-06-01T08:08:33.785750Z",
     "iopub.status.busy": "2025-06-01T08:08:33.785089Z",
     "iopub.status.idle": "2025-06-01T08:08:33.791747Z",
     "shell.execute_reply": "2025-06-01T08:08:33.790896Z",
     "shell.execute_reply.started": "2025-06-01T08:08:33.785726Z"
    },
    "trusted": true
   },
   "outputs": [],
   "source": [
    "# ✅ 직접 정의한 Dataset 클래스\n",
    "from torch.utils.data import Dataset\n",
    "import torch\n",
    "\n",
    "class GlobalOrderDataset(Dataset):\n",
    "    def __init__(self, df, tokenizer, labels=None, max_length=256):\n",
    "        self.sentences = df[[f'sentence_{i}' for i in range(4)]].values\n",
    "        self.tokenizer = tokenizer\n",
    "        self.labels = labels\n",
    "        self.max_length = max_length\n",
    "\n",
    "    def __len__(self):\n",
    "        return len(self.sentences)\n",
    "\n",
    "    def __getitem__(self, idx):\n",
    "        sents = self.sentences[idx]\n",
    "        text = '[CLS] ' + ' [SEP] '.join(sents) + ' [SEP]'\n",
    "        encoding = self.tokenizer(\n",
    "            text,\n",
    "            padding='max_length',\n",
    "            truncation=True,\n",
    "            max_length=self.max_length,\n",
    "            return_tensors='pt'\n",
    "        )\n",
    "        item = {k: v.squeeze(0) for k, v in encoding.items()}\n",
    "        if self.labels is not None:\n",
    "            item['labels'] = torch.tensor(self.labels[idx], dtype=torch.long)\n",
    "        return item\n"
   ]
  },
  {
   "cell_type": "code",
   "execution_count": 55,
   "metadata": {
    "execution": {
     "iopub.execute_input": "2025-06-01T08:17:52.071041Z",
     "iopub.status.busy": "2025-06-01T08:17:52.070370Z",
     "iopub.status.idle": "2025-06-01T08:17:52.078354Z",
     "shell.execute_reply": "2025-06-01T08:17:52.077612Z",
     "shell.execute_reply.started": "2025-06-01T08:17:52.071008Z"
    },
    "id": "cnMgu5Ktqvyn",
    "trusted": true
   },
   "outputs": [],
   "source": [
    "# inference.py\n",
    "import numpy as np\n",
    "import pandas as pd\n",
    "from torch.utils.data import DataLoader\n",
    "def predict(model, test_df, tokenizer, device, batch_size=32):\n",
    "    test_dataset = GlobalOrderDataset(test_df, tokenizer, labels=None)\n",
    "    test_loader = DataLoader(test_dataset, batch_size=batch_size, shuffle=False)\n",
    "    model.eval()\n",
    "    all_preds = []\n",
    "    with torch.no_grad():\n",
    "        for batch in test_loader:\n",
    "            input_ids = batch['input_ids'].to(device)\n",
    "            attention_mask = batch['attention_mask'].to(device)\n",
    "            logits = model(input_ids, attention_mask)['logits']  # ✅ dict에서 'logits' 꺼냄\n",
    "            preds = logits.argmax(-1).cpu().numpy()\n",
    "            all_preds.append(preds)\n",
    "    all_preds = np.concatenate(all_preds, axis=0)\n",
    "    # [문장0은 몇 번째, ...] → [answer_0, answer_1, ...]로 역변환\n",
    "    answers = []\n",
    "    for row in all_preds:\n",
    "        answer = [0]*4\n",
    "        for sent_idx, pos in enumerate(row):\n",
    "            answer[pos] = sent_idx\n",
    "        answers.append(answer)\n",
    "    return np.array(answers)\n",
    "\n",
    "def save_submission(test_df, answers, submission_path, output_path):\n",
    "    sub = pd.read_csv(submission_path)\n",
    "    for i in range(4):\n",
    "        sub[f'answer_{i}'] = answers[:, i]\n",
    "    sub.to_csv(output_path, index=False)\n"
   ]
  },
  {
   "cell_type": "markdown",
   "metadata": {
    "id": "CZbjmSB1qvyn"
   },
   "source": [
    "# 예측 및 저장"
   ]
  },
  {
   "cell_type": "code",
   "execution_count": 56,
   "metadata": {
    "execution": {
     "iopub.execute_input": "2025-06-01T08:17:54.491310Z",
     "iopub.status.busy": "2025-06-01T08:17:54.490618Z",
     "iopub.status.idle": "2025-06-01T08:18:37.884347Z",
     "shell.execute_reply": "2025-06-01T08:18:37.883567Z",
     "shell.execute_reply.started": "2025-06-01T08:17:54.491285Z"
    },
    "id": "ETwtfIxcqvyo",
    "trusted": true
   },
   "outputs": [
    {
     "name": "stdout",
     "output_type": "stream",
     "text": [
      "✅ submission.csv 저장 완료\n"
     ]
    }
   ],
   "source": [
    "\n",
    "# 예측 수행\n",
    "answers = predict(\n",
    "    model=model,\n",
    "    test_df=test_df,\n",
    "    tokenizer=tokenizer,\n",
    "    device=device,\n",
    "    batch_size=32\n",
    ")\n",
    "\n",
    "# 제출 파일 저장\n",
    "save_submission(\n",
    "    test_df=test_df,\n",
    "    answers=answers,\n",
    "    submission_path=\"/kaggle/input/global/sample_submission.csv\",\n",
    "    output_path=\"/kaggle/working/submission.csv\"\n",
    ")\n",
    "\n",
    "print(\"✅ submission.csv 저장 완료\")"
   ]
  },
  {
   "cell_type": "markdown",
   "metadata": {},
   "source": [
    "1차 결과: 0.82134\n",
    "# 2차 코드 점검"
   ]
  },
  {
   "cell_type": "code",
   "execution_count": 70,
   "metadata": {
    "execution": {
     "iopub.execute_input": "2025-06-01T08:40:55.724142Z",
     "iopub.status.busy": "2025-06-01T08:40:55.723902Z",
     "iopub.status.idle": "2025-06-01T08:41:31.903687Z",
     "shell.execute_reply": "2025-06-01T08:41:31.903137Z",
     "shell.execute_reply.started": "2025-06-01T08:40:55.724125Z"
    },
    "trusted": true
   },
   "outputs": [],
   "source": [
    "# ① validation 예측\n",
    "from torch.utils.data import DataLoader\n",
    "\n",
    "val_loader = DataLoader(val_dataset, batch_size=32, shuffle=False)\n",
    "\n",
    "val_predictions = []\n",
    "model.eval()\n",
    "with torch.no_grad():\n",
    "    for batch in val_loader:\n",
    "        input_ids = batch['input_ids'].to(device)\n",
    "        attention_mask = batch['attention_mask'].to(device)\n",
    "\n",
    "        # 🔥 logits만 가져오기\n",
    "        logits = model(input_ids=input_ids, attention_mask=attention_mask)['logits']\n",
    "\n",
    "        preds = logits.argmax(-1).cpu().numpy()\n",
    "        val_predictions.append(preds)\n",
    "\n",
    "val_predictions = np.concatenate(val_predictions, axis=0)\n"
   ]
  },
  {
   "cell_type": "code",
   "execution_count": 71,
   "metadata": {
    "execution": {
     "iopub.execute_input": "2025-06-01T08:41:34.397020Z",
     "iopub.status.busy": "2025-06-01T08:41:34.396704Z",
     "iopub.status.idle": "2025-06-01T08:41:34.410165Z",
     "shell.execute_reply": "2025-06-01T08:41:34.409367Z",
     "shell.execute_reply.started": "2025-06-01T08:41:34.396999Z"
    },
    "trusted": true
   },
   "outputs": [],
   "source": [
    "#② 예측 결과 → 문장 순서로 변환\n",
    "# 🔄 각 샘플에 대해 [문장i는 몇 번째] → [순서대로 문장 인덱스]\n",
    "def reverse_labels(preds):\n",
    "    return [list(np.argsort(row)) for row in preds]\n",
    "\n",
    "val_orders = reverse_labels(val_predictions)  # shape: (N, 4), 각 샘플의 문장 순서 예측\n"
   ]
  },
  {
   "cell_type": "code",
   "execution_count": 66,
   "metadata": {
    "execution": {
     "iopub.execute_input": "2025-06-01T08:37:57.108941Z",
     "iopub.status.busy": "2025-06-01T08:37:57.108622Z",
     "iopub.status.idle": "2025-06-01T08:37:57.115686Z",
     "shell.execute_reply": "2025-06-01T08:37:57.114921Z",
     "shell.execute_reply.started": "2025-06-01T08:37:57.108914Z"
    },
    "trusted": true
   },
   "outputs": [],
   "source": [
    "#③ 정답 비교 + 분석 로그 저장\n",
    "def analyze_predictions(df, preds, verbose=True):\n",
    "    wrong_logs = []\n",
    "    total = len(df)\n",
    "    correct = 0\n",
    "\n",
    "    for i in range(total):\n",
    "        gt = [df.iloc[i][f\"answer_{j}\"] for j in range(4)]\n",
    "        pred = preds[i]\n",
    "\n",
    "        if list(pred) == gt:\n",
    "            correct += 1\n",
    "        else:\n",
    "            wrong_logs.append({\n",
    "                \"ID\": df.iloc[i][\"ID\"] if \"ID\" in df.columns else i,\n",
    "                \"GT\": gt,\n",
    "                \"Pred\": list(pred),\n",
    "                \"Diff_Count\": sum([gt[j] != pred[j] for j in range(4)]),\n",
    "                \"Mismatch_Pos\": [j for j in range(4) if gt[j] != pred[j]],\n",
    "                \"Sentences\": [df.iloc[i][f\"sentence_{j}\"] for j in range(4)]\n",
    "            })\n",
    "\n",
    "    acc = correct / total\n",
    "    df_wrong = pd.DataFrame(wrong_logs)\n",
    "\n",
    "    if verbose:\n",
    "        print(f\"✅ 전체 {total}개 중 {correct}개 정답 (정확도: {acc:.5f})\")\n",
    "        print(f\"❌ 틀린 샘플 {len(df_wrong)}개 저장됨\")\n",
    "    return df_wrong\n",
    "\n",
    "# 분석 및 저장\n",
    "df_wrong = analyze_predictions(val_df, val_orders)\n",
    "df_wrong.to_csv(\"val_wrong_samples.csv\", index=False, encoding=\"utf-8-sig\")\n"
   ]
  },
  {
   "cell_type": "code",
   "execution_count": 72,
   "metadata": {
    "execution": {
     "iopub.execute_input": "2025-06-01T08:42:31.941673Z",
     "iopub.status.busy": "2025-06-01T08:42:31.941162Z",
     "iopub.status.idle": "2025-06-01T08:42:33.099431Z",
     "shell.execute_reply": "2025-06-01T08:42:33.098734Z",
     "shell.execute_reply.started": "2025-06-01T08:42:31.941649Z"
    },
    "trusted": true
   },
   "outputs": [
    {
     "name": "stderr",
     "output_type": "stream",
     "text": [
      "/usr/local/lib/python3.11/dist-packages/IPython/core/pylabtools.py:151: UserWarning: Glyph 51221 (\\N{HANGUL SYLLABLE JEONG}) missing from current font.\n",
      "  fig.canvas.print_figure(bytes_io, **kw)\n",
      "/usr/local/lib/python3.11/dist-packages/IPython/core/pylabtools.py:151: UserWarning: Glyph 45813 (\\N{HANGUL SYLLABLE DAB}) missing from current font.\n",
      "  fig.canvas.print_figure(bytes_io, **kw)\n",
      "/usr/local/lib/python3.11/dist-packages/IPython/core/pylabtools.py:151: UserWarning: Glyph 50948 (\\N{HANGUL SYLLABLE WI}) missing from current font.\n",
      "  fig.canvas.print_figure(bytes_io, **kw)\n",
      "/usr/local/lib/python3.11/dist-packages/IPython/core/pylabtools.py:151: UserWarning: Glyph 52824 (\\N{HANGUL SYLLABLE CI}) missing from current font.\n",
      "  fig.canvas.print_figure(bytes_io, **kw)\n",
      "/usr/local/lib/python3.11/dist-packages/IPython/core/pylabtools.py:151: UserWarning: Glyph 47928 (\\N{HANGUL SYLLABLE MUN}) missing from current font.\n",
      "  fig.canvas.print_figure(bytes_io, **kw)\n",
      "/usr/local/lib/python3.11/dist-packages/IPython/core/pylabtools.py:151: UserWarning: Glyph 51109 (\\N{HANGUL SYLLABLE JANG}) missing from current font.\n",
      "  fig.canvas.print_figure(bytes_io, **kw)\n",
      "/usr/local/lib/python3.11/dist-packages/IPython/core/pylabtools.py:151: UserWarning: Glyph 54844 (\\N{HANGUL SYLLABLE HON}) missing from current font.\n",
      "  fig.canvas.print_figure(bytes_io, **kw)\n",
      "/usr/local/lib/python3.11/dist-packages/IPython/core/pylabtools.py:151: UserWarning: Glyph 46041 (\\N{HANGUL SYLLABLE DONG}) missing from current font.\n",
      "  fig.canvas.print_figure(bytes_io, **kw)\n",
      "/usr/local/lib/python3.11/dist-packages/IPython/core/pylabtools.py:151: UserWarning: Glyph 54665 (\\N{HANGUL SYLLABLE HAENG}) missing from current font.\n",
      "  fig.canvas.print_figure(bytes_io, **kw)\n",
      "/usr/local/lib/python3.11/dist-packages/IPython/core/pylabtools.py:151: UserWarning: Glyph 47148 (\\N{HANGUL SYLLABLE RYEOL}) missing from current font.\n",
      "  fig.canvas.print_figure(bytes_io, **kw)\n",
      "/usr/local/lib/python3.11/dist-packages/IPython/core/pylabtools.py:151: UserWarning: Glyph 50696 (\\N{HANGUL SYLLABLE YE}) missing from current font.\n",
      "  fig.canvas.print_figure(bytes_io, **kw)\n",
      "/usr/local/lib/python3.11/dist-packages/IPython/core/pylabtools.py:151: UserWarning: Glyph 52769 (\\N{HANGUL SYLLABLE CEUG}) missing from current font.\n",
      "  fig.canvas.print_figure(bytes_io, **kw)\n"
     ]
    },
    {
     "data": {
      "image/png": "[encoded data removed]",
      "text/plain": [
       "<Figure size 600x500 with 2 Axes>"
      ]
     },
     "metadata": {},
     "output_type": "display_data"
    }
   ],
   "source": [
    "#④ 혼동 행렬 (Confusion Matrix) 시각화\n",
    "import matplotlib.pyplot as plt\n",
    "import seaborn as sns\n",
    "from sklearn.metrics import confusion_matrix\n",
    "\n",
    "gt_list = [[val_df.iloc[i][f\"answer_{j}\"] for j in range(4)] for i in range(len(val_df))]\n",
    "pred_list = val_orders\n",
    "\n",
    "gt_flat = np.array(gt_list).flatten()\n",
    "pred_flat = np.array(pred_list).flatten()\n",
    "\n",
    "cm = confusion_matrix(gt_flat, pred_flat, labels=[0,1,2,3])\n",
    "\n",
    "plt.figure(figsize=(6,5))\n",
    "sns.heatmap(cm, annot=True, fmt=\"d\", cmap=\"Blues\", xticklabels=[0,1,2,3], yticklabels=[0,1,2,3])\n",
    "plt.xlabel(\"예측 위치\")\n",
    "plt.ylabel(\"정답 위치\")\n",
    "plt.title(\"문장 위치 혼동 행렬\")\n",
    "plt.show()\n"
   ]
  },
  {
   "cell_type": "markdown",
   "metadata": {},
   "source": [
    "## 혼동행렬 분석 결과\n",
    "- ✅ 결과 해석 (요약)\n",
    "정답 → 예측\t가장 많이 헷갈린 조합\n",
    "0 → 1\t53건 → 문장 0을 1번 위치로 착각\n",
    "1 → 3\t46건\n",
    "2 → 3\t50건\n",
    "3 → 2\t51건\n",
    "\n",
    "  🔍 구체적 해석\n",
    "대각선 값이 높을수록 (1350 이상) → 정확히 예측한 경우.\n",
    "\n",
    "대각선 바깥 값은 오답인데, 특히 다음 케이스가 문제:\n",
    "\n",
    "문장 2와 문장 3은 서로 자주 헷갈림 (2→3: 50건, 3→2: 51건)\n",
    "\n",
    "문장 0은 거의 안 헷갈리는데도 0→1: 53건 존재함\n",
    "\n",
    "후반 문장(2, 3) 사이의 연결성이 약하거나, 모델이 전개 흐름을 파악하지 못하고 있음\n",
    "\n",
    "문장 0 → 1 착각은 시작 문장 판단 근거 부족을 의미\n",
    "\n",
    "ex. [SEP]으로만 문장 구분했을 때, 첫 문장만의 특성 학습이 어렵다면 생김\n",
    "\n",
    "\n",
    "### 개선 아이디어\n",
    "| 문제           | 해결 방안                                                            |\n",
    "| ------------ | ---------------------------------------------------------------- |\n",
    "| 문장 0/1 구분 애매 | 문장 시작을 명확히 학습시키기 위한 **문장 위치 임베딩 추가**                             |\n",
    "| 문장 2/3 혼동    | Pairwise loss 도입 or 후반 문장 강조 학습 (e.g. position-aware classifier) |\n",
    "| 전체 미세 성능 향상  | 앙상블 (Global + Pairwise), 또는 warmup 증가, 학습 에폭 증가                  |\n",
    "\n",
    "*위치 사용 모델*\n",
    "01, 12\t기존 Global 예측 유지\n",
    "2~3\tpairwise 모델로 sent_2 vs sent_3 우선순위 재결정\n"
   ]
  },
  {
   "cell_type": "markdown",
   "metadata": {},
   "source": []
  },
  {
   "cell_type": "code",
   "execution_count": null,
   "metadata": {
    "trusted": true
   },
   "outputs": [],
   "source": []
  }
 ],
 "metadata": {
  "accelerator": "GPU",
  "colab": {
   "gpuType": "T4",
   "provenance": [],
   "toc_visible": true
  },
  "kaggle": {
   "accelerator": "gpu",
   "dataSources": [
    {
     "datasetId": 7558757,
     "sourceId": 12014679,
     "sourceType": "datasetVersion"
    }
   ],
   "dockerImageVersionId": 31040,
   "isGpuEnabled": true,
   "isInternetEnabled": true,
   "language": "python",
   "sourceType": "notebook"
  },
  "kernelspec": {
   "display_name": "Python 3",
   "language": "python",
   "name": "python3"
  },
  "language_info": {
   "codemirror_mode": {
    "name": "ipython",
    "version": 3
   },
   "file_extension": ".py",
   "mimetype": "text/x-python",
   "name": "python",
   "nbconvert_exporter": "python",
   "pygments_lexer": "ipython3",
   "version": "3.11.11"
  },
  "widgets": {
   "application/vnd.jupyter.widget-state+json": {
    "00ae3c0661f74c6ab1949a18416a06c8": {
     "model_module": "@jupyter-widgets/controls",
     "model_module_version": "1.5.0",
     "model_name": "HBoxModel",
     "state": {
      "_dom_classes": [],
      "_model_module": "@jupyter-widgets/controls",
      "_model_module_version": "1.5.0",
      "_model_name": "HBoxModel",
      "_view_count": null,
      "_view_module": "@jupyter-widgets/controls",
      "_view_module_version": "1.5.0",
      "_view_name": "HBoxView",
      "box_style": "",
      "children": [
       "IPY_MODEL_ff26057bdc8e463faac926ed323d502a",
       "IPY_MODEL_884aae93da164aa9967e6466bf20e2dc",
       "IPY_MODEL_7a8b0d7a3bca47259ce88dde7779ff92"
      ],
      "layout": "IPY_MODEL_db034e45b6f441069a3ccb2fddaa03ab"
     }
    },
    "0162b1b778fa4d1c8b91fb40f87dcb29": {
     "model_module": "@jupyter-widgets/base",
     "model_module_version": "1.2.0",
     "model_name": "LayoutModel",
     "state": {
      "_model_module": "@jupyter-widgets/base",
      "_model_module_version": "1.2.0",
      "_model_name": "LayoutModel",
      "_view_count": null,
      "_view_module": "@jupyter-widgets/base",
      "_view_module_version": "1.2.0",
      "_view_name": "LayoutView",
      "align_content": null,
      "align_items": null,
      "align_self": null,
      "border": null,
      "bottom": null,
      "display": null,
      "flex": null,
      "flex_flow": null,
      "grid_area": null,
      "grid_auto_columns": null,
      "grid_auto_flow": null,
      "grid_auto_rows": null,
      "grid_column": null,
      "grid_gap": null,
      "grid_row": null,
      "grid_template_areas": null,
      "grid_template_columns": null,
      "grid_template_rows": null,
      "height": null,
      "justify_content": null,
      "justify_items": null,
      "left": null,
      "margin": null,
      "max_height": null,
      "max_width": null,
      "min_height": null,
      "min_width": null,
      "object_fit": null,
      "object_position": null,
      "order": null,
      "overflow": null,
      "overflow_x": null,
      "overflow_y": null,
      "padding": null,
      "right": null,
      "top": null,
      "visibility": null,
      "width": null
     }
    },
    "05213159a6c0437ea9132b0bf042af4f": {
     "model_module": "@jupyter-widgets/controls",
     "model_module_version": "1.5.0",
     "model_name": "ProgressStyleModel",
     "state": {
      "_model_module": "@jupyter-widgets/controls",
      "_model_module_version": "1.5.0",
      "_model_name": "ProgressStyleModel",
      "_view_count": null,
      "_view_module": "@jupyter-widgets/base",
      "_view_module_version": "1.2.0",
      "_view_name": "StyleView",
      "bar_color": null,
      "description_width": ""
     }
    },
    "10c86216a57b485a97cb026489d3953a": {
     "model_module": "@jupyter-widgets/controls",
     "model_module_version": "1.5.0",
     "model_name": "FloatProgressModel",
     "state": {
      "_dom_classes": [],
      "_model_module": "@jupyter-widgets/controls",
      "_model_module_version": "1.5.0",
      "_model_name": "FloatProgressModel",
      "_view_count": null,
      "_view_module": "@jupyter-widgets/controls",
      "_view_module_version": "1.5.0",
      "_view_name": "ProgressView",
      "bar_style": "success",
      "description": "",
      "description_tooltip": null,
      "layout": "IPY_MODEL_2c50ca997d86463ea228585250219957",
      "max": 288,
      "min": 0,
      "orientation": "horizontal",
      "style": "IPY_MODEL_95f8a9909607418491a53f7cd07481c4",
      "value": 288
     }
    },
    "1fe3fac9c657451189b4ed7054c9a41c": {
     "model_module": "@jupyter-widgets/base",
     "model_module_version": "1.2.0",
     "model_name": "LayoutModel",
     "state": {
      "_model_module": "@jupyter-widgets/base",
      "_model_module_version": "1.2.0",
      "_model_name": "LayoutModel",
      "_view_count": null,
      "_view_module": "@jupyter-widgets/base",
      "_view_module_version": "1.2.0",
      "_view_name": "LayoutView",
      "align_content": null,
      "align_items": null,
      "align_self": null,
      "border": null,
      "bottom": null,
      "display": null,
      "flex": null,
      "flex_flow": null,
      "grid_area": null,
      "grid_auto_columns": null,
      "grid_auto_flow": null,
      "grid_auto_rows": null,
      "grid_column": null,
      "grid_gap": null,
      "grid_row": null,
      "grid_template_areas": null,
      "grid_template_columns": null,
      "grid_template_rows": null,
      "height": null,
      "justify_content": null,
      "justify_items": null,
      "left": null,
      "margin": null,
      "max_height": null,
      "max_width": null,
      "min_height": null,
      "min_width": null,
      "object_fit": null,
      "object_position": null,
      "order": null,
      "overflow": null,
      "overflow_x": null,
      "overflow_y": null,
      "padding": null,
      "right": null,
      "top": null,
      "visibility": null,
      "width": null
     }
    },
    "27ffd4f4b5584241b1551a87ffe9d331": {
     "model_module": "@jupyter-widgets/controls",
     "model_module_version": "1.5.0",
     "model_name": "FloatProgressModel",
     "state": {
      "_dom_classes": [],
      "_model_module": "@jupyter-widgets/controls",
      "_model_module_version": "1.5.0",
      "_model_name": "FloatProgressModel",
      "_view_count": null,
      "_view_module": "@jupyter-widgets/controls",
      "_view_module_version": "1.5.0",
      "_view_name": "ProgressView",
      "bar_style": "success",
      "description": "",
      "description_tooltip": null,
      "layout": "IPY_MODEL_8bf2f28c34234a788d925a1052cb9a25",
      "max": 124,
      "min": 0,
      "orientation": "horizontal",
      "style": "IPY_MODEL_05213159a6c0437ea9132b0bf042af4f",
      "value": 124
     }
    },
    "2c50ca997d86463ea228585250219957": {
     "model_module": "@jupyter-widgets/base",
     "model_module_version": "1.2.0",
     "model_name": "LayoutModel",
     "state": {
      "_model_module": "@jupyter-widgets/base",
      "_model_module_version": "1.2.0",
      "_model_name": "LayoutModel",
      "_view_count": null,
      "_view_module": "@jupyter-widgets/base",
      "_view_module_version": "1.2.0",
      "_view_name": "LayoutView",
      "align_content": null,
      "align_items": null,
      "align_self": null,
      "border": null,
      "bottom": null,
      "display": null,
      "flex": null,
      "flex_flow": null,
      "grid_area": null,
      "grid_auto_columns": null,
      "grid_auto_flow": null,
      "grid_auto_rows": null,
      "grid_column": null,
      "grid_gap": null,
      "grid_row": null,
      "grid_template_areas": null,
      "grid_template_columns": null,
      "grid_template_rows": null,
      "height": null,
      "justify_content": null,
      "justify_items": null,
      "left": null,
      "margin": null,
      "max_height": null,
      "max_width": null,
      "min_height": null,
      "min_width": null,
      "object_fit": null,
      "object_position": null,
      "order": null,
      "overflow": null,
      "overflow_x": null,
      "overflow_y": null,
      "padding": null,
      "right": null,
      "top": null,
      "visibility": null,
      "width": null
     }
    },
    "3962b0147c4547108a04811cbdb38660": {
     "model_module": "@jupyter-widgets/controls",
     "model_module_version": "1.5.0",
     "model_name": "HTMLModel",
     "state": {
      "_dom_classes": [],
      "_model_module": "@jupyter-widgets/controls",
      "_model_module_version": "1.5.0",
      "_model_name": "HTMLModel",
      "_view_count": null,
      "_view_module": "@jupyter-widgets/controls",
      "_view_module_version": "1.5.0",
      "_view_name": "HTMLView",
      "description": "",
      "description_tooltip": null,
      "layout": "IPY_MODEL_40ceecfc8a454c91bcbfa05b3665fae8",
      "placeholder": "​",
      "style": "IPY_MODEL_97f6daa8d1c14136a05cbf3391fabe41",
      "value": " 288/288 [00:00&lt;00:00, 29.0kB/s]"
     }
    },
    "40ceecfc8a454c91bcbfa05b3665fae8": {
     "model_module": "@jupyter-widgets/base",
     "model_module_version": "1.2.0",
     "model_name": "LayoutModel",
     "state": {
      "_model_module": "@jupyter-widgets/base",
      "_model_module_version": "1.2.0",
      "_model_name": "LayoutModel",
      "_view_count": null,
      "_view_module": "@jupyter-widgets/base",
      "_view_module_version": "1.2.0",
      "_view_name": "LayoutView",
      "align_content": null,
      "align_items": null,
      "align_self": null,
      "border": null,
      "bottom": null,
      "display": null,
      "flex": null,
      "flex_flow": null,
      "grid_area": null,
      "grid_auto_columns": null,
      "grid_auto_flow": null,
      "grid_auto_rows": null,
      "grid_column": null,
      "grid_gap": null,
      "grid_row": null,
      "grid_template_areas": null,
      "grid_template_columns": null,
      "grid_template_rows": null,
      "height": null,
      "justify_content": null,
      "justify_items": null,
      "left": null,
      "margin": null,
      "max_height": null,
      "max_width": null,
      "min_height": null,
      "min_width": null,
      "object_fit": null,
      "object_position": null,
      "order": null,
      "overflow": null,
      "overflow_x": null,
      "overflow_y": null,
      "padding": null,
      "right": null,
      "top": null,
      "visibility": null,
      "width": null
     }
    },
    "4deedccb013842bb8442789fb6a0c61e": {
     "model_module": "@jupyter-widgets/base",
     "model_module_version": "1.2.0",
     "model_name": "LayoutModel",
     "state": {
      "_model_module": "@jupyter-widgets/base",
      "_model_module_version": "1.2.0",
      "_model_name": "LayoutModel",
      "_view_count": null,
      "_view_module": "@jupyter-widgets/base",
      "_view_module_version": "1.2.0",
      "_view_name": "LayoutView",
      "align_content": null,
      "align_items": null,
      "align_self": null,
      "border": null,
      "bottom": null,
      "display": null,
      "flex": null,
      "flex_flow": null,
      "grid_area": null,
      "grid_auto_columns": null,
      "grid_auto_flow": null,
      "grid_auto_rows": null,
      "grid_column": null,
      "grid_gap": null,
      "grid_row": null,
      "grid_template_areas": null,
      "grid_template_columns": null,
      "grid_template_rows": null,
      "height": null,
      "justify_content": null,
      "justify_items": null,
      "left": null,
      "margin": null,
      "max_height": null,
      "max_width": null,
      "min_height": null,
      "min_width": null,
      "object_fit": null,
      "object_position": null,
      "order": null,
      "overflow": null,
      "overflow_x": null,
      "overflow_y": null,
      "padding": null,
      "right": null,
      "top": null,
      "visibility": null,
      "width": null
     }
    },
    "5179c64ac9054c75b15935f08a9d6a8d": {
     "model_module": "@jupyter-widgets/controls",
     "model_module_version": "1.5.0",
     "model_name": "DescriptionStyleModel",
     "state": {
      "_model_module": "@jupyter-widgets/controls",
      "_model_module_version": "1.5.0",
      "_model_name": "DescriptionStyleModel",
      "_view_count": null,
      "_view_module": "@jupyter-widgets/base",
      "_view_module_version": "1.2.0",
      "_view_name": "StyleView",
      "description_width": ""
     }
    },
    "58b63018016a48fbafa4aacd49d75c2d": {
     "model_module": "@jupyter-widgets/controls",
     "model_module_version": "1.5.0",
     "model_name": "DescriptionStyleModel",
     "state": {
      "_model_module": "@jupyter-widgets/controls",
      "_model_module_version": "1.5.0",
      "_model_name": "DescriptionStyleModel",
      "_view_count": null,
      "_view_module": "@jupyter-widgets/base",
      "_view_module_version": "1.2.0",
      "_view_name": "StyleView",
      "description_width": ""
     }
    },
    "625edd8a17864284ba669fa45e07047e": {
     "model_module": "@jupyter-widgets/base",
     "model_module_version": "1.2.0",
     "model_name": "LayoutModel",
     "state": {
      "_model_module": "@jupyter-widgets/base",
      "_model_module_version": "1.2.0",
      "_model_name": "LayoutModel",
      "_view_count": null,
      "_view_module": "@jupyter-widgets/base",
      "_view_module_version": "1.2.0",
      "_view_name": "LayoutView",
      "align_content": null,
      "align_items": null,
      "align_self": null,
      "border": null,
      "bottom": null,
      "display": null,
      "flex": null,
      "flex_flow": null,
      "grid_area": null,
      "grid_auto_columns": null,
      "grid_auto_flow": null,
      "grid_auto_rows": null,
      "grid_column": null,
      "grid_gap": null,
      "grid_row": null,
      "grid_template_areas": null,
      "grid_template_columns": null,
      "grid_template_rows": null,
      "height": null,
      "justify_content": null,
      "justify_items": null,
      "left": null,
      "margin": null,
      "max_height": null,
      "max_width": null,
      "min_height": null,
      "min_width": null,
      "object_fit": null,
      "object_position": null,
      "order": null,
      "overflow": null,
      "overflow_x": null,
      "overflow_y": null,
      "padding": null,
      "right": null,
      "top": null,
      "visibility": null,
      "width": null
     }
    },
    "67bb63dd97484124b69472c2c76afc59": {
     "model_module": "@jupyter-widgets/controls",
     "model_module_version": "1.5.0",
     "model_name": "ProgressStyleModel",
     "state": {
      "_model_module": "@jupyter-widgets/controls",
      "_model_module_version": "1.5.0",
      "_model_name": "ProgressStyleModel",
      "_view_count": null,
      "_view_module": "@jupyter-widgets/base",
      "_view_module_version": "1.2.0",
      "_view_name": "StyleView",
      "bar_color": null,
      "description_width": ""
     }
    },
    "68e5d1916075403c8f25a9beb6d09625": {
     "model_module": "@jupyter-widgets/base",
     "model_module_version": "1.2.0",
     "model_name": "LayoutModel",
     "state": {
      "_model_module": "@jupyter-widgets/base",
      "_model_module_version": "1.2.0",
      "_model_name": "LayoutModel",
      "_view_count": null,
      "_view_module": "@jupyter-widgets/base",
      "_view_module_version": "1.2.0",
      "_view_name": "LayoutView",
      "align_content": null,
      "align_items": null,
      "align_self": null,
      "border": null,
      "bottom": null,
      "display": null,
      "flex": null,
      "flex_flow": null,
      "grid_area": null,
      "grid_auto_columns": null,
      "grid_auto_flow": null,
      "grid_auto_rows": null,
      "grid_column": null,
      "grid_gap": null,
      "grid_row": null,
      "grid_template_areas": null,
      "grid_template_columns": null,
      "grid_template_rows": null,
      "height": null,
      "justify_content": null,
      "justify_items": null,
      "left": null,
      "margin": null,
      "max_height": null,
      "max_width": null,
      "min_height": null,
      "min_width": null,
      "object_fit": null,
      "object_position": null,
      "order": null,
      "overflow": null,
      "overflow_x": null,
      "overflow_y": null,
      "padding": null,
      "right": null,
      "top": null,
      "visibility": null,
      "width": null
     }
    },
    "6e59b454e2e543bf8d7d90dedeeef482": {
     "model_module": "@jupyter-widgets/controls",
     "model_module_version": "1.5.0",
     "model_name": "HTMLModel",
     "state": {
      "_dom_classes": [],
      "_model_module": "@jupyter-widgets/controls",
      "_model_module_version": "1.5.0",
      "_model_name": "HTMLModel",
      "_view_count": null,
      "_view_module": "@jupyter-widgets/controls",
      "_view_module_version": "1.5.0",
      "_view_name": "HTMLView",
      "description": "",
      "description_tooltip": null,
      "layout": "IPY_MODEL_4deedccb013842bb8442789fb6a0c61e",
      "placeholder": "​",
      "style": "IPY_MODEL_b5f319217508437db8cfd5b741205d88",
      "value": "model.safetensors: 100%"
     }
    },
    "6eac557421d74ea785458f0404f38153": {
     "model_module": "@jupyter-widgets/controls",
     "model_module_version": "1.5.0",
     "model_name": "HTMLModel",
     "state": {
      "_dom_classes": [],
      "_model_module": "@jupyter-widgets/controls",
      "_model_module_version": "1.5.0",
      "_model_name": "HTMLModel",
      "_view_count": null,
      "_view_module": "@jupyter-widgets/controls",
      "_view_module_version": "1.5.0",
      "_view_name": "HTMLView",
      "description": "",
      "description_tooltip": null,
      "layout": "IPY_MODEL_625edd8a17864284ba669fa45e07047e",
      "placeholder": "​",
      "style": "IPY_MODEL_9e5a526e5b834e9cbe269ae65f2c4790",
      "value": " 1.78M/1.78M [00:00&lt;00:00, 31.3MB/s]"
     }
    },
    "6ff10804e7d0478496c62096ffabd4d4": {
     "model_module": "@jupyter-widgets/controls",
     "model_module_version": "1.5.0",
     "model_name": "HTMLModel",
     "state": {
      "_dom_classes": [],
      "_model_module": "@jupyter-widgets/controls",
      "_model_module_version": "1.5.0",
      "_model_name": "HTMLModel",
      "_view_count": null,
      "_view_module": "@jupyter-widgets/controls",
      "_view_module_version": "1.5.0",
      "_view_name": "HTMLView",
      "description": "",
      "description_tooltip": null,
      "layout": "IPY_MODEL_8a977764a77c4320a21e0c1f6ee6aa55",
      "placeholder": "​",
      "style": "IPY_MODEL_5179c64ac9054c75b15935f08a9d6a8d",
      "value": "special_tokens_map.json: 100%"
     }
    },
    "72dc42d1fc504399b2aeacf912af01c6": {
     "model_module": "@jupyter-widgets/controls",
     "model_module_version": "1.5.0",
     "model_name": "DescriptionStyleModel",
     "state": {
      "_model_module": "@jupyter-widgets/controls",
      "_model_module_version": "1.5.0",
      "_model_name": "DescriptionStyleModel",
      "_view_count": null,
      "_view_module": "@jupyter-widgets/base",
      "_view_module_version": "1.2.0",
      "_view_name": "StyleView",
      "description_width": ""
     }
    },
    "72ed1d8225a54330a083ca8e09ab4ea3": {
     "model_module": "@jupyter-widgets/controls",
     "model_module_version": "1.5.0",
     "model_name": "FloatProgressModel",
     "state": {
      "_dom_classes": [],
      "_model_module": "@jupyter-widgets/controls",
      "_model_module_version": "1.5.0",
      "_model_name": "FloatProgressModel",
      "_view_count": null,
      "_view_module": "@jupyter-widgets/controls",
      "_view_module_version": "1.5.0",
      "_view_name": "ProgressView",
      "bar_style": "success",
      "description": "",
      "description_tooltip": null,
      "layout": "IPY_MODEL_983b37127dcc4c42b443a542c979197a",
      "max": 436356844,
      "min": 0,
      "orientation": "horizontal",
      "style": "IPY_MODEL_e3ad0119d31d41ca87d71be9835a69b2",
      "value": 436356844
     }
    },
    "735f8d3960dd4d319e23e30fc2097a04": {
     "model_module": "@jupyter-widgets/controls",
     "model_module_version": "1.5.0",
     "model_name": "DescriptionStyleModel",
     "state": {
      "_model_module": "@jupyter-widgets/controls",
      "_model_module_version": "1.5.0",
      "_model_name": "DescriptionStyleModel",
      "_view_count": null,
      "_view_module": "@jupyter-widgets/base",
      "_view_module_version": "1.2.0",
      "_view_name": "StyleView",
      "description_width": ""
     }
    },
    "76555a4e7a37440ba5f7717f161f5741": {
     "model_module": "@jupyter-widgets/base",
     "model_module_version": "1.2.0",
     "model_name": "LayoutModel",
     "state": {
      "_model_module": "@jupyter-widgets/base",
      "_model_module_version": "1.2.0",
      "_model_name": "LayoutModel",
      "_view_count": null,
      "_view_module": "@jupyter-widgets/base",
      "_view_module_version": "1.2.0",
      "_view_name": "LayoutView",
      "align_content": null,
      "align_items": null,
      "align_self": null,
      "border": null,
      "bottom": null,
      "display": null,
      "flex": null,
      "flex_flow": null,
      "grid_area": null,
      "grid_auto_columns": null,
      "grid_auto_flow": null,
      "grid_auto_rows": null,
      "grid_column": null,
      "grid_gap": null,
      "grid_row": null,
      "grid_template_areas": null,
      "grid_template_columns": null,
      "grid_template_rows": null,
      "height": null,
      "justify_content": null,
      "justify_items": null,
      "left": null,
      "margin": null,
      "max_height": null,
      "max_width": null,
      "min_height": null,
      "min_width": null,
      "object_fit": null,
      "object_position": null,
      "order": null,
      "overflow": null,
      "overflow_x": null,
      "overflow_y": null,
      "padding": null,
      "right": null,
      "top": null,
      "visibility": null,
      "width": null
     }
    },
    "776b83d5b6c64761b45fd32e2aab6b68": {
     "model_module": "@jupyter-widgets/base",
     "model_module_version": "1.2.0",
     "model_name": "LayoutModel",
     "state": {
      "_model_module": "@jupyter-widgets/base",
      "_model_module_version": "1.2.0",
      "_model_name": "LayoutModel",
      "_view_count": null,
      "_view_module": "@jupyter-widgets/base",
      "_view_module_version": "1.2.0",
      "_view_name": "LayoutView",
      "align_content": null,
      "align_items": null,
      "align_self": null,
      "border": null,
      "bottom": null,
      "display": null,
      "flex": null,
      "flex_flow": null,
      "grid_area": null,
      "grid_auto_columns": null,
      "grid_auto_flow": null,
      "grid_auto_rows": null,
      "grid_column": null,
      "grid_gap": null,
      "grid_row": null,
      "grid_template_areas": null,
      "grid_template_columns": null,
      "grid_template_rows": null,
      "height": null,
      "justify_content": null,
      "justify_items": null,
      "left": null,
      "margin": null,
      "max_height": null,
      "max_width": null,
      "min_height": null,
      "min_width": null,
      "object_fit": null,
      "object_position": null,
      "order": null,
      "overflow": null,
      "overflow_x": null,
      "overflow_y": null,
      "padding": null,
      "right": null,
      "top": null,
      "visibility": null,
      "width": null
     }
    },
    "7a8b0d7a3bca47259ce88dde7779ff92": {
     "model_module": "@jupyter-widgets/controls",
     "model_module_version": "1.5.0",
     "model_name": "HTMLModel",
     "state": {
      "_dom_classes": [],
      "_model_module": "@jupyter-widgets/controls",
      "_model_module_version": "1.5.0",
      "_model_name": "HTMLModel",
      "_view_count": null,
      "_view_module": "@jupyter-widgets/controls",
      "_view_module_version": "1.5.0",
      "_view_name": "HTMLView",
      "description": "",
      "description_tooltip": null,
      "layout": "IPY_MODEL_a4e05295e3de49a2b888861a0d2862b3",
      "placeholder": "​",
      "style": "IPY_MODEL_58b63018016a48fbafa4aacd49d75c2d",
      "value": " 514/514 [00:00&lt;00:00, 10.0kB/s]"
     }
    },
    "884aae93da164aa9967e6466bf20e2dc": {
     "model_module": "@jupyter-widgets/controls",
     "model_module_version": "1.5.0",
     "model_name": "FloatProgressModel",
     "state": {
      "_dom_classes": [],
      "_model_module": "@jupyter-widgets/controls",
      "_model_module_version": "1.5.0",
      "_model_name": "FloatProgressModel",
      "_view_count": null,
      "_view_module": "@jupyter-widgets/controls",
      "_view_module_version": "1.5.0",
      "_view_name": "ProgressView",
      "bar_style": "success",
      "description": "",
      "description_tooltip": null,
      "layout": "IPY_MODEL_68e5d1916075403c8f25a9beb6d09625",
      "max": 514,
      "min": 0,
      "orientation": "horizontal",
      "style": "IPY_MODEL_67bb63dd97484124b69472c2c76afc59",
      "value": 514
     }
    },
    "899d6f31fe64461ab5a032ff85fbd87c": {
     "model_module": "@jupyter-widgets/controls",
     "model_module_version": "1.5.0",
     "model_name": "HTMLModel",
     "state": {
      "_dom_classes": [],
      "_model_module": "@jupyter-widgets/controls",
      "_model_module_version": "1.5.0",
      "_model_name": "HTMLModel",
      "_view_count": null,
      "_view_module": "@jupyter-widgets/controls",
      "_view_module_version": "1.5.0",
      "_view_name": "HTMLView",
      "description": "",
      "description_tooltip": null,
      "layout": "IPY_MODEL_dd1d25dc841745bbb3371196e9b70f66",
      "placeholder": "​",
      "style": "IPY_MODEL_a2b7c5e8a43e478d99359615bb57e78d",
      "value": "tokenizer.json: 100%"
     }
    },
    "8a977764a77c4320a21e0c1f6ee6aa55": {
     "model_module": "@jupyter-widgets/base",
     "model_module_version": "1.2.0",
     "model_name": "LayoutModel",
     "state": {
      "_model_module": "@jupyter-widgets/base",
      "_model_module_version": "1.2.0",
      "_model_name": "LayoutModel",
      "_view_count": null,
      "_view_module": "@jupyter-widgets/base",
      "_view_module_version": "1.2.0",
      "_view_name": "LayoutView",
      "align_content": null,
      "align_items": null,
      "align_self": null,
      "border": null,
      "bottom": null,
      "display": null,
      "flex": null,
      "flex_flow": null,
      "grid_area": null,
      "grid_auto_columns": null,
      "grid_auto_flow": null,
      "grid_auto_rows": null,
      "grid_column": null,
      "grid_gap": null,
      "grid_row": null,
      "grid_template_areas": null,
      "grid_template_columns": null,
      "grid_template_rows": null,
      "height": null,
      "justify_content": null,
      "justify_items": null,
      "left": null,
      "margin": null,
      "max_height": null,
      "max_width": null,
      "min_height": null,
      "min_width": null,
      "object_fit": null,
      "object_position": null,
      "order": null,
      "overflow": null,
      "overflow_x": null,
      "overflow_y": null,
      "padding": null,
      "right": null,
      "top": null,
      "visibility": null,
      "width": null
     }
    },
    "8bf2f28c34234a788d925a1052cb9a25": {
     "model_module": "@jupyter-widgets/base",
     "model_module_version": "1.2.0",
     "model_name": "LayoutModel",
     "state": {
      "_model_module": "@jupyter-widgets/base",
      "_model_module_version": "1.2.0",
      "_model_name": "LayoutModel",
      "_view_count": null,
      "_view_module": "@jupyter-widgets/base",
      "_view_module_version": "1.2.0",
      "_view_name": "LayoutView",
      "align_content": null,
      "align_items": null,
      "align_self": null,
      "border": null,
      "bottom": null,
      "display": null,
      "flex": null,
      "flex_flow": null,
      "grid_area": null,
      "grid_auto_columns": null,
      "grid_auto_flow": null,
      "grid_auto_rows": null,
      "grid_column": null,
      "grid_gap": null,
      "grid_row": null,
      "grid_template_areas": null,
      "grid_template_columns": null,
      "grid_template_rows": null,
      "height": null,
      "justify_content": null,
      "justify_items": null,
      "left": null,
      "margin": null,
      "max_height": null,
      "max_width": null,
      "min_height": null,
      "min_width": null,
      "object_fit": null,
      "object_position": null,
      "order": null,
      "overflow": null,
      "overflow_x": null,
      "overflow_y": null,
      "padding": null,
      "right": null,
      "top": null,
      "visibility": null,
      "width": null
     }
    },
    "8d4d67b8b81f4800b5de40e9fc06ed1c": {
     "model_module": "@jupyter-widgets/controls",
     "model_module_version": "1.5.0",
     "model_name": "FloatProgressModel",
     "state": {
      "_dom_classes": [],
      "_model_module": "@jupyter-widgets/controls",
      "_model_module_version": "1.5.0",
      "_model_name": "FloatProgressModel",
      "_view_count": null,
      "_view_module": "@jupyter-widgets/controls",
      "_view_module_version": "1.5.0",
      "_view_name": "ProgressView",
      "bar_style": "success",
      "description": "",
      "description_tooltip": null,
      "layout": "IPY_MODEL_1fe3fac9c657451189b4ed7054c9a41c",
      "max": 1777527,
      "min": 0,
      "orientation": "horizontal",
      "style": "IPY_MODEL_a8cab2830370456784a4da2ef89de812",
      "value": 1777527
     }
    },
    "95f8a9909607418491a53f7cd07481c4": {
     "model_module": "@jupyter-widgets/controls",
     "model_module_version": "1.5.0",
     "model_name": "ProgressStyleModel",
     "state": {
      "_model_module": "@jupyter-widgets/controls",
      "_model_module_version": "1.5.0",
      "_model_name": "ProgressStyleModel",
      "_view_count": null,
      "_view_module": "@jupyter-widgets/base",
      "_view_module_version": "1.2.0",
      "_view_name": "StyleView",
      "bar_color": null,
      "description_width": ""
     }
    },
    "97f6daa8d1c14136a05cbf3391fabe41": {
     "model_module": "@jupyter-widgets/controls",
     "model_module_version": "1.5.0",
     "model_name": "DescriptionStyleModel",
     "state": {
      "_model_module": "@jupyter-widgets/controls",
      "_model_module_version": "1.5.0",
      "_model_name": "DescriptionStyleModel",
      "_view_count": null,
      "_view_module": "@jupyter-widgets/base",
      "_view_module_version": "1.2.0",
      "_view_name": "StyleView",
      "description_width": ""
     }
    },
    "983b37127dcc4c42b443a542c979197a": {
     "model_module": "@jupyter-widgets/base",
     "model_module_version": "1.2.0",
     "model_name": "LayoutModel",
     "state": {
      "_model_module": "@jupyter-widgets/base",
      "_model_module_version": "1.2.0",
      "_model_name": "LayoutModel",
      "_view_count": null,
      "_view_module": "@jupyter-widgets/base",
      "_view_module_version": "1.2.0",
      "_view_name": "LayoutView",
      "align_content": null,
      "align_items": null,
      "align_self": null,
      "border": null,
      "bottom": null,
      "display": null,
      "flex": null,
      "flex_flow": null,
      "grid_area": null,
      "grid_auto_columns": null,
      "grid_auto_flow": null,
      "grid_auto_rows": null,
      "grid_column": null,
      "grid_gap": null,
      "grid_row": null,
      "grid_template_areas": null,
      "grid_template_columns": null,
      "grid_template_rows": null,
      "height": null,
      "justify_content": null,
      "justify_items": null,
      "left": null,
      "margin": null,
      "max_height": null,
      "max_width": null,
      "min_height": null,
      "min_width": null,
      "object_fit": null,
      "object_position": null,
      "order": null,
      "overflow": null,
      "overflow_x": null,
      "overflow_y": null,
      "padding": null,
      "right": null,
      "top": null,
      "visibility": null,
      "width": null
     }
    },
    "9e5a526e5b834e9cbe269ae65f2c4790": {
     "model_module": "@jupyter-widgets/controls",
     "model_module_version": "1.5.0",
     "model_name": "DescriptionStyleModel",
     "state": {
      "_model_module": "@jupyter-widgets/controls",
      "_model_module_version": "1.5.0",
      "_model_name": "DescriptionStyleModel",
      "_view_count": null,
      "_view_module": "@jupyter-widgets/base",
      "_view_module_version": "1.2.0",
      "_view_name": "StyleView",
      "description_width": ""
     }
    },
    "9ec1c0a6d3d240f7bd85d2cc01619666": {
     "model_module": "@jupyter-widgets/base",
     "model_module_version": "1.2.0",
     "model_name": "LayoutModel",
     "state": {
      "_model_module": "@jupyter-widgets/base",
      "_model_module_version": "1.2.0",
      "_model_name": "LayoutModel",
      "_view_count": null,
      "_view_module": "@jupyter-widgets/base",
      "_view_module_version": "1.2.0",
      "_view_name": "LayoutView",
      "align_content": null,
      "align_items": null,
      "align_self": null,
      "border": null,
      "bottom": null,
      "display": null,
      "flex": null,
      "flex_flow": null,
      "grid_area": null,
      "grid_auto_columns": null,
      "grid_auto_flow": null,
      "grid_auto_rows": null,
      "grid_column": null,
      "grid_gap": null,
      "grid_row": null,
      "grid_template_areas": null,
      "grid_template_columns": null,
      "grid_template_rows": null,
      "height": null,
      "justify_content": null,
      "justify_items": null,
      "left": null,
      "margin": null,
      "max_height": null,
      "max_width": null,
      "min_height": null,
      "min_width": null,
      "object_fit": null,
      "object_position": null,
      "order": null,
      "overflow": null,
      "overflow_x": null,
      "overflow_y": null,
      "padding": null,
      "right": null,
      "top": null,
      "visibility": null,
      "width": null
     }
    },
    "a2b7c5e8a43e478d99359615bb57e78d": {
     "model_module": "@jupyter-widgets/controls",
     "model_module_version": "1.5.0",
     "model_name": "DescriptionStyleModel",
     "state": {
      "_model_module": "@jupyter-widgets/controls",
      "_model_module_version": "1.5.0",
      "_model_name": "DescriptionStyleModel",
      "_view_count": null,
      "_view_module": "@jupyter-widgets/base",
      "_view_module_version": "1.2.0",
      "_view_name": "StyleView",
      "description_width": ""
     }
    },
    "a45ca6531bd2445fb06555c9d9c00e3e": {
     "model_module": "@jupyter-widgets/base",
     "model_module_version": "1.2.0",
     "model_name": "LayoutModel",
     "state": {
      "_model_module": "@jupyter-widgets/base",
      "_model_module_version": "1.2.0",
      "_model_name": "LayoutModel",
      "_view_count": null,
      "_view_module": "@jupyter-widgets/base",
      "_view_module_version": "1.2.0",
      "_view_name": "LayoutView",
      "align_content": null,
      "align_items": null,
      "align_self": null,
      "border": null,
      "bottom": null,
      "display": null,
      "flex": null,
      "flex_flow": null,
      "grid_area": null,
      "grid_auto_columns": null,
      "grid_auto_flow": null,
      "grid_auto_rows": null,
      "grid_column": null,
      "grid_gap": null,
      "grid_row": null,
      "grid_template_areas": null,
      "grid_template_columns": null,
      "grid_template_rows": null,
      "height": null,
      "justify_content": null,
      "justify_items": null,
      "left": null,
      "margin": null,
      "max_height": null,
      "max_width": null,
      "min_height": null,
      "min_width": null,
      "object_fit": null,
      "object_position": null,
      "order": null,
      "overflow": null,
      "overflow_x": null,
      "overflow_y": null,
      "padding": null,
      "right": null,
      "top": null,
      "visibility": null,
      "width": null
     }
    },
    "a4e05295e3de49a2b888861a0d2862b3": {
     "model_module": "@jupyter-widgets/base",
     "model_module_version": "1.2.0",
     "model_name": "LayoutModel",
     "state": {
      "_model_module": "@jupyter-widgets/base",
      "_model_module_version": "1.2.0",
      "_model_name": "LayoutModel",
      "_view_count": null,
      "_view_module": "@jupyter-widgets/base",
      "_view_module_version": "1.2.0",
      "_view_name": "LayoutView",
      "align_content": null,
      "align_items": null,
      "align_self": null,
      "border": null,
      "bottom": null,
      "display": null,
      "flex": null,
      "flex_flow": null,
      "grid_area": null,
      "grid_auto_columns": null,
      "grid_auto_flow": null,
      "grid_auto_rows": null,
      "grid_column": null,
      "grid_gap": null,
      "grid_row": null,
      "grid_template_areas": null,
      "grid_template_columns": null,
      "grid_template_rows": null,
      "height": null,
      "justify_content": null,
      "justify_items": null,
      "left": null,
      "margin": null,
      "max_height": null,
      "max_width": null,
      "min_height": null,
      "min_width": null,
      "object_fit": null,
      "object_position": null,
      "order": null,
      "overflow": null,
      "overflow_x": null,
      "overflow_y": null,
      "padding": null,
      "right": null,
      "top": null,
      "visibility": null,
      "width": null
     }
    },
    "a8cab2830370456784a4da2ef89de812": {
     "model_module": "@jupyter-widgets/controls",
     "model_module_version": "1.5.0",
     "model_name": "ProgressStyleModel",
     "state": {
      "_model_module": "@jupyter-widgets/controls",
      "_model_module_version": "1.5.0",
      "_model_name": "ProgressStyleModel",
      "_view_count": null,
      "_view_module": "@jupyter-widgets/base",
      "_view_module_version": "1.2.0",
      "_view_name": "StyleView",
      "bar_color": null,
      "description_width": ""
     }
    },
    "b0d72e8edcc1493eae052db8cbc90315": {
     "model_module": "@jupyter-widgets/controls",
     "model_module_version": "1.5.0",
     "model_name": "DescriptionStyleModel",
     "state": {
      "_model_module": "@jupyter-widgets/controls",
      "_model_module_version": "1.5.0",
      "_model_name": "DescriptionStyleModel",
      "_view_count": null,
      "_view_module": "@jupyter-widgets/base",
      "_view_module_version": "1.2.0",
      "_view_name": "StyleView",
      "description_width": ""
     }
    },
    "b12176d2b94c41ce9c580754dec401ab": {
     "model_module": "@jupyter-widgets/controls",
     "model_module_version": "1.5.0",
     "model_name": "HTMLModel",
     "state": {
      "_dom_classes": [],
      "_model_module": "@jupyter-widgets/controls",
      "_model_module_version": "1.5.0",
      "_model_name": "HTMLModel",
      "_view_count": null,
      "_view_module": "@jupyter-widgets/controls",
      "_view_module_version": "1.5.0",
      "_view_name": "HTMLView",
      "description": "",
      "description_tooltip": null,
      "layout": "IPY_MODEL_a45ca6531bd2445fb06555c9d9c00e3e",
      "placeholder": "​",
      "style": "IPY_MODEL_735f8d3960dd4d319e23e30fc2097a04",
      "value": " 436M/436M [00:01&lt;00:00, 356MB/s]"
     }
    },
    "b5f319217508437db8cfd5b741205d88": {
     "model_module": "@jupyter-widgets/controls",
     "model_module_version": "1.5.0",
     "model_name": "DescriptionStyleModel",
     "state": {
      "_model_module": "@jupyter-widgets/controls",
      "_model_module_version": "1.5.0",
      "_model_name": "DescriptionStyleModel",
      "_view_count": null,
      "_view_module": "@jupyter-widgets/base",
      "_view_module_version": "1.2.0",
      "_view_name": "StyleView",
      "description_width": ""
     }
    },
    "b65a69e4648d4185a52a5d71a6cd2895": {
     "model_module": "@jupyter-widgets/controls",
     "model_module_version": "1.5.0",
     "model_name": "HBoxModel",
     "state": {
      "_dom_classes": [],
      "_model_module": "@jupyter-widgets/controls",
      "_model_module_version": "1.5.0",
      "_model_name": "HBoxModel",
      "_view_count": null,
      "_view_module": "@jupyter-widgets/controls",
      "_view_module_version": "1.5.0",
      "_view_name": "HBoxView",
      "box_style": "",
      "children": [
       "IPY_MODEL_6ff10804e7d0478496c62096ffabd4d4",
       "IPY_MODEL_27ffd4f4b5584241b1551a87ffe9d331",
       "IPY_MODEL_de78fa13d4f64e2f973023bce392f34c"
      ],
      "layout": "IPY_MODEL_bb09e012eae54136a5784b68884baac7"
     }
    },
    "bb09e012eae54136a5784b68884baac7": {
     "model_module": "@jupyter-widgets/base",
     "model_module_version": "1.2.0",
     "model_name": "LayoutModel",
     "state": {
      "_model_module": "@jupyter-widgets/base",
      "_model_module_version": "1.2.0",
      "_model_name": "LayoutModel",
      "_view_count": null,
      "_view_module": "@jupyter-widgets/base",
      "_view_module_version": "1.2.0",
      "_view_name": "LayoutView",
      "align_content": null,
      "align_items": null,
      "align_self": null,
      "border": null,
      "bottom": null,
      "display": null,
      "flex": null,
      "flex_flow": null,
      "grid_area": null,
      "grid_auto_columns": null,
      "grid_auto_flow": null,
      "grid_auto_rows": null,
      "grid_column": null,
      "grid_gap": null,
      "grid_row": null,
      "grid_template_areas": null,
      "grid_template_columns": null,
      "grid_template_rows": null,
      "height": null,
      "justify_content": null,
      "justify_items": null,
      "left": null,
      "margin": null,
      "max_height": null,
      "max_width": null,
      "min_height": null,
      "min_width": null,
      "object_fit": null,
      "object_position": null,
      "order": null,
      "overflow": null,
      "overflow_x": null,
      "overflow_y": null,
      "padding": null,
      "right": null,
      "top": null,
      "visibility": null,
      "width": null
     }
    },
    "bf5201cf1939451f8eca3fb7d5cc530d": {
     "model_module": "@jupyter-widgets/controls",
     "model_module_version": "1.5.0",
     "model_name": "DescriptionStyleModel",
     "state": {
      "_model_module": "@jupyter-widgets/controls",
      "_model_module_version": "1.5.0",
      "_model_name": "DescriptionStyleModel",
      "_view_count": null,
      "_view_module": "@jupyter-widgets/base",
      "_view_module_version": "1.2.0",
      "_view_name": "StyleView",
      "description_width": ""
     }
    },
    "c3913ce3fbfd45af9c3423b260162ea3": {
     "model_module": "@jupyter-widgets/base",
     "model_module_version": "1.2.0",
     "model_name": "LayoutModel",
     "state": {
      "_model_module": "@jupyter-widgets/base",
      "_model_module_version": "1.2.0",
      "_model_name": "LayoutModel",
      "_view_count": null,
      "_view_module": "@jupyter-widgets/base",
      "_view_module_version": "1.2.0",
      "_view_name": "LayoutView",
      "align_content": null,
      "align_items": null,
      "align_self": null,
      "border": null,
      "bottom": null,
      "display": null,
      "flex": null,
      "flex_flow": null,
      "grid_area": null,
      "grid_auto_columns": null,
      "grid_auto_flow": null,
      "grid_auto_rows": null,
      "grid_column": null,
      "grid_gap": null,
      "grid_row": null,
      "grid_template_areas": null,
      "grid_template_columns": null,
      "grid_template_rows": null,
      "height": null,
      "justify_content": null,
      "justify_items": null,
      "left": null,
      "margin": null,
      "max_height": null,
      "max_width": null,
      "min_height": null,
      "min_width": null,
      "object_fit": null,
      "object_position": null,
      "order": null,
      "overflow": null,
      "overflow_x": null,
      "overflow_y": null,
      "padding": null,
      "right": null,
      "top": null,
      "visibility": null,
      "width": null
     }
    },
    "c85833a02a464b26a55106b6447bd451": {
     "model_module": "@jupyter-widgets/base",
     "model_module_version": "1.2.0",
     "model_name": "LayoutModel",
     "state": {
      "_model_module": "@jupyter-widgets/base",
      "_model_module_version": "1.2.0",
      "_model_name": "LayoutModel",
      "_view_count": null,
      "_view_module": "@jupyter-widgets/base",
      "_view_module_version": "1.2.0",
      "_view_name": "LayoutView",
      "align_content": null,
      "align_items": null,
      "align_self": null,
      "border": null,
      "bottom": null,
      "display": null,
      "flex": null,
      "flex_flow": null,
      "grid_area": null,
      "grid_auto_columns": null,
      "grid_auto_flow": null,
      "grid_auto_rows": null,
      "grid_column": null,
      "grid_gap": null,
      "grid_row": null,
      "grid_template_areas": null,
      "grid_template_columns": null,
      "grid_template_rows": null,
      "height": null,
      "justify_content": null,
      "justify_items": null,
      "left": null,
      "margin": null,
      "max_height": null,
      "max_width": null,
      "min_height": null,
      "min_width": null,
      "object_fit": null,
      "object_position": null,
      "order": null,
      "overflow": null,
      "overflow_x": null,
      "overflow_y": null,
      "padding": null,
      "right": null,
      "top": null,
      "visibility": null,
      "width": null
     }
    },
    "d89972e05ec745629bd8abe5ce534f46": {
     "model_module": "@jupyter-widgets/controls",
     "model_module_version": "1.5.0",
     "model_name": "HBoxModel",
     "state": {
      "_dom_classes": [],
      "_model_module": "@jupyter-widgets/controls",
      "_model_module_version": "1.5.0",
      "_model_name": "HBoxModel",
      "_view_count": null,
      "_view_module": "@jupyter-widgets/controls",
      "_view_module_version": "1.5.0",
      "_view_name": "HBoxView",
      "box_style": "",
      "children": [
       "IPY_MODEL_899d6f31fe64461ab5a032ff85fbd87c",
       "IPY_MODEL_8d4d67b8b81f4800b5de40e9fc06ed1c",
       "IPY_MODEL_6eac557421d74ea785458f0404f38153"
      ],
      "layout": "IPY_MODEL_776b83d5b6c64761b45fd32e2aab6b68"
     }
    },
    "d8bbe974729e4850bc508ed3cfc16740": {
     "model_module": "@jupyter-widgets/controls",
     "model_module_version": "1.5.0",
     "model_name": "HBoxModel",
     "state": {
      "_dom_classes": [],
      "_model_module": "@jupyter-widgets/controls",
      "_model_module_version": "1.5.0",
      "_model_name": "HBoxModel",
      "_view_count": null,
      "_view_module": "@jupyter-widgets/controls",
      "_view_module_version": "1.5.0",
      "_view_name": "HBoxView",
      "box_style": "",
      "children": [
       "IPY_MODEL_6e59b454e2e543bf8d7d90dedeeef482",
       "IPY_MODEL_72ed1d8225a54330a083ca8e09ab4ea3",
       "IPY_MODEL_b12176d2b94c41ce9c580754dec401ab"
      ],
      "layout": "IPY_MODEL_c85833a02a464b26a55106b6447bd451"
     }
    },
    "db034e45b6f441069a3ccb2fddaa03ab": {
     "model_module": "@jupyter-widgets/base",
     "model_module_version": "1.2.0",
     "model_name": "LayoutModel",
     "state": {
      "_model_module": "@jupyter-widgets/base",
      "_model_module_version": "1.2.0",
      "_model_name": "LayoutModel",
      "_view_count": null,
      "_view_module": "@jupyter-widgets/base",
      "_view_module_version": "1.2.0",
      "_view_name": "LayoutView",
      "align_content": null,
      "align_items": null,
      "align_self": null,
      "border": null,
      "bottom": null,
      "display": null,
      "flex": null,
      "flex_flow": null,
      "grid_area": null,
      "grid_auto_columns": null,
      "grid_auto_flow": null,
      "grid_auto_rows": null,
      "grid_column": null,
      "grid_gap": null,
      "grid_row": null,
      "grid_template_areas": null,
      "grid_template_columns": null,
      "grid_template_rows": null,
      "height": null,
      "justify_content": null,
      "justify_items": null,
      "left": null,
      "margin": null,
      "max_height": null,
      "max_width": null,
      "min_height": null,
      "min_width": null,
      "object_fit": null,
      "object_position": null,
      "order": null,
      "overflow": null,
      "overflow_x": null,
      "overflow_y": null,
      "padding": null,
      "right": null,
      "top": null,
      "visibility": null,
      "width": null
     }
    },
    "dd1d25dc841745bbb3371196e9b70f66": {
     "model_module": "@jupyter-widgets/base",
     "model_module_version": "1.2.0",
     "model_name": "LayoutModel",
     "state": {
      "_model_module": "@jupyter-widgets/base",
      "_model_module_version": "1.2.0",
      "_model_name": "LayoutModel",
      "_view_count": null,
      "_view_module": "@jupyter-widgets/base",
      "_view_module_version": "1.2.0",
      "_view_name": "LayoutView",
      "align_content": null,
      "align_items": null,
      "align_self": null,
      "border": null,
      "bottom": null,
      "display": null,
      "flex": null,
      "flex_flow": null,
      "grid_area": null,
      "grid_auto_columns": null,
      "grid_auto_flow": null,
      "grid_auto_rows": null,
      "grid_column": null,
      "grid_gap": null,
      "grid_row": null,
      "grid_template_areas": null,
      "grid_template_columns": null,
      "grid_template_rows": null,
      "height": null,
      "justify_content": null,
      "justify_items": null,
      "left": null,
      "margin": null,
      "max_height": null,
      "max_width": null,
      "min_height": null,
      "min_width": null,
      "object_fit": null,
      "object_position": null,
      "order": null,
      "overflow": null,
      "overflow_x": null,
      "overflow_y": null,
      "padding": null,
      "right": null,
      "top": null,
      "visibility": null,
      "width": null
     }
    },
    "de78fa13d4f64e2f973023bce392f34c": {
     "model_module": "@jupyter-widgets/controls",
     "model_module_version": "1.5.0",
     "model_name": "HTMLModel",
     "state": {
      "_dom_classes": [],
      "_model_module": "@jupyter-widgets/controls",
      "_model_module_version": "1.5.0",
      "_model_name": "HTMLModel",
      "_view_count": null,
      "_view_module": "@jupyter-widgets/controls",
      "_view_module_version": "1.5.0",
      "_view_name": "HTMLView",
      "description": "",
      "description_tooltip": null,
      "layout": "IPY_MODEL_0162b1b778fa4d1c8b91fb40f87dcb29",
      "placeholder": "​",
      "style": "IPY_MODEL_b0d72e8edcc1493eae052db8cbc90315",
      "value": " 124/124 [00:00&lt;00:00, 10.9kB/s]"
     }
    },
    "e3ad0119d31d41ca87d71be9835a69b2": {
     "model_module": "@jupyter-widgets/controls",
     "model_module_version": "1.5.0",
     "model_name": "ProgressStyleModel",
     "state": {
      "_model_module": "@jupyter-widgets/controls",
      "_model_module_version": "1.5.0",
      "_model_name": "ProgressStyleModel",
      "_view_count": null,
      "_view_module": "@jupyter-widgets/base",
      "_view_module_version": "1.2.0",
      "_view_name": "StyleView",
      "bar_color": null,
      "description_width": ""
     }
    },
    "ec5261ccb5c247bbb3e7ea20ea067b82": {
     "model_module": "@jupyter-widgets/controls",
     "model_module_version": "1.5.0",
     "model_name": "HBoxModel",
     "state": {
      "_dom_classes": [],
      "_model_module": "@jupyter-widgets/controls",
      "_model_module_version": "1.5.0",
      "_model_name": "HBoxModel",
      "_view_count": null,
      "_view_module": "@jupyter-widgets/controls",
      "_view_module_version": "1.5.0",
      "_view_name": "HBoxView",
      "box_style": "",
      "children": [
       "IPY_MODEL_f58ceaf1580f4e7d9d5a9c045659b421",
       "IPY_MODEL_10c86216a57b485a97cb026489d3953a",
       "IPY_MODEL_3962b0147c4547108a04811cbdb38660"
      ],
      "layout": "IPY_MODEL_76555a4e7a37440ba5f7717f161f5741"
     }
    },
    "f58ceaf1580f4e7d9d5a9c045659b421": {
     "model_module": "@jupyter-widgets/controls",
     "model_module_version": "1.5.0",
     "model_name": "HTMLModel",
     "state": {
      "_dom_classes": [],
      "_model_module": "@jupyter-widgets/controls",
      "_model_module_version": "1.5.0",
      "_model_name": "HTMLModel",
      "_view_count": null,
      "_view_module": "@jupyter-widgets/controls",
      "_view_module_version": "1.5.0",
      "_view_name": "HTMLView",
      "description": "",
      "description_tooltip": null,
      "layout": "IPY_MODEL_9ec1c0a6d3d240f7bd85d2cc01619666",
      "placeholder": "​",
      "style": "IPY_MODEL_72dc42d1fc504399b2aeacf912af01c6",
      "value": "tokenizer_config.json: 100%"
     }
    },
    "ff26057bdc8e463faac926ed323d502a": {
     "model_module": "@jupyter-widgets/controls",
     "model_module_version": "1.5.0",
     "model_name": "HTMLModel",
     "state": {
      "_dom_classes": [],
      "_model_module": "@jupyter-widgets/controls",
      "_model_module_version": "1.5.0",
      "_model_name": "HTMLModel",
      "_view_count": null,
      "_view_module": "@jupyter-widgets/controls",
      "_view_module_version": "1.5.0",
      "_view_name": "HTMLView",
      "description": "",
      "description_tooltip": null,
      "layout": "IPY_MODEL_c3913ce3fbfd45af9c3423b260162ea3",
      "placeholder": "​",
      "style": "IPY_MODEL_bf5201cf1939451f8eca3fb7d5cc530d",
      "value": "config.json: 100%"
     }
    }
   }
  }
 },
 "nbformat": 4,
 "nbformat_minor": 4
}
